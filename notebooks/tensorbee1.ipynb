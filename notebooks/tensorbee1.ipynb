{
 "cells": [
  {
   "cell_type": "markdown",
   "metadata": {},
   "source": [
    "### Data Mining and Machine Learning\n",
    "### Using Tensorboard to compare PCA and TSNE\n",
    "#### Edgar Acuna\n",
    "#### Dataset: Bees_2p Supervised. The metadata.tsv file contains the labels\n",
    "####  February 2020"
   ]
  },
  {
   "cell_type": "code",
   "execution_count": 1,
   "metadata": {},
   "outputs": [
    {
     "name": "stdout",
     "output_type": "stream",
     "text": [
      "WARNING:tensorflow:From C:\\Users\\eacun\\Anaconda3\\lib\\site-packages\\tensorflow\\python\\framework\\op_def_library.py:263: colocate_with (from tensorflow.python.framework.ops) is deprecated and will be removed in a future version.\n",
      "Instructions for updating:\n",
      "Colocations handled automatically by placer.\n"
     ]
    }
   ],
   "source": [
    "import os\n",
    "import numpy as np\n",
    "import tensorflow as tf\n",
    "from tensorflow.contrib.tensorboard.plugins import projector\n",
    "import pandas as pd\n",
    "\n",
    "PATH=os.getcwd()\n",
    "LOG_DIR = PATH+'/logs3'\n",
    "\n",
    "X_train = pd.read_csv(\"c://proybees/bees_2p.csv\")\n",
    "X_train=X_train.iloc[:,3:22]\n",
    "#metadata = os.path.join(LOG_DIR, 'metadata.tsv')\n",
    "metadata=\"c://users/eacun/logs3/metadata.tsv\"\n",
    "print\n",
    "images = tf.Variable(X_train, name='images')\n",
    "\n",
    "with tf.Session() as sess:\n",
    "    saver = tf.train.Saver([images])\n",
    "\n",
    "    sess.run(images.initializer)\n",
    "    saver.save(sess, os.path.join(LOG_DIR, 'images.ckpt'))\n",
    "    config = projector.ProjectorConfig()\n",
    "    embedding = config.embeddings.add()\n",
    "    # Link this tensor to its metadata(Labels) file\n",
    "    embedding.metadata_path = metadata\n",
    "    # Saves a config file that TensorBoard will read during startup.\n",
    "    projector.visualize_embeddings(tf.summary.FileWriter(LOG_DIR), config)\n"
   ]
  },
  {
   "cell_type": "markdown",
   "metadata": {},
   "source": [
    "#### To see the graph:\n",
    "#### Give the command tensorboard --logdir=/path-to-log/logs\n",
    "#### Then open the browser that the above command shows "
   ]
  },
  {
   "cell_type": "code",
   "execution_count": null,
   "metadata": {},
   "outputs": [],
   "source": []
  }
 ],
 "metadata": {
  "kernelspec": {
   "display_name": "Python 3",
   "language": "python",
   "name": "python3"
  },
  "language_info": {
   "codemirror_mode": {
    "name": "ipython",
    "version": 3
   },
   "file_extension": ".py",
   "mimetype": "text/x-python",
   "name": "python",
   "nbconvert_exporter": "python",
   "pygments_lexer": "ipython3",
   "version": "3.7.3"
  }
 },
 "nbformat": 4,
 "nbformat_minor": 2
}
