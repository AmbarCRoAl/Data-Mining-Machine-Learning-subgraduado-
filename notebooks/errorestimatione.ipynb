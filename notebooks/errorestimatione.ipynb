{
 "cells": [
  {
   "cell_type": "markdown",
   "metadata": {},
   "source": [
    "## Data Mining and Machine Learning\n",
    "### Edgar Acuna\n",
    "### Error Estimation (Prediction Estimation)\n",
    "#### March 2019"
   ]
  },
  {
   "cell_type": "markdown",
   "metadata": {},
   "source": [
    "### Error Estimation using Cross validation. Dataset Diabetes"
   ]
  },
  {
   "cell_type": "code",
   "execution_count": 29,
   "metadata": {},
   "outputs": [],
   "source": [
    "#Ejemplo de estimacion de la prediccion por Validacion Cruzada\n",
    "#usando el clasifidor LDA y la base de datos Diabetes\n",
    "import numpy as np\n",
    "import pandas as pd\n",
    "from sklearn.model_selection import train_test_split\n",
    "from sklearn.model_selection import ShuffleSplit\n",
    "from sklearn.metrics import recall_score, f1_score\n",
    "from sklearn.discriminant_analysis import LinearDiscriminantAnalysis\n",
    "from sklearn.model_selection import LeaveOneOut\n",
    "import warnings\n",
    "warnings.filterwarnings('ignore')"
   ]
  },
  {
   "cell_type": "code",
   "execution_count": 30,
   "metadata": {},
   "outputs": [],
   "source": [
    "names= ['v1', 'v2', 'v3', 'v4', 'v5', 'v6', 'v7','V8','class']\n",
    "diab=pd.read_table(\"http://academic.uprm.edu/eacuna/diabetes.dat\",header=None,names=names)"
   ]
  },
  {
   "cell_type": "code",
   "execution_count": 31,
   "metadata": {},
   "outputs": [
    {
     "data": {
      "text/plain": [
       "class\n",
       "1    0.651042\n",
       "2    0.348958\n",
       "dtype: float64"
      ]
     },
     "execution_count": 31,
     "metadata": {},
     "output_type": "execute_result"
    }
   ],
   "source": [
    "diab.groupby('class').size()/len(diab)"
   ]
  },
  {
   "cell_type": "code",
   "execution_count": 32,
   "metadata": {},
   "outputs": [],
   "source": [
    "#Obteniendo el vector de clases y la matriz de predictoras\n",
    "y=diab[\"class\"]\n",
    "y.count()\n",
    "X=diab.iloc[:,0:8]\n",
    "y1=y.as_matrix()\n",
    "X1=X.as_matrix()"
   ]
  },
  {
   "cell_type": "markdown",
   "metadata": {},
   "source": [
    "#### Estimating the error by resubstitution "
   ]
  },
  {
   "cell_type": "code",
   "execution_count": 33,
   "metadata": {},
   "outputs": [
    {
     "data": {
      "text/plain": [
       "0.7838541666666666"
      ]
     },
     "execution_count": 33,
     "metadata": {},
     "output_type": "execute_result"
    }
   ],
   "source": [
    "#Haciendo el analisis discriminante y calculando el porcentaje de precision\n",
    "ldadis = LinearDiscriminantAnalysis().fit(X1,y1)\n",
    "#Tasa de precision\n",
    "ldadis.score(X1, y1)"
   ]
  },
  {
   "cell_type": "code",
   "execution_count": 34,
   "metadata": {},
   "outputs": [
    {
     "data": {
      "text/plain": [
       "0.892"
      ]
     },
     "execution_count": 34,
     "metadata": {},
     "output_type": "execute_result"
    }
   ],
   "source": [
    "#Computing the recall\n",
    "pred=ldadis.predict(X1)\n",
    "recall_score(y1,pred)"
   ]
  },
  {
   "cell_type": "code",
   "execution_count": 35,
   "metadata": {},
   "outputs": [
    {
     "data": {
      "text/plain": [
       "0.8431001890359168"
      ]
     },
     "execution_count": 35,
     "metadata": {},
     "output_type": "execute_result"
    }
   ],
   "source": [
    "#computing f1 score\n",
    "f1_score(y1,pred)"
   ]
  },
  {
   "cell_type": "code",
   "execution_count": 36,
   "metadata": {},
   "outputs": [
    {
     "data": {
      "text/plain": [
       "array([0.74025974, 0.75324675, 0.80519481, 0.72727273, 0.72727273,\n",
       "       0.77922078, 0.80519481, 0.80519481, 0.76315789, 0.82894737])"
      ]
     },
     "execution_count": 36,
     "metadata": {},
     "output_type": "execute_result"
    }
   ],
   "source": [
    "#Estimando la precision  por validacion cruzada\n",
    "from sklearn.model_selection import cross_val_score\n",
    "clf = LinearDiscriminantAnalysis()\n",
    "scores = cross_val_score(clf, X1, y1, cv=10)\n",
    "scores   "
   ]
  },
  {
   "cell_type": "code",
   "execution_count": 37,
   "metadata": {},
   "outputs": [
    {
     "name": "stdout",
     "output_type": "stream",
     "text": [
      "CV Accuracy: 0.773 (+/- 0.069)\n"
     ]
    }
   ],
   "source": [
    "#Hallando la precision media y un intervalo de confianza \n",
    "print(\"CV Accuracy: %0.3f (+/- %0.3f)\" % (scores.mean(), scores.std() * 2))"
   ]
  },
  {
   "cell_type": "code",
   "execution_count": 38,
   "metadata": {},
   "outputs": [
    {
     "name": "stdout",
     "output_type": "stream",
     "text": [
      "Accuracy by cross validacion= 0.7709563164108618 +/- 0.046881866657211696\n"
     ]
    }
   ],
   "source": [
    "#Tasa de precision usando validacion cruzada usando 10 repeticiones con 10 folds cada una\n",
    "clf = LinearDiscriminantAnalysis()\n",
    "pred1=[]\n",
    "for i in range (0,11):\n",
    "    cv = ShuffleSplit()\n",
    "    scores = cross_val_score(clf, X1,y1, cv=cv)\n",
    "    pred1.append(scores)\n",
    "print (\"Accuracy by cross validacion=\", np.mean(pred1),\"+/-\",np.std(pred1))"
   ]
  },
  {
   "cell_type": "markdown",
   "metadata": {},
   "source": [
    "### Error Estimation by the holdout method"
   ]
  },
  {
   "cell_type": "code",
   "execution_count": 39,
   "metadata": {},
   "outputs": [
    {
     "data": {
      "text/plain": [
       "0.7792207792207793"
      ]
     },
     "execution_count": 39,
     "metadata": {},
     "output_type": "execute_result"
    }
   ],
   "source": [
    "#Estimando el error por el metodo holdout\n",
    "X_train, X_test, y_train, y_test = train_test_split(X1, y1, test_size=0.3,random_state=0)\n",
    "X_train, y_train\n",
    "\n",
    "X_test, y_test\n",
    "\n",
    "ldadiab = LinearDiscriminantAnalysis().fit(X_train, y_train)\n",
    "ldadiab.score(X_test, y_test)"
   ]
  },
  {
   "cell_type": "code",
   "execution_count": 40,
   "metadata": {},
   "outputs": [
    {
     "name": "stdout",
     "output_type": "stream",
     "text": [
      "[0.7755905511811023, 0.7952755905511811, 0.7519685039370079, 0.7913385826771654, 0.7480314960629921, 0.7716535433070866, 0.7834645669291339, 0.7874015748031497, 0.7204724409448819, 0.7834645669291339, 0.7480314960629921, 0.7362204724409449, 0.7519685039370079, 0.7755905511811023, 0.7992125984251969, 0.7755905511811023, 0.7637795275590551, 0.8110236220472441, 0.7992125984251969, 0.7519685039370079, 0.7874015748031497, 0.8267716535433071, 0.7716535433070866, 0.7322834645669292, 0.7795275590551181, 0.7598425196850394, 0.7874015748031497, 0.7755905511811023, 0.7795275590551181, 0.8031496062992126, 0.7874015748031497, 0.7755905511811023, 0.7637795275590551, 0.7716535433070866, 0.7677165354330708, 0.7716535433070866, 0.7637795275590551, 0.7795275590551181, 0.7440944881889764, 0.7519685039370079, 0.7874015748031497, 0.7992125984251969, 0.7874015748031497, 0.7519685039370079, 0.7913385826771654, 0.7401574803149606, 0.7401574803149606, 0.7519685039370079, 0.7952755905511811, 0.7677165354330708, 0.7834645669291339]\n",
      "Accuracy by holdout: 0.773 (+/- 0.022)\n"
     ]
    }
   ],
   "source": [
    "#Estimando la precision por el metodo holdout con 50 muestras\n",
    "pred=[]\n",
    "for i in range(0,51):\n",
    "    X_train, X_test, y_train, y_test = train_test_split(X1, y1, test_size=0.33)\n",
    "    ldadiab = LinearDiscriminantAnalysis().fit(X_train, y_train)\n",
    "    pred.append(ldadiab.score(X_test, y_test))\n",
    "print(pred)\n",
    "print(\"Accuracy by holdout: %0.3f (+/- %0.3f)\" % (np.mean(pred), np.std(pred)))"
   ]
  },
  {
   "cell_type": "markdown",
   "metadata": {},
   "source": [
    "### Error Estimation for the Vehicle dataset"
   ]
  },
  {
   "cell_type": "code",
   "execution_count": 41,
   "metadata": {
    "scrolled": true
   },
   "outputs": [
    {
     "name": "stdout",
     "output_type": "stream",
     "text": [
      "<class 'pandas.core.frame.DataFrame'>\n",
      "RangeIndex: 846 entries, 0 to 845\n",
      "Data columns (total 19 columns):\n",
      "COMPACTNESS                  846 non-null int64\n",
      "CIRCULARITY                  846 non-null int64\n",
      "DISTANCE_CIRCULARITY         846 non-null int64\n",
      "RADIUS_RATIO                 846 non-null int64\n",
      "PR.AXIS_ASPECT_RATIO         846 non-null int64\n",
      "MAX.LENGTH_ASPECT_RATIO      846 non-null int64\n",
      "SCATTER_RATIO                846 non-null int64\n",
      "ELONGATEDNESS                846 non-null int64\n",
      "PR.AXIS_RECTANGULARITY       846 non-null int64\n",
      "MAX.LENGTH_RECTANGULARITY    846 non-null int64\n",
      "SCALED_VARIANCE_MAJOR        846 non-null int64\n",
      "SCALED_VARIANCE_MINOR        846 non-null int64\n",
      "SCALED_RADIUS_OF_GYRATION    846 non-null int64\n",
      "SKEWNESS_ABOUT_MAJOR         846 non-null int64\n",
      "SKEWNESS_ABOUT_MINOR         846 non-null int64\n",
      "KURTOSIS_ABOUT_MAJOR         846 non-null int64\n",
      "KURTOSIS_ABOUT_MINOR         846 non-null int64\n",
      "HOLLOWS_RATIO                846 non-null int64\n",
      "Class                        846 non-null object\n",
      "dtypes: int64(18), object(1)\n",
      "memory usage: 125.7+ KB\n"
     ]
    }
   ],
   "source": [
    "#Ejemplo2. Leyendo los datos de vehiculos que tienen 4 clases y 18 predictoras\n",
    "df1=pd.read_csv(\"c://PW-PR/vehicle.csv\")\n",
    "df1.info()"
   ]
  },
  {
   "cell_type": "code",
   "execution_count": 42,
   "metadata": {},
   "outputs": [],
   "source": [
    "#Convirtiendo en matriz la tabla de predictoras y la columna de clases\n",
    "y=df1['Class']\n",
    "X=df1.iloc[:,0:18]\n",
    "y1=y.as_matrix()\n",
    "X1=X.as_matrix()"
   ]
  },
  {
   "cell_type": "code",
   "execution_count": 43,
   "metadata": {},
   "outputs": [
    {
     "data": {
      "text/plain": [
       "0.7978723404255319"
      ]
     },
     "execution_count": 43,
     "metadata": {},
     "output_type": "execute_result"
    }
   ],
   "source": [
    "#Haciendo el analisis discriminante y calculando el porcentaje de precision\n",
    "ldadis = LinearDiscriminantAnalysis().fit(X1,y1)\n",
    "#Tasa de precision\n",
    "ldadis.score(X1, y1)"
   ]
  },
  {
   "cell_type": "code",
   "execution_count": 44,
   "metadata": {},
   "outputs": [
    {
     "data": {
      "text/plain": [
       "array([0.79069767, 0.74418605, 0.72941176, 0.77647059, 0.76470588,\n",
       "       0.78823529, 0.82352941, 0.82142857, 0.73493976, 0.84146341])"
      ]
     },
     "execution_count": 44,
     "metadata": {},
     "output_type": "execute_result"
    }
   ],
   "source": [
    "#Estimando la precision  por validacion cruzada\n",
    "from sklearn.model_selection import cross_val_score\n",
    "clf = LinearDiscriminantAnalysis()\n",
    "scores = cross_val_score(clf, X1, y1, cv=10)\n",
    "scores   "
   ]
  },
  {
   "cell_type": "code",
   "execution_count": 45,
   "metadata": {},
   "outputs": [
    {
     "name": "stdout",
     "output_type": "stream",
     "text": [
      "Accuracy: 0.78 (+/- 0.07)\n"
     ]
    }
   ],
   "source": [
    "#Hallando la precision media y un intervalo de confianza \n",
    "print(\"Accuracy: %0.2f (+/- %0.2f)\" % (scores.mean(), scores.std() * 2))"
   ]
  },
  {
   "cell_type": "code",
   "execution_count": 46,
   "metadata": {},
   "outputs": [
    {
     "data": {
      "text/plain": [
       "0.7874015748031497"
      ]
     },
     "execution_count": 46,
     "metadata": {},
     "output_type": "execute_result"
    }
   ],
   "source": [
    "#Estimando el error por el metodo holdout\n",
    "X_train, X_test, y_train, y_test = train_test_split(X1, y1, test_size=0.3, random_state=0)\n",
    "X_train, y_train\n",
    "\n",
    "X_test, y_test\n",
    "\n",
    "ldaveh = LinearDiscriminantAnalysis().fit(X_train, y_train)\n",
    "ldaveh.score(X_test, y_test)"
   ]
  },
  {
   "cell_type": "code",
   "execution_count": null,
   "metadata": {},
   "outputs": [],
   "source": []
  }
 ],
 "metadata": {
  "kernelspec": {
   "display_name": "Python 3",
   "language": "python",
   "name": "python3"
  },
  "language_info": {
   "codemirror_mode": {
    "name": "ipython",
    "version": 3
   },
   "file_extension": ".py",
   "mimetype": "text/x-python",
   "name": "python",
   "nbconvert_exporter": "python",
   "pygments_lexer": "ipython3",
   "version": "3.7.3"
  }
 },
 "nbformat": 4,
 "nbformat_minor": 2
}
