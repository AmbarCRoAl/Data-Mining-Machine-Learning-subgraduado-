{
 "cells": [
  {
   "cell_type": "markdown",
   "metadata": {},
   "source": [
    "### ESMA 4016\n",
    "### Clasificacion usando Neural Networks y Deep Learning\n",
    "#### Edgar Acuna "
   ]
  },
  {
   "cell_type": "code",
   "execution_count": 11,
   "metadata": {
    "collapsed": true
   },
   "outputs": [],
   "source": [
    "import numpy as np\n",
    "import pandas as pd\n",
    "from sklearn.preprocessing import LabelEncoder\n",
    "from sklearn.model_selection import train_test_split\n",
    "from sklearn.neural_network import MLPClassifier\n",
    "from sklearn.metrics import classification_report, confusion_matrix\n",
    "from sklearn.preprocessing import StandardScaler\n",
    "import matplotlib.pyplot as plt\n",
    "%matplotlib inline"
   ]
  },
  {
   "cell_type": "markdown",
   "metadata": {},
   "source": [
    "#### Ejemplo1. Neural Nets aplicado a  los datos de las notas en un curso, usando como predictoras E1 y E2"
   ]
  },
  {
   "cell_type": "code",
   "execution_count": 12,
   "metadata": {
    "collapsed": true
   },
   "outputs": [],
   "source": [
    "df=pd.read_csv(\"http://academic.uprm.edu/eacuna/eje1dis.csv\")"
   ]
  },
  {
   "cell_type": "code",
   "execution_count": 13,
   "metadata": {},
   "outputs": [
    {
     "name": "stderr",
     "output_type": "stream",
     "text": [
      "C:\\Users\\edgar2017\\Anaconda2\\envs\\ipykernel_py2\\lib\\site-packages\\sklearn\\utils\\validation.py:475: DataConversionWarning: Data with input dtype int64 was converted to float64 by StandardScaler.\n",
      "  warnings.warn(msg, DataConversionWarning)\n"
     ]
    }
   ],
   "source": [
    "#Convirtiendo en matriz la tabla de predictoras y la columna de clases\n",
    "y=df['Nota']\n",
    "X=df.iloc[:,0:2]\n",
    "#creando una columna \"pass\" numerica para representar las clases\n",
    "lb_make = LabelEncoder()\n",
    "df[\"pass\"] = lb_make.fit_transform(df[\"Nota\"])\n",
    "y2=df['pass']\n",
    "y1=y2.as_matrix()\n",
    "X1=X.as_matrix()\n",
    "scaler = StandardScaler()\n",
    "scaler.fit(X1)\n",
    "StandardScaler(copy=True, with_mean=True, with_std=True)\n",
    "X1= scaler.transform(X1)"
   ]
  },
  {
   "cell_type": "code",
   "execution_count": 14,
   "metadata": {},
   "outputs": [
    {
     "name": "stdout",
     "output_type": "stream",
     "text": [
      "[1 1 1 1 1 1 1 1 1 1 1 1 1 1 1 1 1 1 1 1 1 1 1 1 0 0 0 0 0 0 0 0]\n"
     ]
    }
   ],
   "source": [
    "print y1"
   ]
  },
  {
   "cell_type": "code",
   "execution_count": 15,
   "metadata": {},
   "outputs": [
    {
     "name": "stdout",
     "output_type": "stream",
     "text": [
      "[[ 1.63786386  1.38369921]\n",
      " [ 1.63786386  1.15427758]\n",
      " [ 1.90561172  1.03956676]\n",
      " [ 1.43705297  1.23075145]\n",
      " [ 1.23624207  1.15427758]\n",
      " [ 0.2321876   0.73367125]\n",
      " [ 0.2321876   1.34546227]\n",
      " [-0.50411902  1.11604064]\n",
      " [ 1.16930511 -0.33696302]\n",
      " [-0.97267777  1.15427758]\n",
      " [-0.10249723  0.77190819]\n",
      " [-1.84285831  0.96309288]\n",
      " [-0.63799295 -0.03106751]\n",
      " [ 0.29912456  0.77190819]\n",
      " [ 0.09831367  1.00132982]\n",
      " [ 0.29912456 -1.29288648]\n",
      " [-0.16943419  0.12188024]\n",
      " [ 0.43299849 -0.26048914]\n",
      " [ 0.90155725 -1.48407117]\n",
      " [-0.30330812 -0.03106751]\n",
      " [-0.50411902 -0.60462159]\n",
      " [-0.37024509 -0.48991077]\n",
      " [ 0.49993546 -0.68109546]\n",
      " [-0.16943419  0.38953881]\n",
      " [-1.37429956 -0.56638465]\n",
      " [-2.31141707 -0.87228016]\n",
      " [-0.30330812 -0.94875403]\n",
      " [ 0.2321876  -1.52230811]\n",
      " [-0.63799295 -0.98699097]\n",
      " [-0.97267777 -1.44583423]\n",
      " [ 0.36606153 -1.75172974]\n",
      " [-1.44123653 -1.02522791]]\n"
     ]
    }
   ],
   "source": [
    "print X1"
   ]
  },
  {
   "cell_type": "code",
   "execution_count": 16,
   "metadata": {},
   "outputs": [
    {
     "name": "stderr",
     "output_type": "stream",
     "text": [
      "C:\\Users\\edgar2017\\Anaconda2\\envs\\ipykernel_py2\\lib\\site-packages\\sklearn\\neural_network\\multilayer_perceptron.py:564: ConvergenceWarning: Stochastic Optimizer: Maximum iterations (500) reached and the optimization hasn't converged yet.\n",
      "  % self.max_iter, ConvergenceWarning)\n"
     ]
    },
    {
     "data": {
      "text/plain": [
       "MLPClassifier(activation='relu', alpha=0.0001, batch_size='auto', beta_1=0.9,\n",
       "       beta_2=0.999, early_stopping=False, epsilon=1e-08,\n",
       "       hidden_layer_sizes=10, learning_rate='constant',\n",
       "       learning_rate_init=0.001, max_iter=500, momentum=0.9,\n",
       "       nesterovs_momentum=True, power_t=0.5, random_state=None,\n",
       "       shuffle=True, solver='adam', tol=0.0001, validation_fraction=0.1,\n",
       "       verbose=False, warm_start=False)"
      ]
     },
     "execution_count": 16,
     "metadata": {},
     "output_type": "execute_result"
    }
   ],
   "source": [
    "#Haciendo el knn con tres vecinos y calculando el porcentaje de precision\n",
    "mlp = MLPClassifier(hidden_layer_sizes=(10),max_iter=500)\n",
    "mlp.fit(X1, y1) "
   ]
  },
  {
   "cell_type": "code",
   "execution_count": 17,
   "metadata": {},
   "outputs": [
    {
     "data": {
      "text/plain": [
       "[array([[-1.13172203, -0.05388831, -0.11737737,  0.09583503, -0.01988369,\n",
       "          0.33400759, -0.30015478,  0.39401325,  0.96306179,  0.42564816],\n",
       "        [-1.02639887,  0.63587882,  0.80852073,  0.29215627,  0.72042442,\n",
       "         -0.23458638, -0.53436014,  0.63660202, -0.03455606, -0.65490891]]),\n",
       " array([[-0.62612131],\n",
       "        [ 0.58069066],\n",
       "        [ 0.38263586],\n",
       "        [-0.23231969],\n",
       "        [ 0.81638603],\n",
       "        [ 0.47912857],\n",
       "        [-1.23913837],\n",
       "        [ 0.55593311],\n",
       "        [ 0.89700275],\n",
       "        [-0.40393695]])]"
      ]
     },
     "execution_count": 17,
     "metadata": {},
     "output_type": "execute_result"
    }
   ],
   "source": [
    "mlp.coefs_"
   ]
  },
  {
   "cell_type": "code",
   "execution_count": 18,
   "metadata": {},
   "outputs": [
    {
     "data": {
      "text/plain": [
       "[array([ 0.05880646,  0.98072203,  1.01910204, -0.60225204,  0.58358238,\n",
       "         0.36578526,  0.05755048,  0.97083283,  0.31869572, -0.16334331]),\n",
       " array([ 0.61617183])]"
      ]
     },
     "execution_count": 18,
     "metadata": {},
     "output_type": "execute_result"
    }
   ],
   "source": [
    "mlp.intercepts_"
   ]
  },
  {
   "cell_type": "code",
   "execution_count": 19,
   "metadata": {},
   "outputs": [
    {
     "name": "stdout",
     "output_type": "stream",
     "text": [
      "[[ 8  0]\n",
      " [ 0 24]]\n"
     ]
    }
   ],
   "source": [
    "#Calculando las predicciones\n",
    "pred=mlp.predict(X1)\n",
    "print(confusion_matrix(y1,pred))"
   ]
  },
  {
   "cell_type": "code",
   "execution_count": 20,
   "metadata": {},
   "outputs": [
    {
     "name": "stdout",
     "output_type": "stream",
     "text": [
      "             precision    recall  f1-score   support\n",
      "\n",
      "          0       1.00      1.00      1.00         8\n",
      "          1       1.00      1.00      1.00        24\n",
      "\n",
      "avg / total       1.00      1.00      1.00        32\n",
      "\n"
     ]
    }
   ],
   "source": [
    "print(classification_report(y1,pred))"
   ]
  },
  {
   "cell_type": "code",
   "execution_count": 21,
   "metadata": {},
   "outputs": [
    {
     "name": "stdout",
     "output_type": "stream",
     "text": [
      "Este es el numero de errores= 0\n"
     ]
    }
   ],
   "source": [
    "#Calculando los errores\n",
    "error=(y1!=pred).sum()\n",
    "print \"Este es el numero de errores=\", error"
   ]
  },
  {
   "cell_type": "code",
   "execution_count": 22,
   "metadata": {},
   "outputs": [
    {
     "data": {
      "image/png": "[encoded data removed]",
      "text/plain": [
       "<matplotlib.figure.Figure at 0x6a89e80>"
      ]
     },
     "metadata": {},
     "output_type": "display_data"
    }
   ],
   "source": [
    "#Visualizando la fromtera de decision\n",
    "from matplotlib.colors import ListedColormap\n",
    "mlp = MLPClassifier(hidden_layer_sizes=(10),max_iter=500)\n",
    "mlp.fit(X1, y1) \n",
    "eje1=np.arange(start = X1[:, 0].min()-1, stop = X1[:, 0].max() + 1, step = 0.1)\n",
    "eje2=np.arange(start = X1[:, 1].min()-1, stop = X1[:, 1].max() + 1, step = 0.11)\n",
    "Y1, Y2 = np.meshgrid(eje1,eje2)\n",
    "pred2=mlp.predict(np.c_[Y1.ravel(), Y2.ravel()]).reshape(Y1.shape)\n",
    "plt.figure(figsize=(10, 10))\n",
    "plt.pcolormesh(Y1, Y2, pred2,cmap=plt.cm.Paired)\n",
    "# Plot also the training points#\n",
    "plt.scatter(X1[:, 0], X1[:, 1], c=y2, edgecolors='k')\n",
    "plt.xlabel('Ex1')\n",
    "plt.ylabel('Ex2')\n",
    "plt.xlim(Y1.min(), Y1.max())\n",
    "plt.ylim(Y2.min(), Y2.max())\n",
    "plt.xticks(())\n",
    "plt.yticks(())\n",
    "\n",
    "plt.show()"
   ]
  },
  {
   "cell_type": "markdown",
   "metadata": {},
   "source": [
    "#### Ejemplo 2. Nnets aplicado a Diabetes"
   ]
  },
  {
   "cell_type": "code",
   "execution_count": 23,
   "metadata": {},
   "outputs": [
    {
     "name": "stdout",
     "output_type": "stream",
     "text": [
      "(768, 9)\n"
     ]
    },
    {
     "data": {
      "text/html": [
       "<div>\n",
       "<style scoped>\n",
       "    .dataframe tbody tr th:only-of-type {\n",
       "        vertical-align: middle;\n",
       "    }\n",
       "\n",
       "    .dataframe tbody tr th {\n",
       "        vertical-align: top;\n",
       "    }\n",
       "\n",
       "    .dataframe thead th {\n",
       "        text-align: right;\n",
       "    }\n",
       "</style>\n",
       "<table border=\"1\" class=\"dataframe\">\n",
       "  <thead>\n",
       "    <tr style=\"text-align: right;\">\n",
       "      <th></th>\n",
       "      <th>preg</th>\n",
       "      <th>plas</th>\n",
       "      <th>pres</th>\n",
       "      <th>skin</th>\n",
       "      <th>test</th>\n",
       "      <th>mass</th>\n",
       "      <th>pedi</th>\n",
       "      <th>age</th>\n",
       "      <th>class</th>\n",
       "    </tr>\n",
       "  </thead>\n",
       "  <tbody>\n",
       "    <tr>\n",
       "      <th>0</th>\n",
       "      <td>6</td>\n",
       "      <td>148</td>\n",
       "      <td>72</td>\n",
       "      <td>35</td>\n",
       "      <td>0</td>\n",
       "      <td>33.6</td>\n",
       "      <td>0.627</td>\n",
       "      <td>50</td>\n",
       "      <td>2</td>\n",
       "    </tr>\n",
       "    <tr>\n",
       "      <th>1</th>\n",
       "      <td>1</td>\n",
       "      <td>85</td>\n",
       "      <td>66</td>\n",
       "      <td>29</td>\n",
       "      <td>0</td>\n",
       "      <td>26.6</td>\n",
       "      <td>0.351</td>\n",
       "      <td>31</td>\n",
       "      <td>1</td>\n",
       "    </tr>\n",
       "    <tr>\n",
       "      <th>2</th>\n",
       "      <td>8</td>\n",
       "      <td>183</td>\n",
       "      <td>64</td>\n",
       "      <td>0</td>\n",
       "      <td>0</td>\n",
       "      <td>23.3</td>\n",
       "      <td>0.672</td>\n",
       "      <td>32</td>\n",
       "      <td>2</td>\n",
       "    </tr>\n",
       "    <tr>\n",
       "      <th>3</th>\n",
       "      <td>1</td>\n",
       "      <td>89</td>\n",
       "      <td>66</td>\n",
       "      <td>23</td>\n",
       "      <td>94</td>\n",
       "      <td>28.1</td>\n",
       "      <td>0.167</td>\n",
       "      <td>21</td>\n",
       "      <td>1</td>\n",
       "    </tr>\n",
       "    <tr>\n",
       "      <th>4</th>\n",
       "      <td>0</td>\n",
       "      <td>137</td>\n",
       "      <td>40</td>\n",
       "      <td>35</td>\n",
       "      <td>168</td>\n",
       "      <td>43.1</td>\n",
       "      <td>2.288</td>\n",
       "      <td>33</td>\n",
       "      <td>2</td>\n",
       "    </tr>\n",
       "  </tbody>\n",
       "</table>\n",
       "</div>"
      ],
      "text/plain": [
       "   preg  plas  pres  skin  test  mass   pedi  age  class\n",
       "0     6   148    72    35     0  33.6  0.627   50      2\n",
       "1     1    85    66    29     0  26.6  0.351   31      1\n",
       "2     8   183    64     0     0  23.3  0.672   32      2\n",
       "3     1    89    66    23    94  28.1  0.167   21      1\n",
       "4     0   137    40    35   168  43.1  2.288   33      2"
      ]
     },
     "execution_count": 23,
     "metadata": {},
     "output_type": "execute_result"
    }
   ],
   "source": [
    "url= \"http://academic.uprm.edu/eacuna/diabetes.dat\"\n",
    "names = ['preg', 'plas', 'pres', 'skin', 'test', 'mass', 'pedi', 'age', 'class']\n",
    "data = pd.read_table(url, names=names)\n",
    "print(data.shape)\n",
    "data.head()"
   ]
  },
  {
   "cell_type": "code",
   "execution_count": 24,
   "metadata": {
    "collapsed": true
   },
   "outputs": [],
   "source": [
    "y=data['class']\n",
    "X=data.iloc[:,0:8]\n",
    "X_train, X_test, y_train, y_test = train_test_split(X, y)\n",
    "#y1=y.as_matrix()\n",
    "#X1=X.as_matrix()\n",
    "scaler = StandardScaler()\n",
    "scaler.fit(X_train)\n",
    "StandardScaler(copy=True, with_mean=True, with_std=True)\n",
    "X_train= scaler.transform(X_train)\n",
    "X_test = scaler.transform(X_test)"
   ]
  },
  {
   "cell_type": "code",
   "execution_count": 25,
   "metadata": {},
   "outputs": [
    {
     "data": {
      "text/plain": [
       "MLPClassifier(activation='relu', alpha=0.0001, batch_size='auto', beta_1=0.9,\n",
       "       beta_2=0.999, early_stopping=False, epsilon=1e-08,\n",
       "       hidden_layer_sizes=(10, 2), learning_rate='constant',\n",
       "       learning_rate_init=0.001, max_iter=500, momentum=0.9,\n",
       "       nesterovs_momentum=True, power_t=0.5, random_state=None,\n",
       "       shuffle=True, solver='adam', tol=0.0001, validation_fraction=0.1,\n",
       "       verbose=False, warm_start=False)"
      ]
     },
     "execution_count": 25,
     "metadata": {},
     "output_type": "execute_result"
    }
   ],
   "source": [
    "mlp=MLPClassifier(hidden_layer_sizes=(10,2),max_iter=500)\n",
    "mlp.fit(X_train, y_train) "
   ]
  },
  {
   "cell_type": "code",
   "execution_count": 26,
   "metadata": {},
   "outputs": [
    {
     "data": {
      "text/plain": [
       "[array([[ 0.0238754 , -0.17527787,  0.41368308,  0.50179752, -0.48202661,\n",
       "         -0.42248474, -0.13835135,  0.32251397, -0.45653172,  0.8906211 ],\n",
       "        [ 0.05114529,  0.76642691, -0.45990209, -0.52400485, -0.39286048,\n",
       "          0.0922199 , -0.30430503,  0.11338529, -0.51287599,  0.91626255],\n",
       "        [-0.13838136,  0.4135296 , -0.16521875, -0.33749058,  0.51670388,\n",
       "          0.63268059, -0.1347096 , -0.03473389,  0.21768681, -0.45314893],\n",
       "        [ 0.46707933, -0.08069913,  0.22635792,  0.46410883, -0.08404349,\n",
       "          0.10242538, -0.79874069,  0.33585309,  0.10733838,  0.00544505],\n",
       "        [ 0.12660918, -0.29002661,  0.15031047, -0.4180822 ,  0.04204232,\n",
       "          0.09333875, -0.1415945 , -0.33411892,  0.04911341,  0.20482754],\n",
       "        [-0.19215992,  0.35233635,  0.04161978,  0.04397055, -0.41829013,\n",
       "         -0.92886935, -0.24179328, -0.03228421, -0.09357397,  0.15812148],\n",
       "        [ 0.07106414,  0.16018064, -0.57713237,  0.41941909, -0.4512286 ,\n",
       "          0.10294589,  0.19523116,  0.14780448,  0.1714785 ,  0.41811338],\n",
       "        [-0.26565639, -0.06363338,  0.34684831, -0.04317651, -0.93575194,\n",
       "         -0.30469623,  0.63777834,  0.14820322, -0.46211429, -0.48521759]]),\n",
       " array([[ 0.26943808,  0.22232829],\n",
       "        [-1.00520984,  0.00330727],\n",
       "        [ 0.24548897,  0.6169021 ],\n",
       "        [-0.21341832, -0.67021739],\n",
       "        [ 0.95018648,  0.02776849],\n",
       "        [ 0.67067953, -0.45941422],\n",
       "        [ 0.55818392,  0.08271733],\n",
       "        [ 0.42244327,  0.22870498],\n",
       "        [ 0.48208635, -0.36209803],\n",
       "        [-0.3215527 , -0.5531395 ]]),\n",
       " array([[-1.2086347 ],\n",
       "        [-1.47101449]])]"
      ]
     },
     "execution_count": 26,
     "metadata": {},
     "output_type": "execute_result"
    }
   ],
   "source": [
    "mlp.coefs_"
   ]
  },
  {
   "cell_type": "code",
   "execution_count": 27,
   "metadata": {},
   "outputs": [
    {
     "data": {
      "text/plain": [
       "[array([ 0.10974813,  0.82225332, -0.18253408, -0.71279868,  0.32163954,\n",
       "        -0.51169394, -0.55207163, -0.62030611,  0.20942608,  0.4917216 ]),\n",
       " array([ 0.11785079, -0.18808723]),\n",
       " array([-0.10755818])]"
      ]
     },
     "execution_count": 27,
     "metadata": {},
     "output_type": "execute_result"
    }
   ],
   "source": [
    "mlp.intercepts_"
   ]
  },
  {
   "cell_type": "code",
   "execution_count": 28,
   "metadata": {
    "collapsed": true
   },
   "outputs": [],
   "source": [
    "pred=mlp.predict(X_test)"
   ]
  },
  {
   "cell_type": "code",
   "execution_count": 29,
   "metadata": {},
   "outputs": [
    {
     "data": {
      "text/plain": [
       "0.69791666666666663"
      ]
     },
     "execution_count": 29,
     "metadata": {},
     "output_type": "execute_result"
    }
   ],
   "source": [
    "mlp.score(X_test, y_test)"
   ]
  },
  {
   "cell_type": "code",
   "execution_count": 30,
   "metadata": {},
   "outputs": [
    {
     "name": "stderr",
     "output_type": "stream",
     "text": [
      "C:\\Users\\edgar2017\\Anaconda2\\envs\\ipykernel_py2\\lib\\site-packages\\sklearn\\metrics\\classification.py:1135: UndefinedMetricWarning: Precision and F-score are ill-defined and being set to 0.0 in labels with no predicted samples.\n",
      "  'precision', 'predicted', average, warn_for)\n"
     ]
    },
    {
     "name": "stdout",
     "output_type": "stream",
     "text": [
      "             precision    recall  f1-score   support\n",
      "\n",
      "          1       0.70      1.00      0.82       134\n",
      "          2       0.00      0.00      0.00        58\n",
      "\n",
      "avg / total       0.49      0.70      0.57       192\n",
      "\n"
     ]
    }
   ],
   "source": [
    "print (classification_report(y_test,pred))"
   ]
  },
  {
   "cell_type": "markdown",
   "metadata": {},
   "source": [
    "### Ejemplo 3. Nnet a  Landsat "
   ]
  },
  {
   "cell_type": "code",
   "execution_count": 31,
   "metadata": {
    "collapsed": true
   },
   "outputs": [],
   "source": [
    "#Cargando el conjunto de datos Landsat\n",
    "url='http://academic.uprm.edu/eacuna/landsat.txt'\n",
    "data = pd.read_table(url, header=None,delim_whitespace=True)\n",
    "y=data.iloc[:,36]\n",
    "X=data.iloc[:,0:36]\n",
    "#y1=y.as_matrix()\n",
    "#X1=X.as_matrix()\n",
    "scaler = StandardScaler()\n",
    "scaler.fit(X_train)\n",
    "StandardScaler(copy=True, with_mean=True, with_std=True)\n",
    "X_train= scaler.transform(X_train)\n",
    "X_test = scaler.transform(X_test)"
   ]
  },
  {
   "cell_type": "code",
   "execution_count": 32,
   "metadata": {},
   "outputs": [
    {
     "data": {
      "text/plain": [
       "MLPClassifier(activation='relu', alpha=0.0001, batch_size='auto', beta_1=0.9,\n",
       "       beta_2=0.999, early_stopping=False, epsilon=1e-08,\n",
       "       hidden_layer_sizes=(40, 10, 10), learning_rate='constant',\n",
       "       learning_rate_init=0.001, max_iter=500, momentum=0.9,\n",
       "       nesterovs_momentum=True, power_t=0.5, random_state=None,\n",
       "       shuffle=True, solver='adam', tol=0.0001, validation_fraction=0.1,\n",
       "       verbose=False, warm_start=False)"
      ]
     },
     "execution_count": 32,
     "metadata": {},
     "output_type": "execute_result"
    }
   ],
   "source": [
    "#Estimacion de la precision con k=3 vecinos  por el metodo  \"holdout \n",
    "X_train, X_test, y_train, y_test = train_test_split(X, y)\n",
    "mlp=MLPClassifier(hidden_layer_sizes=(40,10,10),max_iter=500)\n",
    "mlp.fit(X_train, y_train) \n",
    "mlp.fit(X_train, y_train) "
   ]
  },
  {
   "cell_type": "code",
   "execution_count": 33,
   "metadata": {},
   "outputs": [
    {
     "name": "stdout",
     "output_type": "stream",
     "text": [
      "[[241   0  12   3   0   2]\n",
      " [  0 119   0   1   5   0]\n",
      " [  7   0  60   0   1 168]\n",
      " [  2   0  19   0   7  80]\n",
      " [  4   7   1   1  91  10]\n",
      " [  1   0  26   0  15 226]]\n"
     ]
    }
   ],
   "source": [
    "pred=mlp.predict(X_test)\n",
    "print(confusion_matrix(y_test, pred))"
   ]
  },
  {
   "cell_type": "code",
   "execution_count": 34,
   "metadata": {},
   "outputs": [
    {
     "name": "stdout",
     "output_type": "stream",
     "text": [
      "             precision    recall  f1-score   support\n",
      "\n",
      "          1       0.95      0.93      0.94       258\n",
      "          2       0.94      0.95      0.95       125\n",
      "          3       0.51      0.25      0.34       236\n",
      "          4       0.00      0.00      0.00       108\n",
      "          5       0.76      0.80      0.78       114\n",
      "          6       0.47      0.84      0.60       268\n",
      "\n",
      "avg / total       0.63      0.66      0.62      1109\n",
      "\n"
     ]
    }
   ],
   "source": [
    "print(classification_report(y_test, pred))"
   ]
  },
  {
   "cell_type": "markdown",
   "metadata": {},
   "source": [
    "### IV. Ejemplo de Deep Learning aplicado a Diabetes"
   ]
  },
  {
   "cell_type": "code",
   "execution_count": 35,
   "metadata": {},
   "outputs": [
    {
     "name": "stdout",
     "output_type": "stream",
     "text": [
      "Checking whether there is an H2O instance running at http://localhost:54321. connected.\n"
     ]
    },
    {
     "data": {
      "text/html": [
       "<div style=\"overflow:auto\"><table style=\"width:50%\"><tr><td>H2O cluster uptime:</td>\n",
       "<td>2 hours 9 mins</td></tr>\n",
       "<tr><td>H2O cluster timezone:</td>\n",
       "<td>America/La_Paz</td></tr>\n",
       "<tr><td>H2O data parsing timezone:</td>\n",
       "<td>UTC</td></tr>\n",
       "<tr><td>H2O cluster version:</td>\n",
       "<td>3.18.0.6</td></tr>\n",
       "<tr><td>H2O cluster version age:</td>\n",
       "<td>26 days </td></tr>\n",
       "<tr><td>H2O cluster name:</td>\n",
       "<td>H2O_from_python_edgar2017_9rszyt</td></tr>\n",
       "<tr><td>H2O cluster total nodes:</td>\n",
       "<td>1</td></tr>\n",
       "<tr><td>H2O cluster free memory:</td>\n",
       "<td>1.433 Gb</td></tr>\n",
       "<tr><td>H2O cluster total cores:</td>\n",
       "<td>4</td></tr>\n",
       "<tr><td>H2O cluster allowed cores:</td>\n",
       "<td>4</td></tr>\n",
       "<tr><td>H2O cluster status:</td>\n",
       "<td>locked, healthy</td></tr>\n",
       "<tr><td>H2O connection url:</td>\n",
       "<td>http://localhost:54321</td></tr>\n",
       "<tr><td>H2O connection proxy:</td>\n",
       "<td>None</td></tr>\n",
       "<tr><td>H2O internal security:</td>\n",
       "<td>False</td></tr>\n",
       "<tr><td>H2O API Extensions:</td>\n",
       "<td>Algos, AutoML, Core V3, Core V4</td></tr>\n",
       "<tr><td>Python version:</td>\n",
       "<td>2.7.13 final</td></tr></table></div>"
      ],
      "text/plain": [
       "--------------------------  --------------------------------\n",
       "H2O cluster uptime:         2 hours 9 mins\n",
       "H2O cluster timezone:       America/La_Paz\n",
       "H2O data parsing timezone:  UTC\n",
       "H2O cluster version:        3.18.0.6\n",
       "H2O cluster version age:    26 days\n",
       "H2O cluster name:           H2O_from_python_edgar2017_9rszyt\n",
       "H2O cluster total nodes:    1\n",
       "H2O cluster free memory:    1.433 Gb\n",
       "H2O cluster total cores:    4\n",
       "H2O cluster allowed cores:  4\n",
       "H2O cluster status:         locked, healthy\n",
       "H2O connection url:         http://localhost:54321\n",
       "H2O connection proxy:\n",
       "H2O internal security:      False\n",
       "H2O API Extensions:         Algos, AutoML, Core V3, Core V4\n",
       "Python version:             2.7.13 final\n",
       "--------------------------  --------------------------------"
      ]
     },
     "metadata": {},
     "output_type": "display_data"
    }
   ],
   "source": [
    "import h2o\n",
    "from h2o.estimators.deeplearning import H2OAutoEncoderEstimator, H2ODeepLearningEstimator\n",
    "h2o.init()\n",
    "h2o.no_progress()"
   ]
  },
  {
   "cell_type": "code",
   "execution_count": 36,
   "metadata": {
    "collapsed": true
   },
   "outputs": [],
   "source": [
    "diabetes = h2o.import_file(\"https://academic.uprm.edu/eacuna/diabetes.dat\")\n",
    "myx=['C1','C2','C3','C4','C5','C6','C7','C8']\n",
    "diabetes['C9']=diabetes['C9'].asfactor()\n",
    "myy=\"C9\"\n",
    "dl_model = H2ODeepLearningEstimator(hidden=[10,10],epochs=200)\n",
    "dl_model.train(myx, myy, training_frame=diabetes)"
   ]
  },
  {
   "cell_type": "code",
   "execution_count": 37,
   "metadata": {},
   "outputs": [
    {
     "name": "stdout",
     "output_type": "stream",
     "text": [
      "0.83203125\n"
     ]
    }
   ],
   "source": [
    "y_pred=dl_model.predict(diabetes)\n",
    "print (y_pred['predict']==diabetes['C9']).sum()/float(len(diabetes))"
   ]
  },
  {
   "cell_type": "code",
   "execution_count": 38,
   "metadata": {},
   "outputs": [
    {
     "name": "stdout",
     "output_type": "stream",
     "text": [
      "\n",
      "ModelMetricsBinomial: deeplearning\n",
      "** Reported on test data. **\n",
      "\n",
      "MSE: 0.119604996131\n",
      "RMSE: 0.345839552583\n",
      "LogLoss: 0.371052449153\n",
      "Mean Per-Class Error: 0.192194029851\n",
      "AUC: 0.900111940299\n",
      "Gini: 0.800223880597\n",
      "Confusion Matrix (Act/Pred) for max f1 @ threshold = 0.455950436229: \n"
     ]
    },
    {
     "data": {
      "text/html": [
       "<div style=\"overflow:auto\"><table style=\"width:50%\"><tr><td><b></b></td>\n",
       "<td><b>1</b></td>\n",
       "<td><b>2</b></td>\n",
       "<td><b>Error</b></td>\n",
       "<td><b>Rate</b></td></tr>\n",
       "<tr><td>1</td>\n",
       "<td>444.0</td>\n",
       "<td>56.0</td>\n",
       "<td>0.112</td>\n",
       "<td> (56.0/500.0)</td></tr>\n",
       "<tr><td>2</td>\n",
       "<td>73.0</td>\n",
       "<td>195.0</td>\n",
       "<td>0.2724</td>\n",
       "<td> (73.0/268.0)</td></tr>\n",
       "<tr><td>Total</td>\n",
       "<td>517.0</td>\n",
       "<td>251.0</td>\n",
       "<td>0.168</td>\n",
       "<td> (129.0/768.0)</td></tr></table></div>"
      ],
      "text/plain": [
       "       1    2    Error    Rate\n",
       "-----  ---  ---  -------  -------------\n",
       "1      444  56   0.112    (56.0/500.0)\n",
       "2      73   195  0.2724   (73.0/268.0)\n",
       "Total  517  251  0.168    (129.0/768.0)"
      ]
     },
     "metadata": {},
     "output_type": "display_data"
    },
    {
     "name": "stdout",
     "output_type": "stream",
     "text": [
      "Maximum Metrics: Maximum metrics at their respective thresholds\n",
      "\n"
     ]
    },
    {
     "data": {
      "text/html": [
       "<div style=\"overflow:auto\"><table style=\"width:50%\"><tr><td><b>metric</b></td>\n",
       "<td><b>threshold</b></td>\n",
       "<td><b>value</b></td>\n",
       "<td><b>idx</b></td></tr>\n",
       "<tr><td>max f1</td>\n",
       "<td>0.4559504</td>\n",
       "<td>0.7514451</td>\n",
       "<td>166.0</td></tr>\n",
       "<tr><td>max f2</td>\n",
       "<td>0.0913918</td>\n",
       "<td>0.8328015</td>\n",
       "<td>318.0</td></tr>\n",
       "<tr><td>max f0point5</td>\n",
       "<td>0.5998172</td>\n",
       "<td>0.8039216</td>\n",
       "<td>124.0</td></tr>\n",
       "<tr><td>max accuracy</td>\n",
       "<td>0.5998172</td>\n",
       "<td>0.8333333</td>\n",
       "<td>124.0</td></tr>\n",
       "<tr><td>max precision</td>\n",
       "<td>0.9998466</td>\n",
       "<td>1.0</td>\n",
       "<td>0.0</td></tr>\n",
       "<tr><td>max recall</td>\n",
       "<td>0.0164545</td>\n",
       "<td>1.0</td>\n",
       "<td>375.0</td></tr>\n",
       "<tr><td>max specificity</td>\n",
       "<td>0.9998466</td>\n",
       "<td>1.0</td>\n",
       "<td>0.0</td></tr>\n",
       "<tr><td>max absolute_mcc</td>\n",
       "<td>0.4559504</td>\n",
       "<td>0.6255720</td>\n",
       "<td>166.0</td></tr>\n",
       "<tr><td>max min_per_class_accuracy</td>\n",
       "<td>0.3445542</td>\n",
       "<td>0.7947761</td>\n",
       "<td>206.0</td></tr>\n",
       "<tr><td>max mean_per_class_accuracy</td>\n",
       "<td>0.4559504</td>\n",
       "<td>0.8078060</td>\n",
       "<td>166.0</td></tr></table></div>"
      ],
      "text/plain": [
       "metric                       threshold    value     idx\n",
       "---------------------------  -----------  --------  -----\n",
       "max f1                       0.45595      0.751445  166\n",
       "max f2                       0.0913918    0.832802  318\n",
       "max f0point5                 0.599817     0.803922  124\n",
       "max accuracy                 0.599817     0.833333  124\n",
       "max precision                0.999847     1         0\n",
       "max recall                   0.0164545    1         375\n",
       "max specificity              0.999847     1         0\n",
       "max absolute_mcc             0.45595      0.625572  166\n",
       "max min_per_class_accuracy   0.344554     0.794776  206\n",
       "max mean_per_class_accuracy  0.45595      0.807806  166"
      ]
     },
     "metadata": {},
     "output_type": "display_data"
    },
    {
     "name": "stdout",
     "output_type": "stream",
     "text": [
      "Gains/Lift Table: Avg response rate: 34.90 %\n",
      "\n"
     ]
    },
    {
     "data": {
      "text/html": [
       "<div style=\"overflow:auto\"><table style=\"width:50%\"><tr><td><b></b></td>\n",
       "<td><b>group</b></td>\n",
       "<td><b>cumulative_data_fraction</b></td>\n",
       "<td><b>lower_threshold</b></td>\n",
       "<td><b>lift</b></td>\n",
       "<td><b>cumulative_lift</b></td>\n",
       "<td><b>response_rate</b></td>\n",
       "<td><b>cumulative_response_rate</b></td>\n",
       "<td><b>capture_rate</b></td>\n",
       "<td><b>cumulative_capture_rate</b></td>\n",
       "<td><b>gain</b></td>\n",
       "<td><b>cumulative_gain</b></td></tr>\n",
       "<tr><td></td>\n",
       "<td>1</td>\n",
       "<td>0.0104167</td>\n",
       "<td>0.9906319</td>\n",
       "<td>2.8656716</td>\n",
       "<td>2.8656716</td>\n",
       "<td>1.0</td>\n",
       "<td>1.0</td>\n",
       "<td>0.0298507</td>\n",
       "<td>0.0298507</td>\n",
       "<td>186.5671642</td>\n",
       "<td>186.5671642</td></tr>\n",
       "<tr><td></td>\n",
       "<td>2</td>\n",
       "<td>0.0208333</td>\n",
       "<td>0.9793619</td>\n",
       "<td>2.8656716</td>\n",
       "<td>2.8656716</td>\n",
       "<td>1.0</td>\n",
       "<td>1.0</td>\n",
       "<td>0.0298507</td>\n",
       "<td>0.0597015</td>\n",
       "<td>186.5671642</td>\n",
       "<td>186.5671642</td></tr>\n",
       "<tr><td></td>\n",
       "<td>3</td>\n",
       "<td>0.03125</td>\n",
       "<td>0.9708912</td>\n",
       "<td>2.8656716</td>\n",
       "<td>2.8656716</td>\n",
       "<td>1.0</td>\n",
       "<td>1.0</td>\n",
       "<td>0.0298507</td>\n",
       "<td>0.0895522</td>\n",
       "<td>186.5671642</td>\n",
       "<td>186.5671642</td></tr>\n",
       "<tr><td></td>\n",
       "<td>4</td>\n",
       "<td>0.0403646</td>\n",
       "<td>0.9568885</td>\n",
       "<td>2.8656716</td>\n",
       "<td>2.8656716</td>\n",
       "<td>1.0</td>\n",
       "<td>1.0</td>\n",
       "<td>0.0261194</td>\n",
       "<td>0.1156716</td>\n",
       "<td>186.5671642</td>\n",
       "<td>186.5671642</td></tr>\n",
       "<tr><td></td>\n",
       "<td>5</td>\n",
       "<td>0.0507812</td>\n",
       "<td>0.9304069</td>\n",
       "<td>2.8656716</td>\n",
       "<td>2.8656716</td>\n",
       "<td>1.0</td>\n",
       "<td>1.0</td>\n",
       "<td>0.0298507</td>\n",
       "<td>0.1455224</td>\n",
       "<td>186.5671642</td>\n",
       "<td>186.5671642</td></tr>\n",
       "<tr><td></td>\n",
       "<td>6</td>\n",
       "<td>0.1002604</td>\n",
       "<td>0.8671918</td>\n",
       "<td>2.7902592</td>\n",
       "<td>2.8284551</td>\n",
       "<td>0.9736842</td>\n",
       "<td>0.9870130</td>\n",
       "<td>0.1380597</td>\n",
       "<td>0.2835821</td>\n",
       "<td>179.0259230</td>\n",
       "<td>182.8455127</td></tr>\n",
       "<tr><td></td>\n",
       "<td>7</td>\n",
       "<td>0.1510417</td>\n",
       "<td>0.7918258</td>\n",
       "<td>2.4247991</td>\n",
       "<td>2.6927432</td>\n",
       "<td>0.8461538</td>\n",
       "<td>0.9396552</td>\n",
       "<td>0.1231343</td>\n",
       "<td>0.4067164</td>\n",
       "<td>142.4799082</td>\n",
       "<td>169.2743181</td></tr>\n",
       "<tr><td></td>\n",
       "<td>8</td>\n",
       "<td>0.2005208</td>\n",
       "<td>0.7100423</td>\n",
       "<td>2.1869599</td>\n",
       "<td>2.5679395</td>\n",
       "<td>0.7631579</td>\n",
       "<td>0.8961039</td>\n",
       "<td>0.1082090</td>\n",
       "<td>0.5149254</td>\n",
       "<td>118.6959937</td>\n",
       "<td>156.7939523</td></tr>\n",
       "<tr><td></td>\n",
       "<td>9</td>\n",
       "<td>0.3007812</td>\n",
       "<td>0.5082117</td>\n",
       "<td>1.7119597</td>\n",
       "<td>2.2826129</td>\n",
       "<td>0.5974026</td>\n",
       "<td>0.7965368</td>\n",
       "<td>0.1716418</td>\n",
       "<td>0.6865672</td>\n",
       "<td>71.1959682</td>\n",
       "<td>128.2612909</td></tr>\n",
       "<tr><td></td>\n",
       "<td>10</td>\n",
       "<td>0.3997396</td>\n",
       "<td>0.3586321</td>\n",
       "<td>0.9803614</td>\n",
       "<td>1.9602314</td>\n",
       "<td>0.3421053</td>\n",
       "<td>0.6840391</td>\n",
       "<td>0.0970149</td>\n",
       "<td>0.7835821</td>\n",
       "<td>-1.9638649</td>\n",
       "<td>96.0231416</td></tr>\n",
       "<tr><td></td>\n",
       "<td>11</td>\n",
       "<td>0.5</td>\n",
       "<td>0.2262647</td>\n",
       "<td>1.0048459</td>\n",
       "<td>1.7686567</td>\n",
       "<td>0.3506494</td>\n",
       "<td>0.6171875</td>\n",
       "<td>0.1007463</td>\n",
       "<td>0.8843284</td>\n",
       "<td>0.4845900</td>\n",
       "<td>76.8656716</td></tr>\n",
       "<tr><td></td>\n",
       "<td>12</td>\n",
       "<td>0.6002604</td>\n",
       "<td>0.1331067</td>\n",
       "<td>0.5954642</td>\n",
       "<td>1.5727005</td>\n",
       "<td>0.2077922</td>\n",
       "<td>0.5488069</td>\n",
       "<td>0.0597015</td>\n",
       "<td>0.9440299</td>\n",
       "<td>-40.4535763</td>\n",
       "<td>57.2700489</td></tr>\n",
       "<tr><td></td>\n",
       "<td>13</td>\n",
       "<td>0.6992188</td>\n",
       "<td>0.0620553</td>\n",
       "<td>0.3393559</td>\n",
       "<td>1.3981489</td>\n",
       "<td>0.1184211</td>\n",
       "<td>0.4878957</td>\n",
       "<td>0.0335821</td>\n",
       "<td>0.9776119</td>\n",
       "<td>-66.0644148</td>\n",
       "<td>39.8148920</td></tr>\n",
       "<tr><td></td>\n",
       "<td>14</td>\n",
       "<td>0.7994792</td>\n",
       "<td>0.0247203</td>\n",
       "<td>0.1488661</td>\n",
       "<td>1.2414799</td>\n",
       "<td>0.0519481</td>\n",
       "<td>0.4332248</td>\n",
       "<td>0.0149254</td>\n",
       "<td>0.9925373</td>\n",
       "<td>-85.1133941</td>\n",
       "<td>24.1479897</td></tr>\n",
       "<tr><td></td>\n",
       "<td>15</td>\n",
       "<td>0.8997396</td>\n",
       "<td>0.0068217</td>\n",
       "<td>0.0744330</td>\n",
       "<td>1.1114327</td>\n",
       "<td>0.0259740</td>\n",
       "<td>0.3878437</td>\n",
       "<td>0.0074627</td>\n",
       "<td>1.0</td>\n",
       "<td>-92.5566970</td>\n",
       "<td>11.1432706</td></tr>\n",
       "<tr><td></td>\n",
       "<td>16</td>\n",
       "<td>1.0</td>\n",
       "<td>0.0000007</td>\n",
       "<td>0.0</td>\n",
       "<td>1.0</td>\n",
       "<td>0.0</td>\n",
       "<td>0.3489583</td>\n",
       "<td>0.0</td>\n",
       "<td>1.0</td>\n",
       "<td>-100.0</td>\n",
       "<td>0.0</td></tr></table></div>"
      ],
      "text/plain": [
       "    group    cumulative_data_fraction    lower_threshold    lift      cumulative_lift    response_rate    cumulative_response_rate    capture_rate    cumulative_capture_rate    gain      cumulative_gain\n",
       "--  -------  --------------------------  -----------------  --------  -----------------  ---------------  --------------------------  --------------  -------------------------  --------  -----------------\n",
       "    1        0.0104167                   0.990632           2.86567   2.86567            1                1                           0.0298507       0.0298507                  186.567   186.567\n",
       "    2        0.0208333                   0.979362           2.86567   2.86567            1                1                           0.0298507       0.0597015                  186.567   186.567\n",
       "    3        0.03125                     0.970891           2.86567   2.86567            1                1                           0.0298507       0.0895522                  186.567   186.567\n",
       "    4        0.0403646                   0.956889           2.86567   2.86567            1                1                           0.0261194       0.115672                   186.567   186.567\n",
       "    5        0.0507812                   0.930407           2.86567   2.86567            1                1                           0.0298507       0.145522                   186.567   186.567\n",
       "    6        0.10026                     0.867192           2.79026   2.82846            0.973684         0.987013                    0.13806         0.283582                   179.026   182.846\n",
       "    7        0.151042                    0.791826           2.4248    2.69274            0.846154         0.939655                    0.123134        0.406716                   142.48    169.274\n",
       "    8        0.200521                    0.710042           2.18696   2.56794            0.763158         0.896104                    0.108209        0.514925                   118.696   156.794\n",
       "    9        0.300781                    0.508212           1.71196   2.28261            0.597403         0.796537                    0.171642        0.686567                   71.196    128.261\n",
       "    10       0.39974                     0.358632           0.980361  1.96023            0.342105         0.684039                    0.0970149       0.783582                   -1.96386  96.0231\n",
       "    11       0.5                         0.226265           1.00485   1.76866            0.350649         0.617188                    0.100746        0.884328                   0.48459   76.8657\n",
       "    12       0.60026                     0.133107           0.595464  1.5727             0.207792         0.548807                    0.0597015       0.94403                    -40.4536  57.27\n",
       "    13       0.699219                    0.0620553          0.339356  1.39815            0.118421         0.487896                    0.0335821       0.977612                   -66.0644  39.8149\n",
       "    14       0.799479                    0.0247203          0.148866  1.24148            0.0519481        0.433225                    0.0149254       0.992537                   -85.1134  24.148\n",
       "    15       0.89974                     0.00682166         0.074433  1.11143            0.025974         0.387844                    0.00746269      1                          -92.5567  11.1433\n",
       "    16       1                           6.64003e-07        0         1                  0                0.348958                    0               1                          -100      0"
      ]
     },
     "metadata": {},
     "output_type": "display_data"
    },
    {
     "name": "stdout",
     "output_type": "stream",
     "text": [
      "\n"
     ]
    },
    {
     "data": {
      "text/plain": []
     },
     "execution_count": 38,
     "metadata": {},
     "output_type": "execute_result"
    }
   ],
   "source": [
    "dl_model.model_performance(diabetes)"
   ]
  },
  {
   "cell_type": "markdown",
   "metadata": {
    "collapsed": true
   },
   "source": [
    "### V . Ejemplo de deep Learning aplicado a Shuttle"
   ]
  },
  {
   "cell_type": "code",
   "execution_count": 39,
   "metadata": {},
   "outputs": [],
   "source": [
    "shuttle = h2o.import_file(\"https://academic.uprm.edu/eacuna/shuttle.trn\")\n",
    "myx=['C1','C2','C3','C4','C5','C6','C7','C8','C9']\n",
    "shuttle['C10']=shuttle['C10'].asfactor()\n",
    "myy=\"C10\"\n",
    "dl_model = H2ODeepLearningEstimator(hidden=[10,10],epochs=200)\n",
    "dl_model.train(myx, myy, training_frame=shuttle)"
   ]
  },
  {
   "cell_type": "code",
   "execution_count": 40,
   "metadata": {},
   "outputs": [
    {
     "name": "stdout",
     "output_type": "stream",
     "text": [
      "0.998666666667\n"
     ]
    }
   ],
   "source": [
    "y_pred=dl_model.predict(shuttle)\n",
    "print (y_pred['predict']==shuttle['C10']).sum()/float(len(shuttle))"
   ]
  },
  {
   "cell_type": "code",
   "execution_count": 41,
   "metadata": {},
   "outputs": [
    {
     "name": "stdout",
     "output_type": "stream",
     "text": [
      "\n",
      "ModelMetricsMultinomial: deeplearning\n",
      "** Reported on test data. **\n",
      "\n",
      "MSE: 0.00120095888411\n",
      "RMSE: 0.0346548536876\n",
      "LogLoss: 0.016861101215\n",
      "Mean Per-Class Error: 0.153234308194\n",
      "Confusion Matrix: Row labels: Actual class; Column labels: Predicted class\n",
      "\n"
     ]
    },
    {
     "data": {
      "text/html": [
       "<div style=\"overflow:auto\"><table style=\"width:50%\"><tr><td><b>1</b></td>\n",
       "<td><b>2</b></td>\n",
       "<td><b>3</b></td>\n",
       "<td><b>4</b></td>\n",
       "<td><b>5</b></td>\n",
       "<td><b>6</b></td>\n",
       "<td><b>7</b></td>\n",
       "<td><b>Error</b></td>\n",
       "<td><b>Rate</b></td></tr>\n",
       "<tr><td>34097.0</td>\n",
       "<td>0.0</td>\n",
       "<td>3.0</td>\n",
       "<td>0.0</td>\n",
       "<td>8.0</td>\n",
       "<td>0.0</td>\n",
       "<td>0.0</td>\n",
       "<td>0.0003225</td>\n",
       "<td>11 / 34,108</td></tr>\n",
       "<tr><td>1.0</td>\n",
       "<td>32.0</td>\n",
       "<td>0.0</td>\n",
       "<td>4.0</td>\n",
       "<td>0.0</td>\n",
       "<td>0.0</td>\n",
       "<td>0.0</td>\n",
       "<td>0.1351351</td>\n",
       "<td>5 / 37</td></tr>\n",
       "<tr><td>10.0</td>\n",
       "<td>0.0</td>\n",
       "<td>115.0</td>\n",
       "<td>3.0</td>\n",
       "<td>4.0</td>\n",
       "<td>0.0</td>\n",
       "<td>0.0</td>\n",
       "<td>0.1287879</td>\n",
       "<td>17 / 132</td></tr>\n",
       "<tr><td>3.0</td>\n",
       "<td>1.0</td>\n",
       "<td>0.0</td>\n",
       "<td>6742.0</td>\n",
       "<td>2.0</td>\n",
       "<td>0.0</td>\n",
       "<td>0.0</td>\n",
       "<td>0.0008892</td>\n",
       "<td>6 / 6,748</td></tr>\n",
       "<tr><td>2.0</td>\n",
       "<td>2.0</td>\n",
       "<td>0.0</td>\n",
       "<td>2.0</td>\n",
       "<td>2447.0</td>\n",
       "<td>5.0</td>\n",
       "<td>0.0</td>\n",
       "<td>0.0044752</td>\n",
       "<td>11 / 2,458</td></tr>\n",
       "<tr><td>0.0</td>\n",
       "<td>0.0</td>\n",
       "<td>0.0</td>\n",
       "<td>0.0</td>\n",
       "<td>1.0</td>\n",
       "<td>5.0</td>\n",
       "<td>0.0</td>\n",
       "<td>0.1666667</td>\n",
       "<td>1 / 6</td></tr>\n",
       "<tr><td>6.0</td>\n",
       "<td>0.0</td>\n",
       "<td>1.0</td>\n",
       "<td>0.0</td>\n",
       "<td>0.0</td>\n",
       "<td>0.0</td>\n",
       "<td>4.0</td>\n",
       "<td>0.6363636</td>\n",
       "<td>7 / 11</td></tr>\n",
       "<tr><td>34119.0</td>\n",
       "<td>35.0</td>\n",
       "<td>119.0</td>\n",
       "<td>6751.0</td>\n",
       "<td>2462.0</td>\n",
       "<td>10.0</td>\n",
       "<td>4.0</td>\n",
       "<td>0.0013333</td>\n",
       "<td>58 / 43,500</td></tr></table></div>"
      ],
      "text/plain": [
       "1      2    3    4     5     6    7    Error        Rate\n",
       "-----  ---  ---  ----  ----  ---  ---  -----------  -----------\n",
       "34097  0    3    0     8     0    0    0.000322505  11 / 34,108\n",
       "1      32   0    4     0     0    0    0.135135     5 / 37\n",
       "10     0    115  3     4     0    0    0.128788     17 / 132\n",
       "3      1    0    6742  2     0    0    0.000889152  6 / 6,748\n",
       "2      2    0    2     2447  5    0    0.00447518   11 / 2,458\n",
       "0      0    0    0     1     5    0    0.166667     1 / 6\n",
       "6      0    1    0     0     0    4    0.636364     7 / 11\n",
       "34119  35   119  6751  2462  10   4    0.00133333   58 / 43,500"
      ]
     },
     "metadata": {},
     "output_type": "display_data"
    },
    {
     "name": "stdout",
     "output_type": "stream",
     "text": [
      "Top-7 Hit Ratios: \n"
     ]
    },
    {
     "data": {
      "text/html": [
       "<div style=\"overflow:auto\"><table style=\"width:50%\"><tr><td><b>k</b></td>\n",
       "<td><b>hit_ratio</b></td></tr>\n",
       "<tr><td>1</td>\n",
       "<td>0.9986666</td></tr>\n",
       "<tr><td>2</td>\n",
       "<td>0.9995402</td></tr>\n",
       "<tr><td>3</td>\n",
       "<td>0.9997701</td></tr>\n",
       "<tr><td>4</td>\n",
       "<td>0.9998161</td></tr>\n",
       "<tr><td>5</td>\n",
       "<td>0.9998161</td></tr>\n",
       "<tr><td>6</td>\n",
       "<td>0.9998391</td></tr>\n",
       "<tr><td>7</td>\n",
       "<td>1.0</td></tr></table></div>"
      ],
      "text/plain": [
       "k    hit_ratio\n",
       "---  -----------\n",
       "1    0.998667\n",
       "2    0.99954\n",
       "3    0.99977\n",
       "4    0.999816\n",
       "5    0.999816\n",
       "6    0.999839\n",
       "7    1"
      ]
     },
     "metadata": {},
     "output_type": "display_data"
    },
    {
     "data": {
      "text/plain": []
     },
     "execution_count": 41,
     "metadata": {},
     "output_type": "execute_result"
    }
   ],
   "source": [
    "dl_model.model_performance(shuttle)"
   ]
  },
  {
   "cell_type": "code",
   "execution_count": null,
   "metadata": {
    "collapsed": true
   },
   "outputs": [],
   "source": []
  }
 ],
 "metadata": {
  "kernelspec": {
   "display_name": "Python 2",
   "language": "python",
   "name": "python2"
  },
  "language_info": {
   "codemirror_mode": {
    "name": "ipython",
    "version": 2
   },
   "file_extension": ".py",
   "mimetype": "text/x-python",
   "name": "python",
   "nbconvert_exporter": "python",
   "pygments_lexer": "ipython2",
   "version": "2.7.13"
  }
 },
 "nbformat": 4,
 "nbformat_minor": 2
}
