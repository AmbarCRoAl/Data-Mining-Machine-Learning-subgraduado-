{
 "cells": [
  {
   "cell_type": "markdown",
   "metadata": {},
   "source": [
    "### ESMA 4016\n",
    "### Clustering I\n",
    "### Edgar Acuna "
   ]
  },
  {
   "cell_type": "code",
   "execution_count": 18,
   "metadata": {
    "collapsed": true
   },
   "outputs": [],
   "source": [
    "import numpy as np\n",
    "import pandas as pd\n",
    "from sklearn.preprocessing import LabelEncoder\n",
    "from sklearn.model_selection import train_test_split\n",
    "from sklearn.cluster import KMeans\n",
    "from sklearn.metrics import classification_report, confusion_matrix\n",
    "from sklearn.preprocessing import StandardScaler\n",
    "from sklearn.metrics.pairwise import pairwise_distances\n",
    "import matplotlib.pyplot as plt\n",
    "%matplotlib inline"
   ]
  },
  {
   "cell_type": "markdown",
   "metadata": {},
   "source": [
    "###  I.  Calculo de distancias para  Diabetes"
   ]
  },
  {
   "cell_type": "code",
   "execution_count": 19,
   "metadata": {},
   "outputs": [
    {
     "name": "stdout",
     "output_type": "stream",
     "text": [
      "(768, 9)\n"
     ]
    },
    {
     "data": {
      "text/html": [
       "<div>\n",
       "<style scoped>\n",
       "    .dataframe tbody tr th:only-of-type {\n",
       "        vertical-align: middle;\n",
       "    }\n",
       "\n",
       "    .dataframe tbody tr th {\n",
       "        vertical-align: top;\n",
       "    }\n",
       "\n",
       "    .dataframe thead th {\n",
       "        text-align: right;\n",
       "    }\n",
       "</style>\n",
       "<table border=\"1\" class=\"dataframe\">\n",
       "  <thead>\n",
       "    <tr style=\"text-align: right;\">\n",
       "      <th></th>\n",
       "      <th>preg</th>\n",
       "      <th>plas</th>\n",
       "      <th>pres</th>\n",
       "      <th>skin</th>\n",
       "      <th>test</th>\n",
       "      <th>mass</th>\n",
       "      <th>pedi</th>\n",
       "      <th>age</th>\n",
       "      <th>class</th>\n",
       "    </tr>\n",
       "  </thead>\n",
       "  <tbody>\n",
       "    <tr>\n",
       "      <th>0</th>\n",
       "      <td>6</td>\n",
       "      <td>148</td>\n",
       "      <td>72</td>\n",
       "      <td>35</td>\n",
       "      <td>0</td>\n",
       "      <td>33.6</td>\n",
       "      <td>0.627</td>\n",
       "      <td>50</td>\n",
       "      <td>2</td>\n",
       "    </tr>\n",
       "    <tr>\n",
       "      <th>1</th>\n",
       "      <td>1</td>\n",
       "      <td>85</td>\n",
       "      <td>66</td>\n",
       "      <td>29</td>\n",
       "      <td>0</td>\n",
       "      <td>26.6</td>\n",
       "      <td>0.351</td>\n",
       "      <td>31</td>\n",
       "      <td>1</td>\n",
       "    </tr>\n",
       "    <tr>\n",
       "      <th>2</th>\n",
       "      <td>8</td>\n",
       "      <td>183</td>\n",
       "      <td>64</td>\n",
       "      <td>0</td>\n",
       "      <td>0</td>\n",
       "      <td>23.3</td>\n",
       "      <td>0.672</td>\n",
       "      <td>32</td>\n",
       "      <td>2</td>\n",
       "    </tr>\n",
       "    <tr>\n",
       "      <th>3</th>\n",
       "      <td>1</td>\n",
       "      <td>89</td>\n",
       "      <td>66</td>\n",
       "      <td>23</td>\n",
       "      <td>94</td>\n",
       "      <td>28.1</td>\n",
       "      <td>0.167</td>\n",
       "      <td>21</td>\n",
       "      <td>1</td>\n",
       "    </tr>\n",
       "    <tr>\n",
       "      <th>4</th>\n",
       "      <td>0</td>\n",
       "      <td>137</td>\n",
       "      <td>40</td>\n",
       "      <td>35</td>\n",
       "      <td>168</td>\n",
       "      <td>43.1</td>\n",
       "      <td>2.288</td>\n",
       "      <td>33</td>\n",
       "      <td>2</td>\n",
       "    </tr>\n",
       "  </tbody>\n",
       "</table>\n",
       "</div>"
      ],
      "text/plain": [
       "   preg  plas  pres  skin  test  mass   pedi  age  class\n",
       "0     6   148    72    35     0  33.6  0.627   50      2\n",
       "1     1    85    66    29     0  26.6  0.351   31      1\n",
       "2     8   183    64     0     0  23.3  0.672   32      2\n",
       "3     1    89    66    23    94  28.1  0.167   21      1\n",
       "4     0   137    40    35   168  43.1  2.288   33      2"
      ]
     },
     "execution_count": 19,
     "metadata": {},
     "output_type": "execute_result"
    }
   ],
   "source": [
    "url= \"http://academic.uprm.edu/eacuna/diabetes.dat\"\n",
    "names = ['preg', 'plas', 'pres', 'skin', 'test', 'mass', 'pedi', 'age', 'class']\n",
    "data = pd.read_table(url, names=names)\n",
    "print(data.shape)\n",
    "data.head()"
   ]
  },
  {
   "cell_type": "code",
   "execution_count": 20,
   "metadata": {},
   "outputs": [
    {
     "data": {
      "text/plain": [
       "(768L, 768L)"
      ]
     },
     "execution_count": 20,
     "metadata": {},
     "output_type": "execute_result"
    }
   ],
   "source": [
    "y=data['class']\n",
    "X=data.iloc[:,0:8]\n",
    "scaler = StandardScaler()\n",
    "scaler.fit(X)\n",
    "StandardScaler(copy=True, with_mean=True, with_std=True)\n",
    "X= scaler.transform(X)\n",
    "dist2=pairwise_distances(X)\n",
    "dist2.shape"
   ]
  },
  {
   "cell_type": "code",
   "execution_count": 21,
   "metadata": {},
   "outputs": [
    {
     "data": {
      "text/plain": [
       "array([[ 0.        ,  3.22924385,  3.25837474, ...,  2.72463806,\n",
       "         2.97509995,  3.4017847 ],\n",
       "       [ 3.22924385,  0.        ,  4.26273005, ...,  1.99408342,\n",
       "         2.6650958 ,  0.91047974],\n",
       "       [ 3.25837474,  4.26273005,  0.        , ...,  3.09591822,\n",
       "         3.29725594,  4.32363443],\n",
       "       ..., \n",
       "       [ 2.72463806,  1.99408342,  3.09591822, ...,  0.        ,\n",
       "         2.69881799,  2.01762486],\n",
       "       [ 2.97509995,  2.6650958 ,  3.29725594, ...,  2.69881799,\n",
       "         0.        ,  3.04917966],\n",
       "       [ 3.4017847 ,  0.91047974,  4.32363443, ...,  2.01762486,\n",
       "         3.04917966,  0.        ]])"
      ]
     },
     "execution_count": 21,
     "metadata": {},
     "output_type": "execute_result"
    }
   ],
   "source": [
    "#distancia Euclideana\n",
    "dist2=pairwise_distances(X)\n",
    "dist2"
   ]
  },
  {
   "cell_type": "code",
   "execution_count": 22,
   "metadata": {},
   "outputs": [
    {
     "data": {
      "text/plain": [
       "array([[ 0.        ,  7.48176212,  7.27315027, ...,  6.66185328,\n",
       "         6.52829826,  7.206271  ],\n",
       "       [ 7.48176212,  0.        ,  8.54177411, ...,  4.42959032,\n",
       "         5.22414488,  1.85434371],\n",
       "       [ 7.27315027,  8.54177411,  0.        , ...,  7.48796614,\n",
       "         7.18435902,  9.8953635 ],\n",
       "       ..., \n",
       "       [ 6.66185328,  4.42959032,  7.48796614, ...,  0.        ,\n",
       "         6.63552353,  4.98197366],\n",
       "       [ 6.52829826,  5.22414488,  7.18435902, ...,  6.63552353,\n",
       "         0.        ,  5.67721907],\n",
       "       [ 7.206271  ,  1.85434371,  9.8953635 , ...,  4.98197366,\n",
       "         5.67721907,  0.        ]])"
      ]
     },
     "execution_count": 22,
     "metadata": {},
     "output_type": "execute_result"
    }
   ],
   "source": [
    "#Distancia Manhattan tambien llamada CityBlock\n",
    "dist_manh=pairwise_distances(X,metric=\"manhattan\")\n",
    "dist_manh"
   ]
  },
  {
   "cell_type": "code",
   "execution_count": 23,
   "metadata": {},
   "outputs": [
    {
     "data": {
      "text/plain": [
       "array([[ 0.        ,  0.87054133,  0.85871802,  1.08167177,  1.07353461,\n",
       "         0.98231691,  1.03352267,  0.45565877],\n",
       "       [ 0.87054133,  0.        ,  0.84741041,  0.94267211,  0.66864289,\n",
       "         0.77892893,  0.8626627 ,  0.73648568],\n",
       "       [ 0.85871802,  0.84741041,  0.        ,  0.79262946,  0.91106662,\n",
       "         0.71819471,  0.95873505,  0.76047205],\n",
       "       [ 1.08167177,  0.94267211,  0.79262946,  0.        ,  0.56321743,\n",
       "         0.6074268 ,  0.81607243,  1.11397026],\n",
       "       [ 1.07353461,  0.66864289,  0.91106662,  0.56321743,  0.        ,\n",
       "         0.80214094,  0.81492907,  1.04216295],\n",
       "       [ 0.98231691,  0.77892893,  0.71819471,  0.6074268 ,  0.80214094,\n",
       "         0.        ,  0.85935305,  0.96375813],\n",
       "       [ 1.03352267,  0.8626627 ,  0.95873505,  0.81607243,  0.81492907,\n",
       "         0.85935305,  0.        ,  0.96643869],\n",
       "       [ 0.45565877,  0.73648568,  0.76047205,  1.11397026,  1.04216295,\n",
       "         0.96375813,  0.96643869,  0.        ]])"
      ]
     },
     "execution_count": 23,
     "metadata": {},
     "output_type": "execute_result"
    }
   ],
   "source": [
    "#Distancia correlation pero entre las columnas de Diabtes\n",
    "distcor=pairwise_distances(X.T,metric=\"correlation\")\n",
    "distcor"
   ]
  },
  {
   "cell_type": "code",
   "execution_count": 24,
   "metadata": {},
   "outputs": [
    {
     "data": {
      "text/plain": [
       "<matplotlib.image.AxesImage at 0xe0f8908>"
      ]
     },
     "execution_count": 24,
     "metadata": {},
     "output_type": "execute_result"
    },
    {
     "data": {
      "image/png": "[encoded data removed]",
      "text/plain": [
       "<matplotlib.figure.Figure at 0xdf06438>"
      ]
     },
     "metadata": {},
     "output_type": "display_data"
    }
   ],
   "source": [
    "#Visualizando las distancias de correlation\n",
    "plt.imshow(distcor,cmap='hot')"
   ]
  },
  {
   "cell_type": "markdown",
   "metadata": {},
   "source": [
    "Mientras mas oscura sea la celda menor es la distancia correlacion mientras mas clara mayor es la distancia correlacion cuyo valor a lo mas [uede alcanzar el valor de 2]"
   ]
  },
  {
   "cell_type": "markdown",
   "metadata": {},
   "source": [
    "### 2. Haciendo clustering con k-Means para Diabetes,k=2"
   ]
  },
  {
   "cell_type": "code",
   "execution_count": 25,
   "metadata": {
    "collapsed": true
   },
   "outputs": [],
   "source": [
    "kmeans = KMeans(n_clusters=2, random_state=0).fit(X)\n",
    "clustlabels=kmeans.labels_"
   ]
  },
  {
   "cell_type": "code",
   "execution_count": 26,
   "metadata": {},
   "outputs": [
    {
     "data": {
      "text/plain": [
       "array([[ 0.95874949,  0.43363662,  0.40679905, -0.14296386, -0.02520141,\n",
       "         0.11848227,  0.03159628,  1.04966979],\n",
       "       [-0.52576585, -0.23780073, -0.22308335,  0.07839954,  0.01382013,\n",
       "        -0.06497415, -0.01732699, -0.57562537]])"
      ]
     },
     "execution_count": 26,
     "metadata": {},
     "output_type": "execute_result"
    }
   ],
   "source": [
    "kmeans.cluster_centers_"
   ]
  },
  {
   "cell_type": "code",
   "execution_count": 27,
   "metadata": {},
   "outputs": [
    {
     "name": "stdout",
     "output_type": "stream",
     "text": [
      "Tamano de los dos clusters formados\n",
      "[[  0   1]\n",
      " [272 496]]\n"
     ]
    }
   ],
   "source": [
    "#Hallando el tamano de los dos clusters formados\n",
    "unique_elements, counts_elements = np.unique(clustlabels, return_counts=True)\n",
    "print(\"Tamano de los dos clusters formados\")\n",
    "print(np.asarray((unique_elements, counts_elements)))"
   ]
  },
  {
   "cell_type": "code",
   "execution_count": 28,
   "metadata": {},
   "outputs": [
    {
     "data": {
      "text/plain": [
       "1    500\n",
       "2    268\n",
       "dtype: int64"
      ]
     },
     "execution_count": 28,
     "metadata": {},
     "output_type": "execute_result"
    }
   ],
   "source": [
    "#Comparando los clusters con las clases verdaderas\n",
    "pd.value_counts(y.values, sort=False)"
   ]
  },
  {
   "cell_type": "code",
   "execution_count": 29,
   "metadata": {},
   "outputs": [
    {
     "data": {
      "text/plain": [
       "array([[ 0.95874949,  0.43363662,  0.40679905, -0.14296386, -0.02520141,\n",
       "         0.11848227,  0.03159628,  1.04966979],\n",
       "       [-0.52576585, -0.23780073, -0.22308335,  0.07839954,  0.01382013,\n",
       "        -0.06497415, -0.01732699, -0.57562537]])"
      ]
     },
     "execution_count": 29,
     "metadata": {},
     "output_type": "execute_result"
    }
   ],
   "source": [
    "kmeans.cluster_centers_"
   ]
  },
  {
   "cell_type": "markdown",
   "metadata": {},
   "source": [
    "### 3. Haciendo clustering con k-Means para Diabetes,k=3"
   ]
  },
  {
   "cell_type": "code",
   "execution_count": 30,
   "metadata": {},
   "outputs": [
    {
     "name": "stdout",
     "output_type": "stream",
     "text": [
      "Tamano de los tres clusters formados\n",
      "[[  0   1   2]\n",
      " [329 223 216]]\n"
     ]
    }
   ],
   "source": [
    "kmeans = KMeans(n_clusters=3, random_state=0).fit(X)\n",
    "clustlabels=kmeans.labels_\n",
    "unique_elements, counts_elements = np.unique(clustlabels, return_counts=True)\n",
    "print(\"Tamano de los tres clusters formados\")\n",
    "print(np.asarray((unique_elements, counts_elements)))"
   ]
  },
  {
   "cell_type": "markdown",
   "metadata": {},
   "source": [
    "### 4. Haciendo  clustering con PAM para Diabetes k=2"
   ]
  },
  {
   "cell_type": "code",
   "execution_count": 31,
   "metadata": {},
   "outputs": [
    {
     "ename": "NameError",
     "evalue": "name 'Pycluster' is not defined",
     "output_type": "error",
     "traceback": [
      "\u001b[1;31m---------------------------------------------------------------------------\u001b[0m",
      "\u001b[1;31mNameError\u001b[0m                                 Traceback (most recent call last)",
      "\u001b[1;32m<ipython-input-31-7e901c8cb810>\u001b[0m in \u001b[0;36m<module>\u001b[1;34m()\u001b[0m\n\u001b[0;32m      2\u001b[0m \u001b[1;32mimport\u001b[0m \u001b[0mnumpy\u001b[0m\u001b[1;33m\u001b[0m\u001b[0m\n\u001b[0;32m      3\u001b[0m \u001b[0mX\u001b[0m\u001b[1;33m=\u001b[0m\u001b[0mnumpy\u001b[0m\u001b[1;33m.\u001b[0m\u001b[0mmatrix\u001b[0m\u001b[1;33m(\u001b[0m\u001b[0mX\u001b[0m\u001b[1;33m)\u001b[0m\u001b[1;33m\u001b[0m\u001b[0m\n\u001b[1;32m----> 4\u001b[1;33m \u001b[0mclusterid\u001b[0m\u001b[1;33m,\u001b[0m\u001b[0mb\u001b[0m\u001b[1;33m,\u001b[0m\u001b[0mc\u001b[0m\u001b[1;33m=\u001b[0m\u001b[0mPycluster\u001b[0m\u001b[1;33m.\u001b[0m\u001b[0mkmedoids\u001b[0m\u001b[1;33m(\u001b[0m\u001b[0mdist2\u001b[0m\u001b[1;33m)\u001b[0m\u001b[1;33m\u001b[0m\u001b[0m\n\u001b[0m",
      "\u001b[1;31mNameError\u001b[0m: name 'Pycluster' is not defined"
     ]
    }
   ],
   "source": [
    "from Pycluster import *\n",
    "import numpy\n",
    "X=numpy.matrix(X)\n",
    "clusterid,b,c=Pycluster.kmedoids(dist2)"
   ]
  },
  {
   "cell_type": "code",
   "execution_count": null,
   "metadata": {},
   "outputs": [],
   "source": [
    "unique_elements, counts_elements = np.unique(clusterid, return_counts=True)\n",
    "print(\"Frequency of unique values of the said array:\")\n",
    "print(np.asarray((unique_elements, counts_elements)))"
   ]
  },
  {
   "cell_type": "code",
   "execution_count": null,
   "metadata": {},
   "outputs": [],
   "source": [
    "#Comparando los clusters con las clases verdaderas\n",
    "pd.value_counts(y.values, sort=False)"
   ]
  },
  {
   "cell_type": "markdown",
   "metadata": {},
   "source": [
    "### 5. Aplicando k-Means a Landsat, k=5"
   ]
  },
  {
   "cell_type": "code",
   "execution_count": null,
   "metadata": {},
   "outputs": [],
   "source": [
    "#Cargando el conjunto de datos Landsat\n",
    "url='http://academic.uprm.edu/eacuna/landsat.txt'\n",
    "data = pd.read_table(url, header=None,delim_whitespace=True)\n",
    "y=data.iloc[:,36]\n",
    "X=data.iloc[:,0:36]\n",
    "#y1=y.as_matrix()\n",
    "#X1=X.as_matrix()\n",
    "scaler = StandardScaler()\n",
    "scaler.fit(X)\n",
    "StandardScaler(copy=True, with_mean=True, with_std=True)\n",
    "X= scaler.transform(X)\n",
    "kmeans = KMeans(n_clusters=6, random_state=0).fit(X)\n",
    "clustlabels=kmeans.labels_\n",
    "unique_elements, counts_elements = np.unique(clustlabels, return_counts=True)\n",
    "print(\"Tamano de los seis clusters formados\")\n",
    "print(np.asarray((unique_elements, counts_elements)))"
   ]
  },
  {
   "cell_type": "code",
   "execution_count": null,
   "metadata": {},
   "outputs": [],
   "source": [
    "pd.value_counts(y.values, sort=False)"
   ]
  },
  {
   "cell_type": "markdown",
   "metadata": {
    "collapsed": true
   },
   "source": [
    "### 6.  Kmeans aplicado a Shuttle, k=6"
   ]
  },
  {
   "cell_type": "code",
   "execution_count": null,
   "metadata": {
    "collapsed": true
   },
   "outputs": [],
   "source": [
    "url = \"https://academic.uprm.edu/eacuna/shuttle.trn\"\n",
    "data = pd.read_table(url, header=None,delim_whitespace=True)"
   ]
  },
  {
   "cell_type": "code",
   "execution_count": null,
   "metadata": {},
   "outputs": [],
   "source": [
    "y=data.iloc[:,9]\n",
    "X=data.iloc[:,0:9]\n",
    "#y1=y.as_matrix()\n",
    "#X1=X.as_matrix()\n",
    "scaler = StandardScaler()\n",
    "scaler.fit(X)\n",
    "StandardScaler(copy=True, with_mean=True, with_std=True)\n",
    "X= scaler.transform(X)\n",
    "kmeans = KMeans(n_clusters=7, random_state=0).fit(X)\n",
    "clustlabels=kmeans.labels_\n",
    "unique_elements, counts_elements = np.unique(clustlabels, return_counts=True)\n",
    "print(\"Tamano de los siete clusters formados\")\n",
    "print(np.asarray((unique_elements, counts_elements)))"
   ]
  },
  {
   "cell_type": "code",
   "execution_count": null,
   "metadata": {},
   "outputs": [],
   "source": [
    "pd.value_counts(y.values, sort=False)"
   ]
  },
  {
   "cell_type": "code",
   "execution_count": null,
   "metadata": {
    "collapsed": true
   },
   "outputs": [],
   "source": []
  }
 ],
 "metadata": {
  "kernelspec": {
   "display_name": "Python 2",
   "language": "python",
   "name": "python2"
  },
  "language_info": {
   "codemirror_mode": {
    "name": "ipython",
    "version": 2
   },
   "file_extension": ".py",
   "mimetype": "text/x-python",
   "name": "python",
   "nbconvert_exporter": "python",
   "pygments_lexer": "ipython2",
   "version": "2.7.13"
  }
 },
 "nbformat": 4,
 "nbformat_minor": 2
}
