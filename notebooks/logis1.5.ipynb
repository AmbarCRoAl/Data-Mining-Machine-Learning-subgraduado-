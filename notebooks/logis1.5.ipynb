{
 "cells": [
  {
   "cell_type": "markdown",
   "metadata": {},
   "source": [
    "### ESMA 4016\n",
    "### Regresion Logistica: La Curva ROC con scikit-learn y h2o\n",
    "#### Edgar Acuna"
   ]
  },
  {
   "cell_type": "code",
   "execution_count": 155,
   "metadata": {
    "scrolled": true
   },
   "outputs": [
    {
     "name": "stdout",
     "output_type": "stream",
     "text": [
      "Checking whether there is an H2O instance running at http://localhost:54321. connected.\n"
     ]
    },
    {
     "data": {
      "text/html": [
       "<div style=\"overflow:auto\"><table style=\"width:50%\"><tr><td>H2O cluster uptime:</td>\n",
       "<td>3 days 7 hours 16 mins</td></tr>\n",
       "<tr><td>H2O cluster timezone:</td>\n",
       "<td>America/La_Paz</td></tr>\n",
       "<tr><td>H2O data parsing timezone:</td>\n",
       "<td>UTC</td></tr>\n",
       "<tr><td>H2O cluster version:</td>\n",
       "<td>3.18.0.6</td></tr>\n",
       "<tr><td>H2O cluster version age:</td>\n",
       "<td>7 days, 19 hours and 36 minutes </td></tr>\n",
       "<tr><td>H2O cluster name:</td>\n",
       "<td>H2O_from_python_edgar2017_7mwin8</td></tr>\n",
       "<tr><td>H2O cluster total nodes:</td>\n",
       "<td>1</td></tr>\n",
       "<tr><td>H2O cluster free memory:</td>\n",
       "<td>1.573 Gb</td></tr>\n",
       "<tr><td>H2O cluster total cores:</td>\n",
       "<td>4</td></tr>\n",
       "<tr><td>H2O cluster allowed cores:</td>\n",
       "<td>4</td></tr>\n",
       "<tr><td>H2O cluster status:</td>\n",
       "<td>locked, healthy</td></tr>\n",
       "<tr><td>H2O connection url:</td>\n",
       "<td>http://localhost:54321</td></tr>\n",
       "<tr><td>H2O connection proxy:</td>\n",
       "<td>None</td></tr>\n",
       "<tr><td>H2O internal security:</td>\n",
       "<td>False</td></tr>\n",
       "<tr><td>H2O API Extensions:</td>\n",
       "<td>Algos, AutoML, Core V3, Core V4</td></tr>\n",
       "<tr><td>Python version:</td>\n",
       "<td>2.7.13 final</td></tr></table></div>"
      ],
      "text/plain": [
       "--------------------------  --------------------------------\n",
       "H2O cluster uptime:         3 days 7 hours 16 mins\n",
       "H2O cluster timezone:       America/La_Paz\n",
       "H2O data parsing timezone:  UTC\n",
       "H2O cluster version:        3.18.0.6\n",
       "H2O cluster version age:    7 days, 19 hours and 36 minutes\n",
       "H2O cluster name:           H2O_from_python_edgar2017_7mwin8\n",
       "H2O cluster total nodes:    1\n",
       "H2O cluster free memory:    1.573 Gb\n",
       "H2O cluster total cores:    4\n",
       "H2O cluster allowed cores:  4\n",
       "H2O cluster status:         locked, healthy\n",
       "H2O connection url:         http://localhost:54321\n",
       "H2O connection proxy:\n",
       "H2O internal security:      False\n",
       "H2O API Extensions:         Algos, AutoML, Core V3, Core V4\n",
       "Python version:             2.7.13 final\n",
       "--------------------------  --------------------------------"
      ]
     },
     "metadata": {},
     "output_type": "display_data"
    }
   ],
   "source": [
    "import numpy as np\n",
    "import pandas as pd\n",
    "from sklearn.linear_model import LogisticRegression\n",
    "from sklearn.model_selection import train_test_split\n",
    "from sklearn.preprocessing import StandardScaler\n",
    "from sklearn.preprocessing import LabelEncoder\n",
    "from sklearn.preprocessing import OneHotEncoder\n",
    "from sklearn.metrics import roc_auc_score\n",
    "from sklearn.tree import DecisionTreeClassifier\n",
    "from sklearn.metrics import classification_report\n",
    "from sklearn.metrics import roc_curve, auc\n",
    "import matplotlib.pyplot as plt\n",
    "import h2o\n",
    "from h2o.estimators.glm  import H2OGeneralizedLinearEstimator\n",
    "\n",
    "h2o.init()\n",
    "h2o.no_progress()"
   ]
  },
  {
   "cell_type": "markdown",
   "metadata": {},
   "source": [
    "### I Regresion Logistica para Diabetes usando scikit learn"
   ]
  },
  {
   "cell_type": "code",
   "execution_count": 156,
   "metadata": {},
   "outputs": [
    {
     "name": "stdout",
     "output_type": "stream",
     "text": [
      "[[  1.17057358e-01   2.83881555e-02  -1.68873034e-02   7.55876596e-04\n",
      "   -6.42924257e-04   5.97710296e-02   6.77534932e-01   7.24147639e-03]]\n"
     ]
    }
   ],
   "source": [
    "url= \"http://academic.uprm.edu/eacuna/diabetes.dat\"\n",
    "names = ['preg', 'plas', 'pres', 'skin', 'test', 'mass', 'pedi', 'age', 'class']\n",
    "data = pd.read_table(url, names=names,header=None)\n",
    "#La variable de respuesta y debe ser binaria (0,1)\n",
    "y=data['class']-1\n",
    "X=data.iloc[:,0:8]\n",
    "#Haciendo la regresion logistica ya calculando su precision\n",
    "model = LogisticRegression()\n",
    "model = model.fit(X, y)\n",
    "print model.coef_"
   ]
  },
  {
   "cell_type": "code",
   "execution_count": 157,
   "metadata": {},
   "outputs": [
    {
     "name": "stdout",
     "output_type": "stream",
     "text": [
      "             precision    recall  f1-score   support\n",
      "\n",
      "          0       0.79      0.90      0.84       500\n",
      "          1       0.74      0.55      0.63       268\n",
      "\n",
      "avg / total       0.77      0.77      0.77       768\n",
      "\n"
     ]
    }
   ],
   "source": [
    "# Tasa de precision\n",
    "model.score(X, y)\n",
    "predictions = model.predict(X)\n",
    "print(classification_report(y, predictions))"
   ]
  },
  {
   "cell_type": "markdown",
   "metadata": {},
   "source": [
    "### II. Curva ROC con scikit-learn"
   ]
  },
  {
   "cell_type": "code",
   "execution_count": 158,
   "metadata": {
    "collapsed": true
   },
   "outputs": [],
   "source": [
    "#Hallando las probabilidades posteriores\n",
    "probs = model.predict_proba(X)\n",
    "preds = probs[:,1]\n",
    "false_positive_rate, true_positive_rate, thresholds = roc_curve(y, preds)\n",
    "roc_auc = auc(false_positive_rate, true_positive_rate)"
   ]
  },
  {
   "cell_type": "code",
   "execution_count": 159,
   "metadata": {},
   "outputs": [
    {
     "data": {
      "image/png": "[encoded data removed]",
      "text/plain": [
       "<matplotlib.figure.Figure at 0xf8e3780>"
      ]
     },
     "metadata": {},
     "output_type": "display_data"
    }
   ],
   "source": [
    "plt.title('Curva ROC')\n",
    "plt.plot(false_positive_rate, true_positive_rate, 'b',\n",
    "label='AUC = %0.2f'% roc_auc)\n",
    "plt.legend(loc='lower right')\n",
    "plt.plot([0,1],[0,1],'r--')\n",
    "plt.xlim([0,1.0])\n",
    "plt.ylim([0,1.0])\n",
    "plt.ylabel('True Positive Rate')\n",
    "plt.xlabel('False Positive Rate')\n",
    "plt.show()"
   ]
  },
  {
   "cell_type": "markdown",
   "metadata": {},
   "source": [
    "El valor AUC representa el Area bajo la curva ROC (azul) oncerning the AUC. Una regla sencilla, dice que si el AUC de un clasificador va entre .9 y 1 entonces tiene una muy buena prediccion, entre .8 y .89 su prediciion es buena y menos de .60 de AUC es un pobre clasificador.\n"
   ]
  },
  {
   "cell_type": "markdown",
   "metadata": {},
   "source": [
    "### Interseccion de las curvas de sensitividad y especificada par elegir el threshold"
   ]
  },
  {
   "cell_type": "code",
   "execution_count": 160,
   "metadata": {},
   "outputs": [
    {
     "data": {
      "image/png": "[encoded data removed]",
      "text/plain": [
       "<matplotlib.figure.Figure at 0xfd75a20>"
      ]
     },
     "metadata": {},
     "output_type": "display_data"
    }
   ],
   "source": [
    "plt.title('Eleccion del mejor Threshold')\n",
    "plt.plot(thresholds, true_positive_rate, 'b',label='Sensitividad')\n",
    "plt.legend(loc='lower right')\n",
    "plt.plot(thresholds, 1-false_positive_rate,'r--')\n",
    "plt.xlim([0,1.0])\n",
    "plt.ylim([0,1.0])\n",
    "plt.ylabel('Sensitividad ')\n",
    "plt.xlabel('Probabilidad')\n",
    "plt.show()"
   ]
  },
  {
   "cell_type": "markdown",
   "metadata": {},
   "source": [
    "El threshold que deberia ser usado en lugar de p=.5 para hacer la clasificacion sera aprox .35"
   ]
  },
  {
   "cell_type": "markdown",
   "metadata": {},
   "source": [
    "### IV. Curva ROC en H20"
   ]
  },
  {
   "cell_type": "code",
   "execution_count": 161,
   "metadata": {},
   "outputs": [
    {
     "name": "stdout",
     "output_type": "stream",
     "text": [
      "Coefficients: glm coefficients\n",
      "\n"
     ]
    },
    {
     "data": {
      "text/html": [
       "<div style=\"overflow:auto\"><table style=\"width:50%\"><tr><td><b>names</b></td>\n",
       "<td><b>coefficients</b></td>\n",
       "<td><b>std_error</b></td>\n",
       "<td><b>z_value</b></td>\n",
       "<td><b>p_value</b></td>\n",
       "<td><b>standardized_coefficients</b></td></tr>\n",
       "<tr><td>Intercept</td>\n",
       "<td>-8.4046964</td>\n",
       "<td>0.7166361</td>\n",
       "<td>-11.7279840</td>\n",
       "<td>0.0</td>\n",
       "<td>-0.8711017</td></tr>\n",
       "<tr><td>C1</td>\n",
       "<td>0.1231823</td>\n",
       "<td>0.0320776</td>\n",
       "<td>3.8401399</td>\n",
       "<td>0.0001230</td>\n",
       "<td>0.4150724</td></tr>\n",
       "<tr><td>C2</td>\n",
       "<td>0.0351637</td>\n",
       "<td>0.0037087</td>\n",
       "<td>9.4813920</td>\n",
       "<td>0.0</td>\n",
       "<td>1.1242760</td></tr>\n",
       "<tr><td>C3</td>\n",
       "<td>-0.0132955</td>\n",
       "<td>0.0052336</td>\n",
       "<td>-2.5404157</td>\n",
       "<td>0.0110721</td>\n",
       "<td>-0.2573460</td></tr>\n",
       "<tr><td>C4</td>\n",
       "<td>0.0006190</td>\n",
       "<td>0.0068994</td>\n",
       "<td>0.0897131</td>\n",
       "<td>0.9285152</td>\n",
       "<td>0.0098739</td></tr>\n",
       "<tr><td>C5</td>\n",
       "<td>-0.0011917</td>\n",
       "<td>0.0009012</td>\n",
       "<td>-1.3223092</td>\n",
       "<td>0.1860652</td>\n",
       "<td>-0.1373362</td></tr>\n",
       "<tr><td>C6</td>\n",
       "<td>0.0897010</td>\n",
       "<td>0.0150876</td>\n",
       "<td>5.9453328</td>\n",
       "<td>0.0000000</td>\n",
       "<td>0.7072168</td></tr>\n",
       "<tr><td>C7</td>\n",
       "<td>0.9451797</td>\n",
       "<td>0.2991475</td>\n",
       "<td>3.1595776</td>\n",
       "<td>0.0015800</td>\n",
       "<td>0.3131651</td></tr>\n",
       "<tr><td>C8</td>\n",
       "<td>0.0148690</td>\n",
       "<td>0.0093348</td>\n",
       "<td>1.5928583</td>\n",
       "<td>0.1111920</td>\n",
       "<td>0.1748629</td></tr></table></div>"
      ],
      "text/plain": [
       "names      coefficients    std_error    z_value    p_value      standardized_coefficients\n",
       "---------  --------------  -----------  ---------  -----------  ---------------------------\n",
       "Intercept  -8.4047         0.716636     -11.728    0            -0.871102\n",
       "C1         0.123182        0.0320776    3.84014    0.000122964  0.415072\n",
       "C2         0.0351637       0.00370871   9.48139    0            1.12428\n",
       "C3         -0.0132955      0.00523361   -2.54042   0.0110721    -0.257346\n",
       "C4         0.000618964     0.00689938   0.0897131  0.928515     0.00987385\n",
       "C5         -0.0011917      0.000901226  -1.32231   0.186065     -0.137336\n",
       "C6         0.089701        0.0150876    5.94533    2.75896e-09  0.707217\n",
       "C7         0.94518         0.299148     3.15958    0.00157998   0.313165\n",
       "C8         0.014869        0.00933479   1.59286    0.111192     0.174863"
      ]
     },
     "metadata": {},
     "output_type": "display_data"
    },
    {
     "data": {
      "text/plain": []
     },
     "execution_count": 161,
     "metadata": {},
     "output_type": "execute_result"
    }
   ],
   "source": [
    "diabetes = h2o.import_file(\"https://academic.uprm.edu/eacuna/diabetes.dat\")\n",
    "myx=['C1','C2','C3','C4','C5','C6','C7','C8']\n",
    "diabetes['C9']=diabetes['C9'].asfactor()\n",
    "myy='C9'\n",
    "glm_model = H2OGeneralizedLinearEstimator(family= \"binomial\", lambda_ = 0, compute_p_values = True)\n",
    "glm_model.train(myx, myy, training_frame= diabetes)\n",
    "glm_model\n",
    "glm_model._model_json['output']['coefficients_table']"
   ]
  },
  {
   "cell_type": "code",
   "execution_count": 162,
   "metadata": {},
   "outputs": [
    {
     "data": {
      "image/png": "[encoded data removed]",
      "text/plain": [
       "<matplotlib.figure.Figure at 0x104e2f60>"
      ]
     },
     "metadata": {},
     "output_type": "display_data"
    }
   ],
   "source": [
    "perf = glm_model.model_performance()  #train=True is the default, so it's not needed\n",
    "perf.plot()"
   ]
  },
  {
   "cell_type": "code",
   "execution_count": null,
   "metadata": {
    "collapsed": true
   },
   "outputs": [],
   "source": []
  }
 ],
 "metadata": {
  "kernelspec": {
   "display_name": "Python 2",
   "language": "python",
   "name": "python2"
  },
  "language_info": {
   "codemirror_mode": {
    "name": "ipython",
    "version": 2
   },
   "file_extension": ".py",
   "mimetype": "text/x-python",
   "name": "python",
   "nbconvert_exporter": "python",
   "pygments_lexer": "ipython2",
   "version": "2.7.13"
  }
 },
 "nbformat": 4,
 "nbformat_minor": 2
}
