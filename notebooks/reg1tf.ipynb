{
 "cells": [
  {
   "cell_type": "markdown",
   "metadata": {},
   "source": [
    "## ESMA 4016\n",
    "## Simple Linear Regression using Tensorflow\n",
    "## Edgar Acuna\n",
    "### February 2020"
   ]
  },
  {
   "cell_type": "code",
   "execution_count": 56,
   "metadata": {},
   "outputs": [],
   "source": [
    "import numpy as np \n",
    "import tensorflow as tf \n",
    "import matplotlib.pyplot as plt \n",
    "%matplotlib inline"
   ]
  },
  {
   "cell_type": "code",
   "execution_count": 69,
   "metadata": {},
   "outputs": [
    {
     "name": "stdout",
     "output_type": "stream",
     "text": [
      "10\n"
     ]
    }
   ],
   "source": [
    "#Entering the data\n",
    "x=[3.0,4.0,6.0,7.0,8.0,12.0,15.0,20.0,22.0,26.0]\n",
    "y=[9,12,16,19,23,27,34,37,40,45]\n",
    "x=np.asarray(x)\n",
    "y=np.asarray(y)\n",
    "n=len(x)\n",
    "print(n)"
   ]
  },
  {
   "cell_type": "code",
   "execution_count": 58,
   "metadata": {},
   "outputs": [],
   "source": [
    "#Randon seeed for reproducibility \n",
    "np.random.seed(101) \n",
    "tf.set_random_seed(101) "
   ]
  },
  {
   "cell_type": "code",
   "execution_count": 59,
   "metadata": {},
   "outputs": [],
   "source": [
    "X = tf.placeholder(\"float\") \n",
    "Y = tf.placeholder(\"float\") "
   ]
  },
  {
   "cell_type": "code",
   "execution_count": 60,
   "metadata": {},
   "outputs": [],
   "source": [
    "W = tf.Variable(np.random.randn(), name = \"W\") \n",
    "b = tf.Variable(np.random.randn(), name = \"b\") "
   ]
  },
  {
   "cell_type": "code",
   "execution_count": 61,
   "metadata": {},
   "outputs": [],
   "source": [
    "learning_rate = 0.01\n",
    "training_epochs = 1000"
   ]
  },
  {
   "cell_type": "code",
   "execution_count": 62,
   "metadata": {},
   "outputs": [],
   "source": [
    "# Hypothesis \n",
    "y_pred = tf.add(tf.multiply(X, W), b) "
   ]
  },
  {
   "cell_type": "code",
   "execution_count": 63,
   "metadata": {},
   "outputs": [],
   "source": [
    "# Mean Squared Error Cost Function in the standard form\n",
    "cost = tf.reduce_sum(tf.pow(y_pred-Y, 2))/(n-2) "
   ]
  },
  {
   "cell_type": "code",
   "execution_count": 64,
   "metadata": {},
   "outputs": [],
   "source": [
    "# Gradient Descent Optimizer \n",
    "optimizer = tf.train.GradientDescentOptimizer(learning_rate).minimize(cost) "
   ]
  },
  {
   "cell_type": "code",
   "execution_count": 65,
   "metadata": {},
   "outputs": [],
   "source": [
    "# Global Variables Initializer \n",
    "init = tf.global_variables_initializer() "
   ]
  },
  {
   "cell_type": "code",
   "execution_count": 66,
   "metadata": {
    "scrolled": true
   },
   "outputs": [
    {
     "name": "stdout",
     "output_type": "stream",
     "text": [
      "Epoch 50 : cost = 26.537537 W = 1.582795 b = 2.683981\n",
      "Epoch 100 : cost = 17.99982 W = 1.5290209 b = 4.2526093\n",
      "Epoch 150 : cost = 13.36729 W = 1.4900738 b = 5.3887315\n",
      "Epoch 200 : cost = 10.82578 W = 1.4618652 b = 6.211599\n",
      "Epoch 250 : cost = 9.411878 W = 1.4414341 b = 6.8075857\n",
      "Epoch 300 : cost = 8.611744 W = 1.4266366 b = 7.2392416\n",
      "Epoch 350 : cost = 8.149702 W = 1.4159187 b = 7.551881\n",
      "Epoch 400 : cost = 7.876634 W = 1.4081566 b = 7.77832\n",
      "Epoch 450 : cost = 7.7111917 W = 1.4025345 b = 7.942327\n",
      "Epoch 500 : cost = 7.6083584 W = 1.398462 b = 8.061107\n",
      "Epoch 550 : cost = 7.542747 W = 1.3955132 b = 8.147134\n",
      "Epoch 600 : cost = 7.499889 W = 1.3933771 b = 8.209448\n",
      "Epoch 650 : cost = 7.4712973 W = 1.3918294 b = 8.254591\n",
      "Epoch 700 : cost = 7.4518757 W = 1.3907089 b = 8.287275\n",
      "Epoch 750 : cost = 7.4384727 W = 1.3898975 b = 8.310953\n",
      "Epoch 800 : cost = 7.429123 W = 1.3893094 b = 8.328105\n",
      "Epoch 850 : cost = 7.422547 W = 1.3888836 b = 8.340523\n",
      "Epoch 900 : cost = 7.417865 W = 1.3885754 b = 8.349518\n",
      "Epoch 950 : cost = 7.414544 W = 1.3883519 b = 8.356031\n",
      "Epoch 1000 : cost = 7.412155 W = 1.3881904 b = 8.360746\n"
     ]
    }
   ],
   "source": [
    "# Starting the Tensorflow Session \n",
    "with tf.Session() as sess: \n",
    "      \n",
    "    # Initializing the Variables \n",
    "    sess.run(init) \n",
    "      \n",
    "    # Iterating through all the epochs \n",
    "    for epoch in range(training_epochs): \n",
    "          \n",
    "        # Feeding each data point into the optimizer using Feed Dictionary \n",
    "        for (_x, _y) in zip(x, y): \n",
    "            sess.run(optimizer, feed_dict = {X : _x, Y : _y}) \n",
    "          \n",
    "        # Displaying the result after every 50 epochs \n",
    "        if (epoch + 1) % 50 == 0: \n",
    "            # Calculating the cost a every epoch \n",
    "            c = sess.run(cost, feed_dict = {X : x, Y : y}) \n",
    "            print(\"Epoch\", (epoch + 1), \": cost =\", c, \"W =\", sess.run(W), \"b =\", sess.run(b)) \n",
    "      \n",
    "    # Storing necessary values to be used outside the Session \n",
    "    training_cost = sess.run(cost, feed_dict ={X: x, Y: y}) \n",
    "    weight = sess.run(W) \n",
    "    bias = sess.run(b) "
   ]
  },
  {
   "cell_type": "code",
   "execution_count": 67,
   "metadata": {},
   "outputs": [
    {
     "name": "stdout",
     "output_type": "stream",
     "text": [
      "Training cost = 7.412155 Weight = 1.3881904 bias = 8.360746 \n",
      "\n"
     ]
    }
   ],
   "source": [
    "# Calculating the predictions \n",
    "predictions = weight*x + bias\n",
    "print(\"Training cost =\", training_cost, \"Weight =\", weight, \"bias =\", bias, '\\n') "
   ]
  },
  {
   "cell_type": "markdown",
   "metadata": {},
   "source": [
    "The exact value of the Training cost is 2.254"
   ]
  },
  {
   "cell_type": "code",
   "execution_count": 68,
   "metadata": {},
   "outputs": [
    {
     "name": "stdout",
     "output_type": "stream",
     "text": [
      "[12.52531755 13.91350794 16.68988872 18.0780791  19.46626949 25.01903105\n",
      " 29.18360221 36.12455416 38.90093493 44.45369649]\n"
     ]
    }
   ],
   "source": [
    "print(predictions)"
   ]
  },
  {
   "cell_type": "code",
   "execution_count": null,
   "metadata": {},
   "outputs": [],
   "source": []
  }
 ],
 "metadata": {
  "kernelspec": {
   "display_name": "Python 3",
   "language": "python",
   "name": "python3"
  },
  "language_info": {
   "codemirror_mode": {
    "name": "ipython",
    "version": 3
   },
   "file_extension": ".py",
   "mimetype": "text/x-python",
   "name": "python",
   "nbconvert_exporter": "python",
   "pygments_lexer": "ipython3",
   "version": "3.7.3"
  }
 },
 "nbformat": 4,
 "nbformat_minor": 2
}
