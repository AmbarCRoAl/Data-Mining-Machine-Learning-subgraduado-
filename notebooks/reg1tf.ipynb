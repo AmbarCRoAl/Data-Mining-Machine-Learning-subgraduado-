{
 "cells": [
  {
   "cell_type": "markdown",
   "metadata": {},
   "source": [
    "## ESMA 4016\n",
    "## Simple Linear Regression using Tensorflow\n",
    "## Edgar Acuna\n",
    "### February 2020"
   ]
  },
  {
   "cell_type": "code",
   "execution_count": 87,
   "metadata": {},
   "outputs": [],
   "source": [
    "import numpy as np \n",
    "import tensorflow as tf \n",
    "import matplotlib.pyplot as plt \n",
    "%matplotlib inline"
   ]
  },
  {
   "cell_type": "code",
   "execution_count": 88,
   "metadata": {},
   "outputs": [
    {
     "name": "stdout",
     "output_type": "stream",
     "text": [
      "10\n"
     ]
    }
   ],
   "source": [
    "#Entering the data\n",
    "x=[3.0,4.0,6.0,7.0,8.0,12.0,15.0,20.0,22.0,26.0]\n",
    "y=[9,12,16,19,23,27,34,37,40,45]\n",
    "x=np.asarray(x)\n",
    "y=np.asarray(y)\n",
    "n=len(x)\n",
    "print(n)"
   ]
  },
  {
   "cell_type": "code",
   "execution_count": 89,
   "metadata": {},
   "outputs": [],
   "source": [
    "#Randon seeed for reproducibility \n",
    "np.random.seed(101) \n",
    "tf.set_random_seed(101) "
   ]
  },
  {
   "cell_type": "code",
   "execution_count": 90,
   "metadata": {},
   "outputs": [],
   "source": [
    "X = tf.placeholder(\"float\") \n",
    "Y = tf.placeholder(\"float\") "
   ]
  },
  {
   "cell_type": "code",
   "execution_count": 91,
   "metadata": {},
   "outputs": [],
   "source": [
    "#W = tf.Variable(np.random.randn(), name = \"W\") \n",
    "#b = tf.Variable(np.random.randn(), name = \"b\")\n",
    "W = tf.Variable([4.0], name = \"W\") \n",
    "b= tf.Variable([10.0], name = \"b\")"
   ]
  },
  {
   "cell_type": "code",
   "execution_count": 92,
   "metadata": {},
   "outputs": [],
   "source": [
    "#  \n",
    "y_pred = tf.add(tf.multiply(X, W), b) "
   ]
  },
  {
   "cell_type": "code",
   "execution_count": 93,
   "metadata": {},
   "outputs": [],
   "source": [
    "learning_rate = 0.001\n",
    "training_epochs = 5000"
   ]
  },
  {
   "cell_type": "code",
   "execution_count": 94,
   "metadata": {},
   "outputs": [],
   "source": [
    "# Mean Squared Error Cost Function in the standard form\n",
    "cost = tf.reduce_sum(tf.pow(y_pred-Y, 2))/(n-2) "
   ]
  },
  {
   "cell_type": "code",
   "execution_count": 95,
   "metadata": {},
   "outputs": [],
   "source": [
    "# Gradient Descent Optimizer \n",
    "optimizer = tf.train.GradientDescentOptimizer(learning_rate).minimize(cost) "
   ]
  },
  {
   "cell_type": "code",
   "execution_count": 96,
   "metadata": {},
   "outputs": [],
   "source": [
    "# Global Variables Initializer \n",
    "init = tf.global_variables_initializer() "
   ]
  },
  {
   "cell_type": "code",
   "execution_count": 97,
   "metadata": {
    "scrolled": true
   },
   "outputs": [
    {
     "name": "stdout",
     "output_type": "stream",
     "text": [
      "Epoch 50 : cost = 7.194893 W = [1.3804517] b = [9.76674]\n",
      "Epoch 100 : cost = 7.0957837 W = [1.384171] b = [9.698121]\n",
      "Epoch 150 : cost = 7.003295 W = [1.3877612] b = [9.6318865]\n",
      "Epoch 200 : cost = 6.916979 W = [1.3912268] b = [9.567953]\n",
      "Epoch 250 : cost = 6.8364263 W = [1.3945715] b = [9.5062475]\n",
      "Epoch 300 : cost = 6.761244 W = [1.3977996] b = [9.446689]\n",
      "Epoch 350 : cost = 6.691074 W = [1.4009156] b = [9.389208]\n",
      "Epoch 400 : cost = 6.625566 W = [1.4039234] b = [9.333717]\n",
      "Epoch 450 : cost = 6.564412 W = [1.4068264] b = [9.280156]\n",
      "Epoch 500 : cost = 6.5073237 W = [1.4096287] b = [9.22846]\n",
      "Epoch 550 : cost = 6.454028 W = [1.4123331] b = [9.178567]\n",
      "Epoch 600 : cost = 6.404256 W = [1.4149439] b = [9.1304]\n",
      "Epoch 650 : cost = 6.3577757 W = [1.4174641] b = [9.083908]\n",
      "Epoch 700 : cost = 6.31438 W = [1.4198961] b = [9.03904]\n",
      "Epoch 750 : cost = 6.273854 W = [1.4222435] b = [8.995735]\n",
      "Epoch 800 : cost = 6.2359986 W = [1.4245093] b = [8.953932]\n",
      "Epoch 850 : cost = 6.2006392 W = [1.4266964] b = [8.913582]\n",
      "Epoch 900 : cost = 6.167604 W = [1.4288075] b = [8.874634]\n",
      "Epoch 950 : cost = 6.136743 W = [1.430845] b = [8.837044]\n",
      "Epoch 1000 : cost = 6.1079116 W = [1.4328117] b = [8.800763]\n",
      "Epoch 1050 : cost = 6.080964 W = [1.4347103] b = [8.765738]\n",
      "Epoch 1100 : cost = 6.0557866 W = [1.4365425] b = [8.731935]\n",
      "Epoch 1150 : cost = 6.0322523 W = [1.438311] b = [8.699309]\n",
      "Epoch 1200 : cost = 6.010259 W = [1.440018] b = [8.667819]\n",
      "Epoch 1250 : cost = 5.989696 W = [1.4416655] b = [8.637422]\n",
      "Epoch 1300 : cost = 5.970471 W = [1.4432561] b = [8.608077]\n",
      "Epoch 1350 : cost = 5.952493 W = [1.4447917] b = [8.57975]\n",
      "Epoch 1400 : cost = 5.93569 W = [1.4462729] b = [8.55242]\n",
      "Epoch 1450 : cost = 5.91997 W = [1.4477031] b = [8.526038]\n",
      "Epoch 1500 : cost = 5.9052634 W = [1.4490837] b = [8.500569]\n",
      "Epoch 1550 : cost = 5.89151 W = [1.4504161] b = [8.475987]\n",
      "Epoch 1600 : cost = 5.8786445 W = [1.4517018] b = [8.452266]\n",
      "Epoch 1650 : cost = 5.866597 W = [1.4529437] b = [8.429359]\n",
      "Epoch 1700 : cost = 5.85533 W = [1.4541415] b = [8.407258]\n",
      "Epoch 1750 : cost = 5.844781 W = [1.4552981] b = [8.385919]\n",
      "Epoch 1800 : cost = 5.8349047 W = [1.4564147] b = [8.365318]\n",
      "Epoch 1850 : cost = 5.825662 W = [1.4574921] b = [8.345446]\n",
      "Epoch 1900 : cost = 5.817 W = [1.4585326] b = [8.326248]\n",
      "Epoch 1950 : cost = 5.808895 W = [1.459536] b = [8.307738]\n",
      "Epoch 2000 : cost = 5.8013 W = [1.4605051] b = [8.289856]\n",
      "Epoch 2050 : cost = 5.794189 W = [1.46144] b = [8.272609]\n",
      "Epoch 2100 : cost = 5.7875247 W = [1.4623426] b = [8.255959]\n",
      "Epoch 2150 : cost = 5.7812757 W = [1.4632142] b = [8.2398815]\n",
      "Epoch 2200 : cost = 5.7754188 W = [1.4640552] b = [8.22436]\n",
      "Epoch 2250 : cost = 5.7699223 W = [1.4648676] b = [8.20938]\n",
      "Epoch 2300 : cost = 5.764786 W = [1.4656501] b = [8.194937]\n",
      "Epoch 2350 : cost = 5.759955 W = [1.4664066] b = [8.180981]\n",
      "Epoch 2400 : cost = 5.7554255 W = [1.4671365] b = [8.167517]\n",
      "Epoch 2450 : cost = 5.7511797 W = [1.467841] b = [8.154519]\n",
      "Epoch 2500 : cost = 5.747189 W = [1.4685215] b = [8.141968]\n",
      "Epoch 2550 : cost = 5.7434506 W = [1.4691775] b = [8.129864]\n",
      "Epoch 2600 : cost = 5.7399364 W = [1.4698112] b = [8.118173]\n",
      "Epoch 2650 : cost = 5.736635 W = [1.4704236] b = [8.106877]\n",
      "Epoch 2700 : cost = 5.733541 W = [1.4710132] b = [8.095994]\n",
      "Epoch 2750 : cost = 5.730636 W = [1.4715818] b = [8.085506]\n",
      "Epoch 2800 : cost = 5.7278957 W = [1.4721329] b = [8.07534]\n",
      "Epoch 2850 : cost = 5.725328 W = [1.4726633] b = [8.065556]\n",
      "Epoch 2900 : cost = 5.7229085 W = [1.4731759] b = [8.056099]\n",
      "Epoch 2950 : cost = 5.7206416 W = [1.4736694] b = [8.046992]\n",
      "Epoch 3000 : cost = 5.718499 W = [1.4741482] b = [8.038164]\n",
      "Epoch 3050 : cost = 5.716491 W = [1.474609] b = [8.029661]\n",
      "Epoch 3100 : cost = 5.7146053 W = [1.4750524] b = [8.021478]\n",
      "Epoch 3150 : cost = 5.712825 W = [1.4754815] b = [8.013565]\n",
      "Epoch 3200 : cost = 5.7111454 W = [1.4758967] b = [8.005905]\n",
      "Epoch 3250 : cost = 5.709563 W = [1.4762971] b = [7.9985175]\n",
      "Epoch 3300 : cost = 5.708079 W = [1.4766831] b = [7.991394]\n",
      "Epoch 3350 : cost = 5.706679 W = [1.4770557] b = [7.9845204]\n",
      "Epoch 3400 : cost = 5.7053595 W = [1.477415] b = [7.9778943]\n",
      "Epoch 3450 : cost = 5.704115 W = [1.4777623] b = [7.971486]\n",
      "Epoch 3500 : cost = 5.7029424 W = [1.4780972] b = [7.965306]\n",
      "Epoch 3550 : cost = 5.701837 W = [1.4784201] b = [7.9593453]\n",
      "Epoch 3600 : cost = 5.700787 W = [1.4787328] b = [7.9535804]\n",
      "Epoch 3650 : cost = 5.699804 W = [1.479034] b = [7.9480267]\n",
      "Epoch 3700 : cost = 5.6988716 W = [1.4793247] b = [7.9426627]\n",
      "Epoch 3750 : cost = 5.697995 W = [1.4796052] b = [7.937489]\n",
      "Epoch 3800 : cost = 5.6971655 W = [1.4798764] b = [7.932482]\n",
      "Epoch 3850 : cost = 5.696381 W = [1.4801376] b = [7.9276648]\n",
      "Epoch 3900 : cost = 5.6956406 W = [1.48039] b = [7.923009]\n",
      "Epoch 3950 : cost = 5.6949387 W = [1.4806334] b = [7.9185176]\n",
      "Epoch 4000 : cost = 5.694275 W = [1.4808693] b = [7.9141665]\n",
      "Epoch 4050 : cost = 5.6936493 W = [1.4810957] b = [7.909991]\n",
      "Epoch 4100 : cost = 5.693058 W = [1.4813147] b = [7.905951]\n",
      "Epoch 4150 : cost = 5.692492 W = [1.4815261] b = [7.9020505]\n",
      "Epoch 4200 : cost = 5.6919594 W = [1.4817303] b = [7.8982787]\n",
      "Epoch 4250 : cost = 5.691453 W = [1.4819276] b = [7.8946395]\n",
      "Epoch 4300 : cost = 5.6909785 W = [1.4821173] b = [7.8911424]\n",
      "Epoch 4350 : cost = 5.690525 W = [1.4823008] b = [7.8877563]\n",
      "Epoch 4400 : cost = 5.6900997 W = [1.4824781] b = [7.8844843]\n",
      "Epoch 4450 : cost = 5.689689 W = [1.4826488] b = [7.881334]\n",
      "Epoch 4500 : cost = 5.689303 W = [1.482815] b = [7.8782716]\n",
      "Epoch 4550 : cost = 5.6889343 W = [1.4829737] b = [7.875344]\n",
      "Epoch 4600 : cost = 5.6885896 W = [1.4831266] b = [7.8725195]\n",
      "Epoch 4650 : cost = 5.688258 W = [1.4832753] b = [7.8697777]\n",
      "Epoch 4700 : cost = 5.687944 W = [1.4834186] b = [7.8671355]\n",
      "Epoch 4750 : cost = 5.687644 W = [1.4835573] b = [7.864578]\n",
      "Epoch 4800 : cost = 5.6873627 W = [1.4836903] b = [7.8621216]\n",
      "Epoch 4850 : cost = 5.687091 W = [1.4838204] b = [7.859721]\n",
      "Epoch 4900 : cost = 5.686836 W = [1.4839443] b = [7.8574357]\n",
      "Epoch 4950 : cost = 5.686593 W = [1.4840631] b = [7.8552456]\n",
      "Epoch 5000 : cost = 5.686362 W = [1.4841793] b = [7.853102]\n"
     ]
    }
   ],
   "source": [
    "# Starting the Tensorflow Session \n",
    "with tf.Session() as sess: \n",
    "      \n",
    "    # Initializing the Variables \n",
    "    sess.run(init) \n",
    "      \n",
    "    # Iterating through all the epochs \n",
    "    for epoch in range(training_epochs): \n",
    "          \n",
    "        # Feeding each data point into the optimizer using Feed Dictionary \n",
    "        for (_x, _y) in zip(x, y): \n",
    "            sess.run(optimizer, feed_dict = {X : _x, Y : _y}) \n",
    "          \n",
    "        # Displaying the result after every 50 epochs \n",
    "        if (epoch + 1) % 50 == 0: \n",
    "            # Calculating the cost a every epoch \n",
    "            c = sess.run(cost, feed_dict = {X : x, Y : y}) \n",
    "            print(\"Epoch\", (epoch + 1), \": cost =\", c, \"W =\", sess.run(W), \"b =\", sess.run(b)) \n",
    "      \n",
    "    # Storing necessary values to be used outside the Session \n",
    "    training_cost = sess.run(cost, feed_dict ={X: x, Y: y}) \n",
    "    weight = sess.run(W) \n",
    "    bias = sess.run(b) "
   ]
  },
  {
   "cell_type": "code",
   "execution_count": 98,
   "metadata": {},
   "outputs": [
    {
     "name": "stdout",
     "output_type": "stream",
     "text": [
      "Training cost = 5.686362 Weight = [1.4841793] bias = [7.853102] \n",
      "\n"
     ]
    }
   ],
   "source": [
    "# Calculating the predictions \n",
    "predictions = weight*x + bias\n",
    "print(\"Training cost =\", training_cost, \"Weight =\", weight, \"bias =\", bias, '\\n') "
   ]
  },
  {
   "cell_type": "markdown",
   "metadata": {},
   "source": [
    "The exact value of the Training cost is 2.254"
   ]
  },
  {
   "cell_type": "code",
   "execution_count": 99,
   "metadata": {},
   "outputs": [
    {
     "name": "stdout",
     "output_type": "stream",
     "text": [
      "[12.30563998 13.78981924 16.75817776 18.24235702 19.72653627 25.66325331\n",
      " 30.11579108 37.53668737 40.50504589 46.44176292]\n"
     ]
    }
   ],
   "source": [
    "print(predictions)"
   ]
  },
  {
   "cell_type": "code",
   "execution_count": null,
   "metadata": {},
   "outputs": [],
   "source": []
  }
 ],
 "metadata": {
  "kernelspec": {
   "display_name": "Python 3",
   "language": "python",
   "name": "python3"
  },
  "language_info": {
   "codemirror_mode": {
    "name": "ipython",
    "version": 3
   },
   "file_extension": ".py",
   "mimetype": "text/x-python",
   "name": "python",
   "nbconvert_exporter": "python",
   "pygments_lexer": "ipython3",
   "version": "3.7.3"
  }
 },
 "nbformat": 4,
 "nbformat_minor": 2
}
