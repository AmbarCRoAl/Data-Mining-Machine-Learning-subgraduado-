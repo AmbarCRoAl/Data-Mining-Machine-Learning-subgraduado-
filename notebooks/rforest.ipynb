{
 "cells": [
  {
   "cell_type": "markdown",
   "metadata": {},
   "source": [
    "### ESMA 4016\n",
    "### Random Forest con las libreria H20  y scikit-learn\n",
    "#### Edgar Acuna"
   ]
  },
  {
   "cell_type": "code",
   "execution_count": 45,
   "metadata": {
    "scrolled": true
   },
   "outputs": [
    {
     "name": "stdout",
     "output_type": "stream",
     "text": [
      "Checking whether there is an H2O instance running at http://localhost:54321. connected.\n"
     ]
    },
    {
     "data": {
      "text/html": [
       "<div style=\"overflow:auto\"><table style=\"width:50%\"><tr><td>H2O cluster uptime:</td>\n",
       "<td>2 hours 29 mins</td></tr>\n",
       "<tr><td>H2O cluster timezone:</td>\n",
       "<td>America/La_Paz</td></tr>\n",
       "<tr><td>H2O data parsing timezone:</td>\n",
       "<td>UTC</td></tr>\n",
       "<tr><td>H2O cluster version:</td>\n",
       "<td>3.18.0.6</td></tr>\n",
       "<tr><td>H2O cluster version age:</td>\n",
       "<td>18 days </td></tr>\n",
       "<tr><td>H2O cluster name:</td>\n",
       "<td>H2O_from_python_edgar2017_77b3vt</td></tr>\n",
       "<tr><td>H2O cluster total nodes:</td>\n",
       "<td>1</td></tr>\n",
       "<tr><td>H2O cluster free memory:</td>\n",
       "<td>1.083 Gb</td></tr>\n",
       "<tr><td>H2O cluster total cores:</td>\n",
       "<td>4</td></tr>\n",
       "<tr><td>H2O cluster allowed cores:</td>\n",
       "<td>4</td></tr>\n",
       "<tr><td>H2O cluster status:</td>\n",
       "<td>locked, healthy</td></tr>\n",
       "<tr><td>H2O connection url:</td>\n",
       "<td>http://localhost:54321</td></tr>\n",
       "<tr><td>H2O connection proxy:</td>\n",
       "<td>None</td></tr>\n",
       "<tr><td>H2O internal security:</td>\n",
       "<td>False</td></tr>\n",
       "<tr><td>H2O API Extensions:</td>\n",
       "<td>Algos, AutoML, Core V3, Core V4</td></tr>\n",
       "<tr><td>Python version:</td>\n",
       "<td>2.7.13 final</td></tr></table></div>"
      ],
      "text/plain": [
       "--------------------------  --------------------------------\n",
       "H2O cluster uptime:         2 hours 29 mins\n",
       "H2O cluster timezone:       America/La_Paz\n",
       "H2O data parsing timezone:  UTC\n",
       "H2O cluster version:        3.18.0.6\n",
       "H2O cluster version age:    18 days\n",
       "H2O cluster name:           H2O_from_python_edgar2017_77b3vt\n",
       "H2O cluster total nodes:    1\n",
       "H2O cluster free memory:    1.083 Gb\n",
       "H2O cluster total cores:    4\n",
       "H2O cluster allowed cores:  4\n",
       "H2O cluster status:         locked, healthy\n",
       "H2O connection url:         http://localhost:54321\n",
       "H2O connection proxy:\n",
       "H2O internal security:      False\n",
       "H2O API Extensions:         Algos, AutoML, Core V3, Core V4\n",
       "Python version:             2.7.13 final\n",
       "--------------------------  --------------------------------"
      ]
     },
     "metadata": {},
     "output_type": "display_data"
    }
   ],
   "source": [
    "import h2o\n",
    "import numpy as np\n",
    "import pandas as pd\n",
    "from sklearn.model_selection import train_test_split\n",
    "from sklearn.preprocessing import StandardScaler\n",
    "from sklearn.preprocessing import LabelEncoder\n",
    "from sklearn.preprocessing import OneHotEncoder\n",
    "from sklearn import tree\n",
    "from sklearn import metrics\n",
    "from sklearn.ensemble import RandomForestClassifier\n",
    "from sklearn.metrics import classification_report\n",
    "import graphviz\n",
    "from h2o.estimators.random_forest import H2ORandomForestEstimator\n",
    "from h2o.estimators.gbm import H2OGradientBoostingEstimator\n",
    "h2o.init()\n",
    "h2o.no_progress()\n"
   ]
  },
  {
   "cell_type": "markdown",
   "metadata": {},
   "source": [
    "### I- Aplicando Random Forest a Diabetes usando H20. "
   ]
  },
  {
   "cell_type": "code",
   "execution_count": 46,
   "metadata": {
    "scrolled": true
   },
   "outputs": [
    {
     "name": "stdout",
     "output_type": "stream",
     "text": [
      "0.958333333333\n",
      "\n",
      "ModelMetricsBinomial: drf\n",
      "** Reported on test data. **\n",
      "\n",
      "MSE: 0.0439673093775\n",
      "RMSE: 0.209683831941\n",
      "LogLoss: 0.189688487799\n",
      "Mean Per-Class Error: 0.0125970149254\n",
      "AUC: 0.999361940299\n",
      "Gini: 0.998723880597\n",
      "Confusion Matrix (Act/Pred) for max f1 @ threshold = 0.438188542724: \n"
     ]
    },
    {
     "data": {
      "text/html": [
       "<div style=\"overflow:auto\"><table style=\"width:50%\"><tr><td><b></b></td>\n",
       "<td><b>1</b></td>\n",
       "<td><b>2</b></td>\n",
       "<td><b>Error</b></td>\n",
       "<td><b>Rate</b></td></tr>\n",
       "<tr><td>1</td>\n",
       "<td>493.0</td>\n",
       "<td>7.0</td>\n",
       "<td>0.014</td>\n",
       "<td> (7.0/500.0)</td></tr>\n",
       "<tr><td>2</td>\n",
       "<td>3.0</td>\n",
       "<td>265.0</td>\n",
       "<td>0.0112</td>\n",
       "<td> (3.0/268.0)</td></tr>\n",
       "<tr><td>Total</td>\n",
       "<td>496.0</td>\n",
       "<td>272.0</td>\n",
       "<td>0.013</td>\n",
       "<td> (10.0/768.0)</td></tr></table></div>"
      ],
      "text/plain": [
       "       1    2    Error    Rate\n",
       "-----  ---  ---  -------  ------------\n",
       "1      493  7    0.014    (7.0/500.0)\n",
       "2      3    265  0.0112   (3.0/268.0)\n",
       "Total  496  272  0.013    (10.0/768.0)"
      ]
     },
     "metadata": {},
     "output_type": "display_data"
    },
    {
     "name": "stdout",
     "output_type": "stream",
     "text": [
      "Maximum Metrics: Maximum metrics at their respective thresholds\n",
      "\n"
     ]
    },
    {
     "data": {
      "text/html": [
       "<div style=\"overflow:auto\"><table style=\"width:50%\"><tr><td><b>metric</b></td>\n",
       "<td><b>threshold</b></td>\n",
       "<td><b>value</b></td>\n",
       "<td><b>idx</b></td></tr>\n",
       "<tr><td>max f1</td>\n",
       "<td>0.4381885</td>\n",
       "<td>0.9814815</td>\n",
       "<td>182.0</td></tr>\n",
       "<tr><td>max f2</td>\n",
       "<td>0.4105561</td>\n",
       "<td>0.9889299</td>\n",
       "<td>189.0</td></tr>\n",
       "<tr><td>max f0point5</td>\n",
       "<td>0.4929160</td>\n",
       "<td>0.9884615</td>\n",
       "<td>169.0</td></tr>\n",
       "<tr><td>max accuracy</td>\n",
       "<td>0.4381885</td>\n",
       "<td>0.9869792</td>\n",
       "<td>182.0</td></tr>\n",
       "<tr><td>max precision</td>\n",
       "<td>0.9921538</td>\n",
       "<td>1.0</td>\n",
       "<td>0.0</td></tr>\n",
       "<tr><td>max recall</td>\n",
       "<td>0.4105561</td>\n",
       "<td>1.0</td>\n",
       "<td>189.0</td></tr>\n",
       "<tr><td>max specificity</td>\n",
       "<td>0.9921538</td>\n",
       "<td>1.0</td>\n",
       "<td>0.0</td></tr>\n",
       "<tr><td>max absolute_mcc</td>\n",
       "<td>0.4381885</td>\n",
       "<td>0.9715056</td>\n",
       "<td>182.0</td></tr>\n",
       "<tr><td>max min_per_class_accuracy</td>\n",
       "<td>0.4381885</td>\n",
       "<td>0.986</td>\n",
       "<td>182.0</td></tr>\n",
       "<tr><td>max mean_per_class_accuracy</td>\n",
       "<td>0.4381885</td>\n",
       "<td>0.9874030</td>\n",
       "<td>182.0</td></tr></table></div>"
      ],
      "text/plain": [
       "metric                       threshold    value     idx\n",
       "---------------------------  -----------  --------  -----\n",
       "max f1                       0.438189     0.981481  182\n",
       "max f2                       0.410556     0.98893   189\n",
       "max f0point5                 0.492916     0.988462  169\n",
       "max accuracy                 0.438189     0.986979  182\n",
       "max precision                0.992154     1         0\n",
       "max recall                   0.410556     1         189\n",
       "max specificity              0.992154     1         0\n",
       "max absolute_mcc             0.438189     0.971506  182\n",
       "max min_per_class_accuracy   0.438189     0.986     182\n",
       "max mean_per_class_accuracy  0.438189     0.987403  182"
      ]
     },
     "metadata": {},
     "output_type": "display_data"
    },
    {
     "name": "stdout",
     "output_type": "stream",
     "text": [
      "Gains/Lift Table: Avg response rate: 34.90 %\n",
      "\n"
     ]
    },
    {
     "data": {
      "text/html": [
       "<div style=\"overflow:auto\"><table style=\"width:50%\"><tr><td><b></b></td>\n",
       "<td><b>group</b></td>\n",
       "<td><b>cumulative_data_fraction</b></td>\n",
       "<td><b>lower_threshold</b></td>\n",
       "<td><b>lift</b></td>\n",
       "<td><b>cumulative_lift</b></td>\n",
       "<td><b>response_rate</b></td>\n",
       "<td><b>cumulative_response_rate</b></td>\n",
       "<td><b>capture_rate</b></td>\n",
       "<td><b>cumulative_capture_rate</b></td>\n",
       "<td><b>gain</b></td>\n",
       "<td><b>cumulative_gain</b></td></tr>\n",
       "<tr><td></td>\n",
       "<td>1</td>\n",
       "<td>0.0104167</td>\n",
       "<td>0.9602292</td>\n",
       "<td>2.8656716</td>\n",
       "<td>2.8656716</td>\n",
       "<td>1.0</td>\n",
       "<td>1.0</td>\n",
       "<td>0.0298507</td>\n",
       "<td>0.0298507</td>\n",
       "<td>186.5671642</td>\n",
       "<td>186.5671642</td></tr>\n",
       "<tr><td></td>\n",
       "<td>2</td>\n",
       "<td>0.0208333</td>\n",
       "<td>0.9450450</td>\n",
       "<td>2.8656716</td>\n",
       "<td>2.8656716</td>\n",
       "<td>1.0</td>\n",
       "<td>1.0</td>\n",
       "<td>0.0298507</td>\n",
       "<td>0.0597015</td>\n",
       "<td>186.5671642</td>\n",
       "<td>186.5671642</td></tr>\n",
       "<tr><td></td>\n",
       "<td>3</td>\n",
       "<td>0.03125</td>\n",
       "<td>0.9369838</td>\n",
       "<td>2.8656716</td>\n",
       "<td>2.8656716</td>\n",
       "<td>1.0</td>\n",
       "<td>1.0</td>\n",
       "<td>0.0298507</td>\n",
       "<td>0.0895522</td>\n",
       "<td>186.5671642</td>\n",
       "<td>186.5671642</td></tr>\n",
       "<tr><td></td>\n",
       "<td>4</td>\n",
       "<td>0.0403646</td>\n",
       "<td>0.9301362</td>\n",
       "<td>2.8656716</td>\n",
       "<td>2.8656716</td>\n",
       "<td>1.0</td>\n",
       "<td>1.0</td>\n",
       "<td>0.0261194</td>\n",
       "<td>0.1156716</td>\n",
       "<td>186.5671642</td>\n",
       "<td>186.5671642</td></tr>\n",
       "<tr><td></td>\n",
       "<td>5</td>\n",
       "<td>0.0507812</td>\n",
       "<td>0.9239763</td>\n",
       "<td>2.8656716</td>\n",
       "<td>2.8656716</td>\n",
       "<td>1.0</td>\n",
       "<td>1.0</td>\n",
       "<td>0.0298507</td>\n",
       "<td>0.1455224</td>\n",
       "<td>186.5671642</td>\n",
       "<td>186.5671642</td></tr>\n",
       "<tr><td></td>\n",
       "<td>6</td>\n",
       "<td>0.1002604</td>\n",
       "<td>0.8770382</td>\n",
       "<td>2.8656716</td>\n",
       "<td>2.8656716</td>\n",
       "<td>1.0</td>\n",
       "<td>1.0</td>\n",
       "<td>0.1417910</td>\n",
       "<td>0.2873134</td>\n",
       "<td>186.5671642</td>\n",
       "<td>186.5671642</td></tr>\n",
       "<tr><td></td>\n",
       "<td>7</td>\n",
       "<td>0.1510417</td>\n",
       "<td>0.8231111</td>\n",
       "<td>2.8656716</td>\n",
       "<td>2.8656716</td>\n",
       "<td>1.0</td>\n",
       "<td>1.0</td>\n",
       "<td>0.1455224</td>\n",
       "<td>0.4328358</td>\n",
       "<td>186.5671642</td>\n",
       "<td>186.5671642</td></tr>\n",
       "<tr><td></td>\n",
       "<td>8</td>\n",
       "<td>0.2005208</td>\n",
       "<td>0.7526131</td>\n",
       "<td>2.8656716</td>\n",
       "<td>2.8656716</td>\n",
       "<td>1.0</td>\n",
       "<td>1.0</td>\n",
       "<td>0.1417910</td>\n",
       "<td>0.5746269</td>\n",
       "<td>186.5671642</td>\n",
       "<td>186.5671642</td></tr>\n",
       "<tr><td></td>\n",
       "<td>9</td>\n",
       "<td>0.3007812</td>\n",
       "<td>0.5988037</td>\n",
       "<td>2.8656716</td>\n",
       "<td>2.8656716</td>\n",
       "<td>1.0</td>\n",
       "<td>1.0</td>\n",
       "<td>0.2873134</td>\n",
       "<td>0.8619403</td>\n",
       "<td>186.5671642</td>\n",
       "<td>186.5671642</td></tr>\n",
       "<tr><td></td>\n",
       "<td>10</td>\n",
       "<td>0.3997396</td>\n",
       "<td>0.3184113</td>\n",
       "<td>1.3951296</td>\n",
       "<td>2.5016287</td>\n",
       "<td>0.4868421</td>\n",
       "<td>0.8729642</td>\n",
       "<td>0.1380597</td>\n",
       "<td>1.0</td>\n",
       "<td>39.5129615</td>\n",
       "<td>150.1628664</td></tr>\n",
       "<tr><td></td>\n",
       "<td>11</td>\n",
       "<td>0.5</td>\n",
       "<td>0.2058299</td>\n",
       "<td>0.0</td>\n",
       "<td>2.0</td>\n",
       "<td>0.0</td>\n",
       "<td>0.6979167</td>\n",
       "<td>0.0</td>\n",
       "<td>1.0</td>\n",
       "<td>-100.0</td>\n",
       "<td>100.0</td></tr>\n",
       "<tr><td></td>\n",
       "<td>12</td>\n",
       "<td>0.6002604</td>\n",
       "<td>0.1207768</td>\n",
       "<td>0.0</td>\n",
       "<td>1.6659436</td>\n",
       "<td>0.0</td>\n",
       "<td>0.5813449</td>\n",
       "<td>0.0</td>\n",
       "<td>1.0</td>\n",
       "<td>-100.0</td>\n",
       "<td>66.5943601</td></tr>\n",
       "<tr><td></td>\n",
       "<td>13</td>\n",
       "<td>0.6992188</td>\n",
       "<td>0.0805488</td>\n",
       "<td>0.0</td>\n",
       "<td>1.4301676</td>\n",
       "<td>0.0</td>\n",
       "<td>0.4990689</td>\n",
       "<td>0.0</td>\n",
       "<td>1.0</td>\n",
       "<td>-100.0</td>\n",
       "<td>43.0167598</td></tr>\n",
       "<tr><td></td>\n",
       "<td>14</td>\n",
       "<td>0.7994792</td>\n",
       "<td>0.0406932</td>\n",
       "<td>0.0</td>\n",
       "<td>1.2508143</td>\n",
       "<td>0.0</td>\n",
       "<td>0.4364821</td>\n",
       "<td>0.0</td>\n",
       "<td>1.0</td>\n",
       "<td>-100.0</td>\n",
       "<td>25.0814332</td></tr>\n",
       "<tr><td></td>\n",
       "<td>15</td>\n",
       "<td>0.8997396</td>\n",
       "<td>0.0120899</td>\n",
       "<td>0.0</td>\n",
       "<td>1.1114327</td>\n",
       "<td>0.0</td>\n",
       "<td>0.3878437</td>\n",
       "<td>0.0</td>\n",
       "<td>1.0</td>\n",
       "<td>-100.0</td>\n",
       "<td>11.1432706</td></tr>\n",
       "<tr><td></td>\n",
       "<td>16</td>\n",
       "<td>1.0</td>\n",
       "<td>0.0</td>\n",
       "<td>0.0</td>\n",
       "<td>1.0</td>\n",
       "<td>0.0</td>\n",
       "<td>0.3489583</td>\n",
       "<td>0.0</td>\n",
       "<td>1.0</td>\n",
       "<td>-100.0</td>\n",
       "<td>0.0</td></tr></table></div>"
      ],
      "text/plain": [
       "    group    cumulative_data_fraction    lower_threshold    lift     cumulative_lift    response_rate    cumulative_response_rate    capture_rate    cumulative_capture_rate    gain     cumulative_gain\n",
       "--  -------  --------------------------  -----------------  -------  -----------------  ---------------  --------------------------  --------------  -------------------------  -------  -----------------\n",
       "    1        0.0104167                   0.960229           2.86567  2.86567            1                1                           0.0298507       0.0298507                  186.567  186.567\n",
       "    2        0.0208333                   0.945045           2.86567  2.86567            1                1                           0.0298507       0.0597015                  186.567  186.567\n",
       "    3        0.03125                     0.936984           2.86567  2.86567            1                1                           0.0298507       0.0895522                  186.567  186.567\n",
       "    4        0.0403646                   0.930136           2.86567  2.86567            1                1                           0.0261194       0.115672                   186.567  186.567\n",
       "    5        0.0507812                   0.923976           2.86567  2.86567            1                1                           0.0298507       0.145522                   186.567  186.567\n",
       "    6        0.10026                     0.877038           2.86567  2.86567            1                1                           0.141791        0.287313                   186.567  186.567\n",
       "    7        0.151042                    0.823111           2.86567  2.86567            1                1                           0.145522        0.432836                   186.567  186.567\n",
       "    8        0.200521                    0.752613           2.86567  2.86567            1                1                           0.141791        0.574627                   186.567  186.567\n",
       "    9        0.300781                    0.598804           2.86567  2.86567            1                1                           0.287313        0.86194                    186.567  186.567\n",
       "    10       0.39974                     0.318411           1.39513  2.50163            0.486842         0.872964                    0.13806         1                          39.513   150.163\n",
       "    11       0.5                         0.20583            0        2                  0                0.697917                    0               1                          -100     100\n",
       "    12       0.60026                     0.120777           0        1.66594            0                0.581345                    0               1                          -100     66.5944\n",
       "    13       0.699219                    0.0805488          0        1.43017            0                0.499069                    0               1                          -100     43.0168\n",
       "    14       0.799479                    0.0406932          0        1.25081            0                0.436482                    0               1                          -100     25.0814\n",
       "    15       0.89974                     0.0120899          0        1.11143            0                0.387844                    0               1                          -100     11.1433\n",
       "    16       1                           0                  0        1                  0                0.348958                    0               1                          -100     0"
      ]
     },
     "metadata": {},
     "output_type": "display_data"
    },
    {
     "name": "stdout",
     "output_type": "stream",
     "text": [
      "\n"
     ]
    },
    {
     "data": {
      "text/plain": []
     },
     "execution_count": 46,
     "metadata": {},
     "output_type": "execute_result"
    }
   ],
   "source": [
    "diabetes = h2o.import_file(\"https://academic.uprm.edu/eacuna/diabetes.dat\")\n",
    "myx=['C1','C2','C3','C4','C5','C6','C7','C8']\n",
    "diabetes['C9']=diabetes['C9'].asfactor()\n",
    "myy=\"C9\"\n",
    "# Create test/train split\n",
    "#train, test = vehicle.split_frame(ratios=[0.75], seed=1)\n",
    "model=H2ORandomForestEstimator(ntrees=50,max_depth=10,nfolds=10)\n",
    "model.train(myx, myy, training_frame = diabetes)\n",
    "y_pred=model.predict(diabetes)\n",
    "print (y_pred['predict']==diabetes['C9']).sum()/float(len(diabetes))\n",
    "model.model_performance(diabetes)"
   ]
  },
  {
   "cell_type": "code",
   "execution_count": 47,
   "metadata": {},
   "outputs": [
    {
     "data": {
      "image/png": "[encoded data removed]",
      "text/plain": [
       "<matplotlib.figure.Figure at 0xe9fbd30>"
      ]
     },
     "metadata": {},
     "output_type": "display_data"
    }
   ],
   "source": [
    "import matplotlib.pyplot as plt\n",
    "plt.rcdefaults()\n",
    "fig, ax = plt.subplots()\n",
    "variables = model._model_json['output']['variable_importances']['variable']\n",
    "y_pos = np.arange(len(variables))\n",
    "scaled_importance =model._model_json['output']['variable_importances']['scaled_importance']\n",
    "ax.barh(y_pos, scaled_importance, align='center', color='green', ecolor='black')\n",
    "ax.set_yticks(y_pos)\n",
    "ax.set_yticklabels(variables)\n",
    "ax.invert_yaxis()\n",
    "ax.set_xlabel('Scaled Importance')\n",
    "ax.set_title('Variable Importance')\n",
    "plt.show()"
   ]
  },
  {
   "cell_type": "markdown",
   "metadata": {},
   "source": [
    "#### Segun random Forest las variables mas importantes serian plas, age y mass"
   ]
  },
  {
   "cell_type": "markdown",
   "metadata": {},
   "source": [
    "### II Random Forest  para Diabetes usando scikit learn"
   ]
  },
  {
   "cell_type": "code",
   "execution_count": 48,
   "metadata": {},
   "outputs": [
    {
     "name": "stdout",
     "output_type": "stream",
     "text": [
      "la Precision estimada es 0.986979166667\n"
     ]
    }
   ],
   "source": [
    "url= \"http://academic.uprm.edu/eacuna/diabetes.dat\"\n",
    "names = ['preg', 'plas', 'pres', 'skin', 'test', 'mass', 'pedi', 'age', 'class']\n",
    "data = pd.read_table(url, names=names,header=None)\n",
    "#La variable de respuesta y debe ser binaria (0,1)\n",
    "y=data['class']-1\n",
    "X=data.iloc[:,0:8]\n",
    "clf = RandomForestClassifier(n_estimators=50,max_depth=10, random_state=0)\n",
    "clf.fit(X, y)\n",
    "print \"la Precision estimada es\", clf.score(X,y)"
   ]
  },
  {
   "cell_type": "code",
   "execution_count": 49,
   "metadata": {},
   "outputs": [
    {
     "name": "stdout",
     "output_type": "stream",
     "text": [
      "             precision    recall  f1-score   support\n",
      "\n",
      "          0       0.98      1.00      0.99       500\n",
      "          1       1.00      0.97      0.98       268\n",
      "\n",
      "avg / total       0.99      0.99      0.99       768\n",
      "\n"
     ]
    }
   ],
   "source": [
    "# Tasa de precision\n",
    "predictions = clf.predict(X)\n",
    "print(classification_report(y, predictions))"
   ]
  },
  {
   "cell_type": "code",
   "execution_count": 50,
   "metadata": {},
   "outputs": [
    {
     "name": "stdout",
     "output_type": "stream",
     "text": [
      "[ 0.08178093  0.25522871  0.08433383  0.07064764  0.06914087  0.17326173\n",
      "  0.12167218  0.14393411]\n"
     ]
    }
   ],
   "source": [
    "print(clf.feature_importances_)"
   ]
  },
  {
   "cell_type": "markdown",
   "metadata": {},
   "source": [
    "#### Nuevamente las variables mas importantes salieron plas mass y age"
   ]
  },
  {
   "cell_type": "markdown",
   "metadata": {},
   "source": [
    "### III. Random Forest para Landsat usando H2o"
   ]
  },
  {
   "cell_type": "code",
   "execution_count": 51,
   "metadata": {},
   "outputs": [
    {
     "name": "stdout",
     "output_type": "stream",
     "text": [
      "0.983540022548\n",
      "\n",
      "ModelMetricsMultinomial: drf\n",
      "** Reported on test data. **\n",
      "\n",
      "MSE: 0.0260482023278\n",
      "RMSE: 0.161394554827\n",
      "LogLoss: 0.112998030668\n",
      "Mean Per-Class Error: 0.0257998900873\n",
      "Confusion Matrix: Row labels: Actual class; Column labels: Predicted class\n",
      "\n"
     ]
    },
    {
     "data": {
      "text/html": [
       "<div style=\"overflow:auto\"><table style=\"width:50%\"><tr><td><b>1</b></td>\n",
       "<td><b>2</b></td>\n",
       "<td><b>3</b></td>\n",
       "<td><b>4</b></td>\n",
       "<td><b>5</b></td>\n",
       "<td><b>6</b></td>\n",
       "<td><b>Error</b></td>\n",
       "<td><b>Rate</b></td></tr>\n",
       "<tr><td>1072.0</td>\n",
       "<td>0.0</td>\n",
       "<td>0.0</td>\n",
       "<td>0.0</td>\n",
       "<td>0.0</td>\n",
       "<td>0.0</td>\n",
       "<td>0.0</td>\n",
       "<td>0 / 1,072</td></tr>\n",
       "<tr><td>0.0</td>\n",
       "<td>476.0</td>\n",
       "<td>0.0</td>\n",
       "<td>1.0</td>\n",
       "<td>1.0</td>\n",
       "<td>1.0</td>\n",
       "<td>0.0062630</td>\n",
       "<td>3 / 479</td></tr>\n",
       "<tr><td>0.0</td>\n",
       "<td>0.0</td>\n",
       "<td>961.0</td>\n",
       "<td>0.0</td>\n",
       "<td>0.0</td>\n",
       "<td>0.0</td>\n",
       "<td>0.0</td>\n",
       "<td>0 / 961</td></tr>\n",
       "<tr><td>0.0</td>\n",
       "<td>0.0</td>\n",
       "<td>32.0</td>\n",
       "<td>371.0</td>\n",
       "<td>0.0</td>\n",
       "<td>12.0</td>\n",
       "<td>0.1060241</td>\n",
       "<td>44 / 415</td></tr>\n",
       "<tr><td>9.0</td>\n",
       "<td>0.0</td>\n",
       "<td>0.0</td>\n",
       "<td>1.0</td>\n",
       "<td>455.0</td>\n",
       "<td>5.0</td>\n",
       "<td>0.0319149</td>\n",
       "<td>15 / 470</td></tr>\n",
       "<tr><td>0.0</td>\n",
       "<td>0.0</td>\n",
       "<td>5.0</td>\n",
       "<td>6.0</td>\n",
       "<td>0.0</td>\n",
       "<td>1027.0</td>\n",
       "<td>0.0105973</td>\n",
       "<td>11 / 1,038</td></tr>\n",
       "<tr><td>1081.0</td>\n",
       "<td>476.0</td>\n",
       "<td>998.0</td>\n",
       "<td>379.0</td>\n",
       "<td>456.0</td>\n",
       "<td>1045.0</td>\n",
       "<td>0.0164600</td>\n",
       "<td>73 / 4,435</td></tr></table></div>"
      ],
      "text/plain": [
       "1     2    3    4    5    6     Error       Rate\n",
       "----  ---  ---  ---  ---  ----  ----------  ----------\n",
       "1072  0    0    0    0    0     0           0 / 1,072\n",
       "0     476  0    1    1    1     0.00626305  3 / 479\n",
       "0     0    961  0    0    0     0           0 / 961\n",
       "0     0    32   371  0    12    0.106024    44 / 415\n",
       "9     0    0    1    455  5     0.0319149   15 / 470\n",
       "0     0    5    6    0    1027  0.0105973   11 / 1,038\n",
       "1081  476  998  379  456  1045  0.01646     73 / 4,435"
      ]
     },
     "metadata": {},
     "output_type": "display_data"
    },
    {
     "name": "stdout",
     "output_type": "stream",
     "text": [
      "Top-6 Hit Ratios: \n"
     ]
    },
    {
     "data": {
      "text/html": [
       "<div style=\"overflow:auto\"><table style=\"width:50%\"><tr><td><b>k</b></td>\n",
       "<td><b>hit_ratio</b></td></tr>\n",
       "<tr><td>1</td>\n",
       "<td>0.98354</td></tr>\n",
       "<tr><td>2</td>\n",
       "<td>0.9995490</td></tr>\n",
       "<tr><td>3</td>\n",
       "<td>0.9995490</td></tr>\n",
       "<tr><td>4</td>\n",
       "<td>0.9997745</td></tr>\n",
       "<tr><td>5</td>\n",
       "<td>1.0</td></tr>\n",
       "<tr><td>6</td>\n",
       "<td>1.0</td></tr></table></div>"
      ],
      "text/plain": [
       "k    hit_ratio\n",
       "---  -----------\n",
       "1    0.98354\n",
       "2    0.999549\n",
       "3    0.999549\n",
       "4    0.999775\n",
       "5    1\n",
       "6    1"
      ]
     },
     "metadata": {},
     "output_type": "display_data"
    },
    {
     "data": {
      "text/plain": []
     },
     "execution_count": 51,
     "metadata": {},
     "output_type": "execute_result"
    }
   ],
   "source": [
    "#Leyendo los datos\n",
    "datos= h2o.import_file(\"http://academic.uprm.edu/eacuna/landsat.txt\")\n",
    "myx=['C1','C2','C3','C4','C5','C6','C7','C8','C9','C10','C11','C12','C13',\n",
    "            'C14','C15','C16','C17','C18','C19','C20','C21','C22','C23','C24','C25','C26','C27',\n",
    "           'C28','C29', 'C30','C31','C32','C33','C34','C35','C36']\n",
    "datos['C37']=datos['C37'].asfactor()\n",
    "myy=\"C37\"\n",
    "model=H2ORandomForestEstimator(ntrees=50,max_depth=10,nfolds=10)\n",
    "model.train(myx, myy, training_frame = datos)\n",
    "y_pred=model.predict(datos)\n",
    "print (y_pred['predict']==datos['C37']).sum()/float(len(datos))\n",
    "model.model_performance(datos)"
   ]
  },
  {
   "cell_type": "code",
   "execution_count": 52,
   "metadata": {},
   "outputs": [
    {
     "data": {
      "image/png": "[encoded data removed]",
      "text/plain": [
       "<matplotlib.figure.Figure at 0xeb33908>"
      ]
     },
     "metadata": {},
     "output_type": "display_data"
    }
   ],
   "source": [
    "import matplotlib.pyplot as plt\n",
    "plt.rcdefaults()\n",
    "fig, ax = plt.subplots()\n",
    "variables = model._model_json['output']['variable_importances']['variable']\n",
    "y_pos = np.arange(len(variables))\n",
    "scaled_importance =model._model_json['output']['variable_importances']['scaled_importance']\n",
    "ax.barh(y_pos, scaled_importance, align='center', color='green', ecolor='black')\n",
    "ax.set_yticks(y_pos)\n",
    "ax.set_yticklabels(variables)\n",
    "ax.invert_yaxis()\n",
    "ax.set_xlabel('Scaled Importance')\n",
    "ax.set_title('Variable Importance')\n",
    "plt.show()"
   ]
  },
  {
   "cell_type": "markdown",
   "metadata": {},
   "source": [
    "#### Las 6 variables mas importantes c18, c17, c22, c21, c24 y c20"
   ]
  },
  {
   "cell_type": "markdown",
   "metadata": {},
   "source": [
    "### IV. Random Forest usando Scikit-Learn"
   ]
  },
  {
   "cell_type": "code",
   "execution_count": 53,
   "metadata": {
    "scrolled": true
   },
   "outputs": [
    {
     "name": "stdout",
     "output_type": "stream",
     "text": [
      "la Precision estimada es 0.972717023675\n"
     ]
    }
   ],
   "source": [
    "url='http://academic.uprm.edu/eacuna/landsat.txt'\n",
    "data = pd.read_table(url, header=None,delim_whitespace=True)\n",
    "y=data.iloc[:,36]-1\n",
    "names=['C1','C2','C3','C4','C5','C6','C7','C8','C9','C10','C11','C12','C13',\n",
    "            'C14','C15','C16','C17','C18','C19','C20','C21','C22','C23','C24','C25','C26','C27',\n",
    "           'C28','C29', 'C30','C31','C32','C33','C34','C35','C36','C37']\n",
    "X=data.iloc[:,0:36]\n",
    "clf = RandomForestClassifier(n_estimators=50,max_depth=10, random_state=0)\n",
    "clf.fit(X, y)\n",
    "print \"la Precision estimada es\", clf.score(X,y)"
   ]
  },
  {
   "cell_type": "code",
   "execution_count": 54,
   "metadata": {},
   "outputs": [
    {
     "name": "stdout",
     "output_type": "stream",
     "text": [
      "             precision    recall  f1-score   support\n",
      "\n",
      "          0       0.97      1.00      0.99      1072\n",
      "          1       1.00      1.00      1.00       479\n",
      "          2       0.95      1.00      0.97       961\n",
      "          3       0.98      0.80      0.88       415\n",
      "          4       1.00      0.93      0.97       470\n",
      "          5       0.96      0.99      0.98      1038\n",
      "\n",
      "avg / total       0.97      0.97      0.97      4435\n",
      "\n"
     ]
    }
   ],
   "source": [
    "predictions = clf.predict(X)\n",
    "print(classification_report(y, predictions))"
   ]
  },
  {
   "cell_type": "code",
   "execution_count": 55,
   "metadata": {},
   "outputs": [
    {
     "name": "stdout",
     "output_type": "stream",
     "text": [
      "[ 0.0151426   0.02236955  0.00933652  0.01346124  0.03756244  0.02431621\n",
      "  0.00885772  0.01182643  0.02164484  0.01734902  0.00778902  0.02265685\n",
      "  0.03495008  0.04105357  0.02258549  0.03426316  0.08886045  0.05336134\n",
      "  0.02783217  0.04746638  0.04815995  0.04380354  0.01428742  0.02988966\n",
      "  0.04441645  0.02346674  0.00710566  0.02775813  0.02947498  0.02382096\n",
      "  0.00788551  0.03829542  0.03270221  0.03890708  0.00804944  0.01929177]\n"
     ]
    }
   ],
   "source": [
    "print(clf.feature_importances_)"
   ]
  },
  {
   "cell_type": "markdown",
   "metadata": {},
   "source": [
    "#### Las variables mas importante son 17, 18, 21, 20, 25 y 22"
   ]
  },
  {
   "cell_type": "markdown",
   "metadata": {},
   "source": [
    "### V. Aplicando Random Forest   a un dataset con missing values "
   ]
  },
  {
   "cell_type": "code",
   "execution_count": 56,
   "metadata": {},
   "outputs": [
    {
     "name": "stdout",
     "output_type": "stream",
     "text": [
      "0.941801541722\n",
      "\n",
      "ModelMetricsBinomial: drf\n",
      "** Reported on test data. **\n",
      "\n",
      "MSE: 0.0488896643114\n",
      "RMSE: 0.22111007284\n",
      "LogLoss: 0.170407009804\n",
      "Mean Per-Class Error: 0.0592785015409\n",
      "AUC: 0.986004376423\n",
      "Gini: 0.972008752846\n",
      "Confusion Matrix (Act/Pred) for max f1 @ threshold = 0.405010982398: \n"
     ]
    },
    {
     "data": {
      "text/html": [
       "<div style=\"overflow:auto\"><table style=\"width:50%\"><tr><td><b></b></td>\n",
       "<td><b><=50K</b></td>\n",
       "<td><b>>50K</b></td>\n",
       "<td><b>Error</b></td>\n",
       "<td><b>Rate</b></td></tr>\n",
       "<tr><td><=50K</td>\n",
       "<td>23587.0</td>\n",
       "<td>1133.0</td>\n",
       "<td>0.0458</td>\n",
       "<td> (1133.0/24720.0)</td></tr>\n",
       "<tr><td>>50K</td>\n",
       "<td>713.0</td>\n",
       "<td>7128.0</td>\n",
       "<td>0.0909</td>\n",
       "<td> (713.0/7841.0)</td></tr>\n",
       "<tr><td>Total</td>\n",
       "<td>24300.0</td>\n",
       "<td>8261.0</td>\n",
       "<td>0.0567</td>\n",
       "<td> (1846.0/32561.0)</td></tr></table></div>"
      ],
      "text/plain": [
       "       <=50K    >50K    Error    Rate\n",
       "-----  -------  ------  -------  ----------------\n",
       "<=50K  23587    1133    0.0458   (1133.0/24720.0)\n",
       ">50K   713      7128    0.0909   (713.0/7841.0)\n",
       "Total  24300    8261    0.0567   (1846.0/32561.0)"
      ]
     },
     "metadata": {},
     "output_type": "display_data"
    },
    {
     "name": "stdout",
     "output_type": "stream",
     "text": [
      "Maximum Metrics: Maximum metrics at their respective thresholds\n",
      "\n"
     ]
    },
    {
     "data": {
      "text/html": [
       "<div style=\"overflow:auto\"><table style=\"width:50%\"><tr><td><b>metric</b></td>\n",
       "<td><b>threshold</b></td>\n",
       "<td><b>value</b></td>\n",
       "<td><b>idx</b></td></tr>\n",
       "<tr><td>max f1</td>\n",
       "<td>0.4050110</td>\n",
       "<td>0.8853559</td>\n",
       "<td>205.0</td></tr>\n",
       "<tr><td>max f2</td>\n",
       "<td>0.2888210</td>\n",
       "<td>0.9237098</td>\n",
       "<td>245.0</td></tr>\n",
       "<tr><td>max f0point5</td>\n",
       "<td>0.5462948</td>\n",
       "<td>0.8966088</td>\n",
       "<td>157.0</td></tr>\n",
       "<tr><td>max accuracy</td>\n",
       "<td>0.4320782</td>\n",
       "<td>0.9441663</td>\n",
       "<td>196.0</td></tr>\n",
       "<tr><td>max precision</td>\n",
       "<td>0.9998713</td>\n",
       "<td>1.0</td>\n",
       "<td>0.0</td></tr>\n",
       "<tr><td>max recall</td>\n",
       "<td>0.1192849</td>\n",
       "<td>1.0</td>\n",
       "<td>317.0</td></tr>\n",
       "<tr><td>max specificity</td>\n",
       "<td>0.9998713</td>\n",
       "<td>1.0</td>\n",
       "<td>0.0</td></tr>\n",
       "<tr><td>max absolute_mcc</td>\n",
       "<td>0.4050110</td>\n",
       "<td>0.8482410</td>\n",
       "<td>205.0</td></tr>\n",
       "<tr><td>max min_per_class_accuracy</td>\n",
       "<td>0.3607320</td>\n",
       "<td>0.9377023</td>\n",
       "<td>220.0</td></tr>\n",
       "<tr><td>max mean_per_class_accuracy</td>\n",
       "<td>0.3211962</td>\n",
       "<td>0.9407215</td>\n",
       "<td>234.0</td></tr></table></div>"
      ],
      "text/plain": [
       "metric                       threshold    value     idx\n",
       "---------------------------  -----------  --------  -----\n",
       "max f1                       0.405011     0.885356  205\n",
       "max f2                       0.288821     0.92371   245\n",
       "max f0point5                 0.546295     0.896609  157\n",
       "max accuracy                 0.432078     0.944166  196\n",
       "max precision                0.999871     1         0\n",
       "max recall                   0.119285     1         317\n",
       "max specificity              0.999871     1         0\n",
       "max absolute_mcc             0.405011     0.848241  205\n",
       "max min_per_class_accuracy   0.360732     0.937702  220\n",
       "max mean_per_class_accuracy  0.321196     0.940721  234"
      ]
     },
     "metadata": {},
     "output_type": "display_data"
    },
    {
     "name": "stdout",
     "output_type": "stream",
     "text": [
      "Gains/Lift Table: Avg response rate: 24.08 %\n",
      "\n"
     ]
    },
    {
     "data": {
      "text/html": [
       "<div style=\"overflow:auto\"><table style=\"width:50%\"><tr><td><b></b></td>\n",
       "<td><b>group</b></td>\n",
       "<td><b>cumulative_data_fraction</b></td>\n",
       "<td><b>lower_threshold</b></td>\n",
       "<td><b>lift</b></td>\n",
       "<td><b>cumulative_lift</b></td>\n",
       "<td><b>response_rate</b></td>\n",
       "<td><b>cumulative_response_rate</b></td>\n",
       "<td><b>capture_rate</b></td>\n",
       "<td><b>cumulative_capture_rate</b></td>\n",
       "<td><b>gain</b></td>\n",
       "<td><b>cumulative_gain</b></td></tr>\n",
       "<tr><td></td>\n",
       "<td>1</td>\n",
       "<td>0.0100120</td>\n",
       "<td>0.9984528</td>\n",
       "<td>4.1526591</td>\n",
       "<td>4.1526591</td>\n",
       "<td>1.0</td>\n",
       "<td>1.0</td>\n",
       "<td>0.0415763</td>\n",
       "<td>0.0415763</td>\n",
       "<td>315.2659100</td>\n",
       "<td>315.2659100</td></tr>\n",
       "<tr><td></td>\n",
       "<td>2</td>\n",
       "<td>0.0200240</td>\n",
       "<td>0.9928215</td>\n",
       "<td>4.1526591</td>\n",
       "<td>4.1526591</td>\n",
       "<td>1.0</td>\n",
       "<td>1.0</td>\n",
       "<td>0.0415763</td>\n",
       "<td>0.0831527</td>\n",
       "<td>315.2659100</td>\n",
       "<td>315.2659100</td></tr>\n",
       "<tr><td></td>\n",
       "<td>3</td>\n",
       "<td>0.0300052</td>\n",
       "<td>0.9855441</td>\n",
       "<td>4.1526591</td>\n",
       "<td>4.1526591</td>\n",
       "<td>1.0</td>\n",
       "<td>1.0</td>\n",
       "<td>0.0414488</td>\n",
       "<td>0.1246015</td>\n",
       "<td>315.2659100</td>\n",
       "<td>315.2659100</td></tr>\n",
       "<tr><td></td>\n",
       "<td>4</td>\n",
       "<td>0.0400172</td>\n",
       "<td>0.9739226</td>\n",
       "<td>4.1526591</td>\n",
       "<td>4.1526591</td>\n",
       "<td>1.0</td>\n",
       "<td>1.0</td>\n",
       "<td>0.0415763</td>\n",
       "<td>0.1661778</td>\n",
       "<td>315.2659100</td>\n",
       "<td>315.2659100</td></tr>\n",
       "<tr><td></td>\n",
       "<td>5</td>\n",
       "<td>0.0500292</td>\n",
       "<td>0.9545679</td>\n",
       "<td>4.1526591</td>\n",
       "<td>4.1526591</td>\n",
       "<td>1.0</td>\n",
       "<td>1.0</td>\n",
       "<td>0.0415763</td>\n",
       "<td>0.2077541</td>\n",
       "<td>315.2659100</td>\n",
       "<td>315.2659100</td></tr>\n",
       "<tr><td></td>\n",
       "<td>6</td>\n",
       "<td>0.1000276</td>\n",
       "<td>0.8110297</td>\n",
       "<td>4.1322529</td>\n",
       "<td>4.1424591</td>\n",
       "<td>0.9950860</td>\n",
       "<td>0.9975438</td>\n",
       "<td>0.2066063</td>\n",
       "<td>0.4143604</td>\n",
       "<td>313.2252912</td>\n",
       "<td>314.2459139</td></tr>\n",
       "<tr><td></td>\n",
       "<td>7</td>\n",
       "<td>0.1500261</td>\n",
       "<td>0.6883764</td>\n",
       "<td>3.8465663</td>\n",
       "<td>4.0438484</td>\n",
       "<td>0.9262899</td>\n",
       "<td>0.9737973</td>\n",
       "<td>0.1923224</td>\n",
       "<td>0.6066828</td>\n",
       "<td>284.6566291</td>\n",
       "<td>304.3848380</td></tr>\n",
       "<tr><td></td>\n",
       "<td>8</td>\n",
       "<td>0.2000246</td>\n",
       "<td>0.5558342</td>\n",
       "<td>3.3644701</td>\n",
       "<td>3.8740299</td>\n",
       "<td>0.8101966</td>\n",
       "<td>0.9329034</td>\n",
       "<td>0.1682183</td>\n",
       "<td>0.7749012</td>\n",
       "<td>236.4470118</td>\n",
       "<td>287.4029892</td></tr>\n",
       "<tr><td></td>\n",
       "<td>9</td>\n",
       "<td>0.3000215</td>\n",
       "<td>0.3032432</td>\n",
       "<td>1.9283847</td>\n",
       "<td>3.2255479</td>\n",
       "<td>0.4643735</td>\n",
       "<td>0.7767428</td>\n",
       "<td>0.1928325</td>\n",
       "<td>0.9677337</td>\n",
       "<td>92.8384692</td>\n",
       "<td>222.5547881</td></tr>\n",
       "<tr><td></td>\n",
       "<td>10</td>\n",
       "<td>0.4000184</td>\n",
       "<td>0.1516523</td>\n",
       "<td>0.3099190</td>\n",
       "<td>2.4966966</td>\n",
       "<td>0.0746314</td>\n",
       "<td>0.6012284</td>\n",
       "<td>0.0309909</td>\n",
       "<td>0.9987247</td>\n",
       "<td>-69.0081032</td>\n",
       "<td>149.6696615</td></tr>\n",
       "<tr><td></td>\n",
       "<td>11</td>\n",
       "<td>0.5000154</td>\n",
       "<td>0.0624772</td>\n",
       "<td>0.0127539</td>\n",
       "<td>1.9999386</td>\n",
       "<td>0.0030713</td>\n",
       "<td>0.4816043</td>\n",
       "<td>0.0012753</td>\n",
       "<td>1.0</td>\n",
       "<td>-98.7246133</td>\n",
       "<td>99.9938579</td></tr>\n",
       "<tr><td></td>\n",
       "<td>12</td>\n",
       "<td>0.6000123</td>\n",
       "<td>0.0229437</td>\n",
       "<td>0.0</td>\n",
       "<td>1.6666325</td>\n",
       "<td>0.0</td>\n",
       "<td>0.4013410</td>\n",
       "<td>0.0</td>\n",
       "<td>1.0</td>\n",
       "<td>-100.0</td>\n",
       "<td>66.6632543</td></tr>\n",
       "<tr><td></td>\n",
       "<td>13</td>\n",
       "<td>0.7000092</td>\n",
       "<td>0.0068476</td>\n",
       "<td>0.0</td>\n",
       "<td>1.4285526</td>\n",
       "<td>0.0</td>\n",
       "<td>0.3440091</td>\n",
       "<td>0.0</td>\n",
       "<td>1.0</td>\n",
       "<td>-100.0</td>\n",
       "<td>42.8552626</td></tr>\n",
       "<tr><td></td>\n",
       "<td>14</td>\n",
       "<td>0.8000369</td>\n",
       "<td>0.0008333</td>\n",
       "<td>0.0</td>\n",
       "<td>1.2499424</td>\n",
       "<td>0.0</td>\n",
       "<td>0.3009981</td>\n",
       "<td>0.0</td>\n",
       "<td>1.0</td>\n",
       "<td>-100.0</td>\n",
       "<td>24.9942418</td></tr>\n",
       "<tr><td></td>\n",
       "<td>15</td>\n",
       "<td>1.0</td>\n",
       "<td>0.0</td>\n",
       "<td>0.0</td>\n",
       "<td>1.0</td>\n",
       "<td>0.0</td>\n",
       "<td>0.2408096</td>\n",
       "<td>0.0</td>\n",
       "<td>1.0</td>\n",
       "<td>-100.0</td>\n",
       "<td>0.0</td></tr></table></div>"
      ],
      "text/plain": [
       "    group    cumulative_data_fraction    lower_threshold    lift       cumulative_lift    response_rate    cumulative_response_rate    capture_rate    cumulative_capture_rate    gain      cumulative_gain\n",
       "--  -------  --------------------------  -----------------  ---------  -----------------  ---------------  --------------------------  --------------  -------------------------  --------  -----------------\n",
       "    1        0.010012                    0.998453           4.15266    4.15266            1                1                           0.0415763       0.0415763                  315.266   315.266\n",
       "    2        0.020024                    0.992822           4.15266    4.15266            1                1                           0.0415763       0.0831527                  315.266   315.266\n",
       "    3        0.0300052                   0.985544           4.15266    4.15266            1                1                           0.0414488       0.124601                   315.266   315.266\n",
       "    4        0.0400172                   0.973923           4.15266    4.15266            1                1                           0.0415763       0.166178                   315.266   315.266\n",
       "    5        0.0500292                   0.954568           4.15266    4.15266            1                1                           0.0415763       0.207754                   315.266   315.266\n",
       "    6        0.100028                    0.81103            4.13225    4.14246            0.995086         0.997544                    0.206606        0.41436                    313.225   314.246\n",
       "    7        0.150026                    0.688376           3.84657    4.04385            0.92629          0.973797                    0.192322        0.606683                   284.657   304.385\n",
       "    8        0.200025                    0.555834           3.36447    3.87403            0.810197         0.932903                    0.168218        0.774901                   236.447   287.403\n",
       "    9        0.300021                    0.303243           1.92838    3.22555            0.464373         0.776743                    0.192833        0.967734                   92.8385   222.555\n",
       "    10       0.400018                    0.151652           0.309919   2.4967             0.0746314        0.601228                    0.0309909       0.998725                   -69.0081  149.67\n",
       "    11       0.500015                    0.0624772          0.0127539  1.99994            0.00307125       0.481604                    0.00127535      1                          -98.7246  99.9939\n",
       "    12       0.600012                    0.0229437          0          1.66663            0                0.401341                    0               1                          -100      66.6633\n",
       "    13       0.700009                    0.00684759         0          1.42855            0                0.344009                    0               1                          -100      42.8553\n",
       "    14       0.800037                    0.000833333        0          1.24994            0                0.300998                    0               1                          -100      24.9942\n",
       "    15       1                           0                  0          1                  0                0.24081                     0               1                          -100      0"
      ]
     },
     "metadata": {},
     "output_type": "display_data"
    },
    {
     "name": "stdout",
     "output_type": "stream",
     "text": [
      "\n"
     ]
    },
    {
     "data": {
      "text/plain": []
     },
     "execution_count": 56,
     "metadata": {},
     "output_type": "execute_result"
    }
   ],
   "source": [
    "#Leyendo los datos\n",
    "datos= h2o.import_file(\"https://archive.ics.uci.edu/ml/machine-learning-databases/adult/adult.data\",na_strings=[' ?'])\n",
    "myx=['C1', 'C2', 'C3', 'C4', 'C5','C6','C7','C8','C9','C10','C11', 'C12','C13','C14']\n",
    "datos['C15']=datos['C15'].asfactor()\n",
    "myy=\"C15\"\n",
    "model=H2ORandomForestEstimator(ntrees=100,max_depth=20,nfolds=10)\n",
    "model.train(myx, myy, training_frame = datos)\n",
    "y_pred=model.predict(datos)\n",
    "print (y_pred['predict']==datos['C15']).sum()/float(len(datos))\n",
    "model.model_performance(datos)"
   ]
  },
  {
   "cell_type": "code",
   "execution_count": 57,
   "metadata": {},
   "outputs": [
    {
     "data": {
      "image/png": "[encoded data removed]",
      "text/plain": [
       "<matplotlib.figure.Figure at 0xf111438>"
      ]
     },
     "metadata": {},
     "output_type": "display_data"
    }
   ],
   "source": [
    "import matplotlib.pyplot as plt\n",
    "plt.rcdefaults()\n",
    "fig, ax = plt.subplots()\n",
    "variables = model._model_json['output']['variable_importances']['variable']\n",
    "y_pos = np.arange(len(variables))\n",
    "scaled_importance = model._model_json['output']['variable_importances']['scaled_importance']\n",
    "ax.barh(y_pos, scaled_importance, align='center', color='green', ecolor='black')\n",
    "ax.set_yticks(y_pos)\n",
    "ax.set_yticklabels(variables)\n",
    "ax.invert_yaxis()\n",
    "ax.set_xlabel('Scaled Importance')\n",
    "ax.set_title('Variable Importance')\n",
    "plt.show()"
   ]
  },
  {
   "cell_type": "code",
   "execution_count": null,
   "metadata": {
    "collapsed": true
   },
   "outputs": [],
   "source": []
  }
 ],
 "metadata": {
  "kernelspec": {
   "display_name": "Python 2",
   "language": "python",
   "name": "python2"
  },
  "language_info": {
   "codemirror_mode": {
    "name": "ipython",
    "version": 2
   },
   "file_extension": ".py",
   "mimetype": "text/x-python",
   "name": "python",
   "nbconvert_exporter": "python",
   "pygments_lexer": "ipython2",
   "version": "2.7.13"
  }
 },
 "nbformat": 4,
 "nbformat_minor": 2
}
