{
 "cells": [
  {
   "cell_type": "markdown",
   "metadata": {},
   "source": [
    "### ESMA 4016\n",
    "### Regresion Logistica con las libreria H20  y scikit-learn\n",
    "#### Edgar Acuna"
   ]
  },
  {
   "cell_type": "code",
   "execution_count": 186,
   "metadata": {
    "scrolled": true
   },
   "outputs": [
    {
     "name": "stdout",
     "output_type": "stream",
     "text": [
      "Checking whether there is an H2O instance running at http://localhost:54321. connected.\n"
     ]
    },
    {
     "data": {
      "text/html": [
       "<div style=\"overflow:auto\"><table style=\"width:50%\"><tr><td>H2O cluster uptime:</td>\n",
       "<td>10 hours 50 mins</td></tr>\n",
       "<tr><td>H2O cluster timezone:</td>\n",
       "<td>America/La_Paz</td></tr>\n",
       "<tr><td>H2O data parsing timezone:</td>\n",
       "<td>UTC</td></tr>\n",
       "<tr><td>H2O cluster version:</td>\n",
       "<td>3.18.0.6</td></tr>\n",
       "<tr><td>H2O cluster version age:</td>\n",
       "<td>4 days </td></tr>\n",
       "<tr><td>H2O cluster name:</td>\n",
       "<td>H2O_from_python_edgar2017_7mwin8</td></tr>\n",
       "<tr><td>H2O cluster total nodes:</td>\n",
       "<td>1</td></tr>\n",
       "<tr><td>H2O cluster free memory:</td>\n",
       "<td>1.583 Gb</td></tr>\n",
       "<tr><td>H2O cluster total cores:</td>\n",
       "<td>4</td></tr>\n",
       "<tr><td>H2O cluster allowed cores:</td>\n",
       "<td>4</td></tr>\n",
       "<tr><td>H2O cluster status:</td>\n",
       "<td>locked, healthy</td></tr>\n",
       "<tr><td>H2O connection url:</td>\n",
       "<td>http://localhost:54321</td></tr>\n",
       "<tr><td>H2O connection proxy:</td>\n",
       "<td>None</td></tr>\n",
       "<tr><td>H2O internal security:</td>\n",
       "<td>False</td></tr>\n",
       "<tr><td>H2O API Extensions:</td>\n",
       "<td>Algos, AutoML, Core V3, Core V4</td></tr>\n",
       "<tr><td>Python version:</td>\n",
       "<td>2.7.13 final</td></tr></table></div>"
      ],
      "text/plain": [
       "--------------------------  --------------------------------\n",
       "H2O cluster uptime:         10 hours 50 mins\n",
       "H2O cluster timezone:       America/La_Paz\n",
       "H2O data parsing timezone:  UTC\n",
       "H2O cluster version:        3.18.0.6\n",
       "H2O cluster version age:    4 days\n",
       "H2O cluster name:           H2O_from_python_edgar2017_7mwin8\n",
       "H2O cluster total nodes:    1\n",
       "H2O cluster free memory:    1.583 Gb\n",
       "H2O cluster total cores:    4\n",
       "H2O cluster allowed cores:  4\n",
       "H2O cluster status:         locked, healthy\n",
       "H2O connection url:         http://localhost:54321\n",
       "H2O connection proxy:\n",
       "H2O internal security:      False\n",
       "H2O API Extensions:         Algos, AutoML, Core V3, Core V4\n",
       "Python version:             2.7.13 final\n",
       "--------------------------  --------------------------------"
      ]
     },
     "metadata": {},
     "output_type": "display_data"
    }
   ],
   "source": [
    "import h2o\n",
    "import numpy as np\n",
    "import pandas as pd\n",
    "from sklearn.linear_model import LogisticRegression\n",
    "from sklearn.model_selection import train_test_split\n",
    "from sklearn.preprocessing import StandardScaler\n",
    "from sklearn.preprocessing import LabelEncoder\n",
    "from sklearn.metrics import roc_auc_score\n",
    "from sklearn.tree import DecisionTreeClassifier\n",
    "from sklearn.metrics import classification_report\n",
    "from h2o.estimators.random_forest import H2ORandomForestEstimator\n",
    "from h2o.estimators.naive_bayes import H2ONaiveBayesEstimator\n",
    "from h2o.estimators.glm   import H2OGeneralizedLinearEstimator\n",
    "\n",
    "h2o.init()\n",
    "h2o.no_progress()\n"
   ]
  },
  {
   "cell_type": "markdown",
   "metadata": {},
   "source": [
    "### I- Aplicando Naive Bayes a  Diabetes usando H20"
   ]
  },
  {
   "cell_type": "code",
   "execution_count": 187,
   "metadata": {},
   "outputs": [
    {
     "name": "stdout",
     "output_type": "stream",
     "text": [
      "0.72265625\n"
     ]
    }
   ],
   "source": [
    "diabetes = h2o.import_file(\"https://academic.uprm.edu/eacuna/diabetes.dat\")\n",
    "myx=['C1','C2','C3','C4','C5','C6','C7','C8']\n",
    "diabetes['C9']=diabetes['C9'].asfactor()\n",
    "myy=\"C9\"\n",
    "# Create test/train split\n",
    "#train, test = vehicle.split_frame(ratios=[0.75], seed=1)\n",
    "model=H2ONaiveBayesEstimator()\n",
    "model.train(myx, myy, training_frame = diabetes)\n",
    "y_pred=model.predict(diabetes)\n",
    "print (y_pred['predict']==diabetes['C9']).sum()/float(len(diabetes))"
   ]
  },
  {
   "cell_type": "markdown",
   "metadata": {},
   "source": [
    "### II -Aplicando Naive Bayes al dataset  Loan que tiene datos continuos y categoricos usando H20"
   ]
  },
  {
   "cell_type": "code",
   "execution_count": 188,
   "metadata": {},
   "outputs": [
    {
     "data": {
      "text/html": [
       "<table>\n",
       "<thead>\n",
       "<tr><th>Sexo  </th><th style=\"text-align: right;\">  Familia</th><th>CasPropia  </th><th style=\"text-align: right;\">  AnosEmpleo</th><th style=\"text-align: right;\">  Sueldo</th><th>StatustMarital  </th><th>Prestamo  </th></tr>\n",
       "</thead>\n",
       "<tbody>\n",
       "<tr><td>Hombre</td><td style=\"text-align: right;\">        3</td><td>No         </td><td style=\"text-align: right;\">          17</td><td style=\"text-align: right;\">    2500</td><td>Soltero         </td><td>No        </td></tr>\n",
       "<tr><td>Mujer </td><td style=\"text-align: right;\">        5</td><td>Si         </td><td style=\"text-align: right;\">          10</td><td style=\"text-align: right;\">    3000</td><td>Casado          </td><td>Si        </td></tr>\n",
       "<tr><td>Mujer </td><td style=\"text-align: right;\">        4</td><td>No         </td><td style=\"text-align: right;\">          15</td><td style=\"text-align: right;\">    2000</td><td>Viudo           </td><td>No        </td></tr>\n",
       "<tr><td>Hombre</td><td style=\"text-align: right;\">        3</td><td>Si         </td><td style=\"text-align: right;\">          16</td><td style=\"text-align: right;\">    2800</td><td>Soltero         </td><td>Si        </td></tr>\n",
       "<tr><td>Hombre</td><td style=\"text-align: right;\">        6</td><td>Si         </td><td style=\"text-align: right;\">          11</td><td style=\"text-align: right;\">    4000</td><td>Viudo           </td><td>Si        </td></tr>\n",
       "<tr><td>Mujer </td><td style=\"text-align: right;\">        4</td><td>Si         </td><td style=\"text-align: right;\">          26</td><td style=\"text-align: right;\">    3200</td><td>Soltero         </td><td>Si        </td></tr>\n",
       "<tr><td>Mujer </td><td style=\"text-align: right;\">        2</td><td>Si         </td><td style=\"text-align: right;\">          14</td><td style=\"text-align: right;\">    1800</td><td>Soltero         </td><td>No        </td></tr>\n",
       "<tr><td>Hombre</td><td style=\"text-align: right;\">        5</td><td>Si         </td><td style=\"text-align: right;\">          10</td><td style=\"text-align: right;\">    3750</td><td>Casado          </td><td>Si        </td></tr>\n",
       "<tr><td>Hombre</td><td style=\"text-align: right;\">        6</td><td>No         </td><td style=\"text-align: right;\">          18</td><td style=\"text-align: right;\">    2970</td><td>Divorciado      </td><td>No        </td></tr>\n",
       "<tr><td>Hombre</td><td style=\"text-align: right;\">        4</td><td>Si         </td><td style=\"text-align: right;\">          12</td><td style=\"text-align: right;\">    3350</td><td>Divorciado      </td><td>No        </td></tr>\n",
       "</tbody>\n",
       "</table>"
      ]
     },
     "metadata": {},
     "output_type": "display_data"
    },
    {
     "data": {
      "text/plain": []
     },
     "execution_count": 188,
     "metadata": {},
     "output_type": "execute_result"
    }
   ],
   "source": [
    "loan = h2o.import_file(\"https://academic.uprm.edu/eacuna/datosarbol.csv\")\n",
    "loan"
   ]
  },
  {
   "cell_type": "code",
   "execution_count": 189,
   "metadata": {},
   "outputs": [
    {
     "name": "stdout",
     "output_type": "stream",
     "text": [
      "0.88\n",
      "\n",
      "ModelMetricsBinomial: naivebayes\n",
      "** Reported on test data. **\n",
      "\n",
      "MSE: 0.0854946728279\n",
      "RMSE: 0.29239472093\n",
      "LogLoss: 0.277825390866\n",
      "Mean Per-Class Error: 0.1\n",
      "AUC: 0.96\n",
      "Gini: 0.92\n",
      "Confusion Matrix (Act/Pred) for max f1 @ threshold = 0.458241448484: \n"
     ]
    },
    {
     "data": {
      "text/html": [
       "<div style=\"overflow:auto\"><table style=\"width:50%\"><tr><td><b></b></td>\n",
       "<td><b>No</b></td>\n",
       "<td><b>Si</b></td>\n",
       "<td><b>Error</b></td>\n",
       "<td><b>Rate</b></td></tr>\n",
       "<tr><td>No</td>\n",
       "<td>7.0</td>\n",
       "<td>3.0</td>\n",
       "<td>0.3</td>\n",
       "<td> (3.0/10.0)</td></tr>\n",
       "<tr><td>Si</td>\n",
       "<td>0.0</td>\n",
       "<td>15.0</td>\n",
       "<td>0.0</td>\n",
       "<td> (0.0/15.0)</td></tr>\n",
       "<tr><td>Total</td>\n",
       "<td>7.0</td>\n",
       "<td>18.0</td>\n",
       "<td>0.12</td>\n",
       "<td> (3.0/25.0)</td></tr></table></div>"
      ],
      "text/plain": [
       "       No    Si    Error    Rate\n",
       "-----  ----  ----  -------  ----------\n",
       "No     7     3     0.3      (3.0/10.0)\n",
       "Si     0     15    0        (0.0/15.0)\n",
       "Total  7     18    0.12     (3.0/25.0)"
      ]
     },
     "metadata": {},
     "output_type": "display_data"
    },
    {
     "name": "stdout",
     "output_type": "stream",
     "text": [
      "Maximum Metrics: Maximum metrics at their respective thresholds\n",
      "\n"
     ]
    },
    {
     "data": {
      "text/html": [
       "<div style=\"overflow:auto\"><table style=\"width:50%\"><tr><td><b>metric</b></td>\n",
       "<td><b>threshold</b></td>\n",
       "<td><b>value</b></td>\n",
       "<td><b>idx</b></td></tr>\n",
       "<tr><td>max f1</td>\n",
       "<td>0.4582414</td>\n",
       "<td>0.9090909</td>\n",
       "<td>17.0</td></tr>\n",
       "<tr><td>max f2</td>\n",
       "<td>0.4582414</td>\n",
       "<td>0.9615385</td>\n",
       "<td>17.0</td></tr>\n",
       "<tr><td>max f0point5</td>\n",
       "<td>0.6756497</td>\n",
       "<td>0.9523810</td>\n",
       "<td>11.0</td></tr>\n",
       "<tr><td>max accuracy</td>\n",
       "<td>0.6756497</td>\n",
       "<td>0.88</td>\n",
       "<td>11.0</td></tr>\n",
       "<tr><td>max precision</td>\n",
       "<td>0.9996507</td>\n",
       "<td>1.0</td>\n",
       "<td>0.0</td></tr>\n",
       "<tr><td>max recall</td>\n",
       "<td>0.4582414</td>\n",
       "<td>1.0</td>\n",
       "<td>17.0</td></tr>\n",
       "<tr><td>max specificity</td>\n",
       "<td>0.9996507</td>\n",
       "<td>1.0</td>\n",
       "<td>0.0</td></tr>\n",
       "<tr><td>max absolute_mcc</td>\n",
       "<td>0.6756497</td>\n",
       "<td>0.7844645</td>\n",
       "<td>11.0</td></tr>\n",
       "<tr><td>max min_per_class_accuracy</td>\n",
       "<td>0.5195887</td>\n",
       "<td>0.8666667</td>\n",
       "<td>13.0</td></tr>\n",
       "<tr><td>max mean_per_class_accuracy</td>\n",
       "<td>0.6756497</td>\n",
       "<td>0.9</td>\n",
       "<td>11.0</td></tr></table></div>"
      ],
      "text/plain": [
       "metric                       threshold    value     idx\n",
       "---------------------------  -----------  --------  -----\n",
       "max f1                       0.458241     0.909091  17\n",
       "max f2                       0.458241     0.961538  17\n",
       "max f0point5                 0.67565      0.952381  11\n",
       "max accuracy                 0.67565      0.88      11\n",
       "max precision                0.999651     1         0\n",
       "max recall                   0.458241     1         17\n",
       "max specificity              0.999651     1         0\n",
       "max absolute_mcc             0.67565      0.784465  11\n",
       "max min_per_class_accuracy   0.519589     0.866667  13\n",
       "max mean_per_class_accuracy  0.67565      0.9       11"
      ]
     },
     "metadata": {},
     "output_type": "display_data"
    },
    {
     "name": "stdout",
     "output_type": "stream",
     "text": [
      "Gains/Lift Table: Avg response rate: 60.00 %\n",
      "\n"
     ]
    },
    {
     "data": {
      "text/html": [
       "<div style=\"overflow:auto\"><table style=\"width:50%\"><tr><td><b></b></td>\n",
       "<td><b>group</b></td>\n",
       "<td><b>cumulative_data_fraction</b></td>\n",
       "<td><b>lower_threshold</b></td>\n",
       "<td><b>lift</b></td>\n",
       "<td><b>cumulative_lift</b></td>\n",
       "<td><b>response_rate</b></td>\n",
       "<td><b>cumulative_response_rate</b></td>\n",
       "<td><b>capture_rate</b></td>\n",
       "<td><b>cumulative_capture_rate</b></td>\n",
       "<td><b>gain</b></td>\n",
       "<td><b>cumulative_gain</b></td></tr>\n",
       "<tr><td></td>\n",
       "<td>1</td>\n",
       "<td>0.04</td>\n",
       "<td>0.9995576</td>\n",
       "<td>1.6666667</td>\n",
       "<td>1.6666667</td>\n",
       "<td>1.0</td>\n",
       "<td>1.0</td>\n",
       "<td>0.0666667</td>\n",
       "<td>0.0666667</td>\n",
       "<td>66.6666667</td>\n",
       "<td>66.6666667</td></tr>\n",
       "<tr><td></td>\n",
       "<td>2</td>\n",
       "<td>0.04</td>\n",
       "<td>0.9994645</td>\n",
       "<td>0.0</td>\n",
       "<td>1.6666667</td>\n",
       "<td>0.0</td>\n",
       "<td>1.0</td>\n",
       "<td>0.0</td>\n",
       "<td>0.0666667</td>\n",
       "<td>-100.0</td>\n",
       "<td>66.6666667</td></tr>\n",
       "<tr><td></td>\n",
       "<td>3</td>\n",
       "<td>0.04</td>\n",
       "<td>0.9993714</td>\n",
       "<td>0.0</td>\n",
       "<td>1.6666667</td>\n",
       "<td>0.0</td>\n",
       "<td>1.0</td>\n",
       "<td>0.0</td>\n",
       "<td>0.0666667</td>\n",
       "<td>-100.0</td>\n",
       "<td>66.6666667</td></tr>\n",
       "<tr><td></td>\n",
       "<td>4</td>\n",
       "<td>0.04</td>\n",
       "<td>0.9992784</td>\n",
       "<td>0.0</td>\n",
       "<td>1.6666667</td>\n",
       "<td>0.0</td>\n",
       "<td>1.0</td>\n",
       "<td>0.0</td>\n",
       "<td>0.0666667</td>\n",
       "<td>-100.0</td>\n",
       "<td>66.6666667</td></tr>\n",
       "<tr><td></td>\n",
       "<td>5</td>\n",
       "<td>0.08</td>\n",
       "<td>0.9992516</td>\n",
       "<td>1.6666667</td>\n",
       "<td>1.6666667</td>\n",
       "<td>1.0</td>\n",
       "<td>1.0</td>\n",
       "<td>0.0666667</td>\n",
       "<td>0.1333333</td>\n",
       "<td>66.6666667</td>\n",
       "<td>66.6666667</td></tr>\n",
       "<tr><td></td>\n",
       "<td>6</td>\n",
       "<td>0.12</td>\n",
       "<td>0.9990432</td>\n",
       "<td>1.6666667</td>\n",
       "<td>1.6666667</td>\n",
       "<td>1.0</td>\n",
       "<td>1.0</td>\n",
       "<td>0.0666667</td>\n",
       "<td>0.2</td>\n",
       "<td>66.6666667</td>\n",
       "<td>66.6666667</td></tr>\n",
       "<tr><td></td>\n",
       "<td>7</td>\n",
       "<td>0.16</td>\n",
       "<td>0.9980499</td>\n",
       "<td>1.6666667</td>\n",
       "<td>1.6666667</td>\n",
       "<td>1.0</td>\n",
       "<td>1.0</td>\n",
       "<td>0.0666667</td>\n",
       "<td>0.2666667</td>\n",
       "<td>66.6666667</td>\n",
       "<td>66.6666667</td></tr>\n",
       "<tr><td></td>\n",
       "<td>8</td>\n",
       "<td>0.2</td>\n",
       "<td>0.9644366</td>\n",
       "<td>1.6666667</td>\n",
       "<td>1.6666667</td>\n",
       "<td>1.0</td>\n",
       "<td>1.0</td>\n",
       "<td>0.0666667</td>\n",
       "<td>0.3333333</td>\n",
       "<td>66.6666667</td>\n",
       "<td>66.6666667</td></tr>\n",
       "<tr><td></td>\n",
       "<td>9</td>\n",
       "<td>0.32</td>\n",
       "<td>0.8380636</td>\n",
       "<td>1.6666667</td>\n",
       "<td>1.6666667</td>\n",
       "<td>1.0</td>\n",
       "<td>1.0</td>\n",
       "<td>0.2</td>\n",
       "<td>0.5333333</td>\n",
       "<td>66.6666667</td>\n",
       "<td>66.6666667</td></tr>\n",
       "<tr><td></td>\n",
       "<td>10</td>\n",
       "<td>0.4</td>\n",
       "<td>0.7071564</td>\n",
       "<td>1.6666667</td>\n",
       "<td>1.6666667</td>\n",
       "<td>1.0</td>\n",
       "<td>1.0</td>\n",
       "<td>0.1333333</td>\n",
       "<td>0.6666667</td>\n",
       "<td>66.6666667</td>\n",
       "<td>66.6666667</td></tr>\n",
       "<tr><td></td>\n",
       "<td>11</td>\n",
       "<td>0.52</td>\n",
       "<td>0.6045712</td>\n",
       "<td>1.1111111</td>\n",
       "<td>1.5384615</td>\n",
       "<td>0.6666667</td>\n",
       "<td>0.9230769</td>\n",
       "<td>0.1333333</td>\n",
       "<td>0.8</td>\n",
       "<td>11.1111111</td>\n",
       "<td>53.8461538</td></tr>\n",
       "<tr><td></td>\n",
       "<td>12</td>\n",
       "<td>0.6</td>\n",
       "<td>0.4742733</td>\n",
       "<td>0.8333333</td>\n",
       "<td>1.4444444</td>\n",
       "<td>0.5</td>\n",
       "<td>0.8666667</td>\n",
       "<td>0.0666667</td>\n",
       "<td>0.8666667</td>\n",
       "<td>-16.6666667</td>\n",
       "<td>44.4444444</td></tr>\n",
       "<tr><td></td>\n",
       "<td>13</td>\n",
       "<td>0.68</td>\n",
       "<td>0.4597614</td>\n",
       "<td>0.8333333</td>\n",
       "<td>1.3725490</td>\n",
       "<td>0.5</td>\n",
       "<td>0.8235294</td>\n",
       "<td>0.0666667</td>\n",
       "<td>0.9333333</td>\n",
       "<td>-16.6666667</td>\n",
       "<td>37.2549020</td></tr>\n",
       "<tr><td></td>\n",
       "<td>14</td>\n",
       "<td>0.8</td>\n",
       "<td>0.1353080</td>\n",
       "<td>0.5555556</td>\n",
       "<td>1.25</td>\n",
       "<td>0.3333333</td>\n",
       "<td>0.75</td>\n",
       "<td>0.0666667</td>\n",
       "<td>1.0</td>\n",
       "<td>-44.4444444</td>\n",
       "<td>25.0</td></tr>\n",
       "<tr><td></td>\n",
       "<td>15</td>\n",
       "<td>0.88</td>\n",
       "<td>0.0693495</td>\n",
       "<td>0.0</td>\n",
       "<td>1.1363636</td>\n",
       "<td>0.0</td>\n",
       "<td>0.6818182</td>\n",
       "<td>0.0</td>\n",
       "<td>1.0</td>\n",
       "<td>-100.0</td>\n",
       "<td>13.6363636</td></tr>\n",
       "<tr><td></td>\n",
       "<td>16</td>\n",
       "<td>1.0</td>\n",
       "<td>0.0271382</td>\n",
       "<td>0.0</td>\n",
       "<td>1.0</td>\n",
       "<td>0.0</td>\n",
       "<td>0.6</td>\n",
       "<td>0.0</td>\n",
       "<td>1.0</td>\n",
       "<td>-100.0</td>\n",
       "<td>0.0</td></tr></table></div>"
      ],
      "text/plain": [
       "    group    cumulative_data_fraction    lower_threshold    lift      cumulative_lift    response_rate    cumulative_response_rate    capture_rate    cumulative_capture_rate    gain      cumulative_gain\n",
       "--  -------  --------------------------  -----------------  --------  -----------------  ---------------  --------------------------  --------------  -------------------------  --------  -----------------\n",
       "    1        0.04                        0.999558           1.66667   1.66667            1                1                           0.0666667       0.0666667                  66.6667   66.6667\n",
       "    2        0.04                        0.999465           0         1.66667            0                1                           0               0.0666667                  -100      66.6667\n",
       "    3        0.04                        0.999371           0         1.66667            0                1                           0               0.0666667                  -100      66.6667\n",
       "    4        0.04                        0.999278           0         1.66667            0                1                           0               0.0666667                  -100      66.6667\n",
       "    5        0.08                        0.999252           1.66667   1.66667            1                1                           0.0666667       0.133333                   66.6667   66.6667\n",
       "    6        0.12                        0.999043           1.66667   1.66667            1                1                           0.0666667       0.2                        66.6667   66.6667\n",
       "    7        0.16                        0.99805            1.66667   1.66667            1                1                           0.0666667       0.266667                   66.6667   66.6667\n",
       "    8        0.2                         0.964437           1.66667   1.66667            1                1                           0.0666667       0.333333                   66.6667   66.6667\n",
       "    9        0.32                        0.838064           1.66667   1.66667            1                1                           0.2             0.533333                   66.6667   66.6667\n",
       "    10       0.4                         0.707156           1.66667   1.66667            1                1                           0.133333        0.666667                   66.6667   66.6667\n",
       "    11       0.52                        0.604571           1.11111   1.53846            0.666667         0.923077                    0.133333        0.8                        11.1111   53.8462\n",
       "    12       0.6                         0.474273           0.833333  1.44444            0.5              0.866667                    0.0666667       0.866667                   -16.6667  44.4444\n",
       "    13       0.68                        0.459761           0.833333  1.37255            0.5              0.823529                    0.0666667       0.933333                   -16.6667  37.2549\n",
       "    14       0.8                         0.135308           0.555556  1.25               0.333333         0.75                        0.0666667       1                          -44.4444  25\n",
       "    15       0.88                        0.0693495          0         1.13636            0                0.681818                    0               1                          -100      13.6364\n",
       "    16       1                           0.0271382          0         1                  0                0.6                         0               1                          -100      0"
      ]
     },
     "metadata": {},
     "output_type": "display_data"
    },
    {
     "name": "stdout",
     "output_type": "stream",
     "text": [
      "\n"
     ]
    },
    {
     "data": {
      "text/plain": []
     },
     "execution_count": 189,
     "metadata": {},
     "output_type": "execute_result"
    }
   ],
   "source": [
    "myx=['Sexo','Familia','CasPropia', 'AnosEmpleo','Sueldo','StatustMarital']\n",
    "loan['Prestamo']=loan['Prestamo'].asfactor()\n",
    "myy=\"Prestamo\"\n",
    "# Create test/train split\n",
    "#train, test = vehicle.split_frame(ratios=[0.75], seed=1)\n",
    "model=H2ONaiveBayesEstimator()\n",
    "model.train(myx, myy, training_frame = loan)\n",
    "y_pred=model.predict(loan)\n",
    "print (y_pred['predict']==loan['Prestamo']).sum()/float(len(loan))\n",
    "model.model_performance(loan)"
   ]
  },
  {
   "cell_type": "markdown",
   "metadata": {},
   "source": [
    "### III. Aplicando Naive Bayes  al dataset  Vehicle usando H20"
   ]
  },
  {
   "cell_type": "code",
   "execution_count": 190,
   "metadata": {
    "scrolled": false
   },
   "outputs": [
    {
     "name": "stdout",
     "output_type": "stream",
     "text": [
      "0.472813238771\n",
      "\n",
      "ModelMetricsMultinomial: naivebayes\n",
      "** Reported on test data. **\n",
      "\n",
      "MSE: 0.435659850789\n",
      "RMSE: 0.660045339949\n",
      "LogLoss: 2.39864325324\n",
      "Mean Per-Class Error: 0.51830069164\n",
      "Confusion Matrix: Row labels: Actual class; Column labels: Predicted class\n",
      "\n"
     ]
    },
    {
     "data": {
      "text/html": [
       "<div style=\"overflow:auto\"><table style=\"width:50%\"><tr><td><b>1</b></td>\n",
       "<td><b>2</b></td>\n",
       "<td><b>3</b></td>\n",
       "<td><b>4</b></td>\n",
       "<td><b>Error</b></td>\n",
       "<td><b>Rate</b></td></tr>\n",
       "<tr><td>39.0</td>\n",
       "<td>35.0</td>\n",
       "<td>11.0</td>\n",
       "<td>133.0</td>\n",
       "<td>0.8211009</td>\n",
       "<td>179 / 218</td></tr>\n",
       "<tr><td>1.0</td>\n",
       "<td>93.0</td>\n",
       "<td>55.0</td>\n",
       "<td>63.0</td>\n",
       "<td>0.5613208</td>\n",
       "<td>119 / 212</td></tr>\n",
       "<tr><td>2.0</td>\n",
       "<td>58.0</td>\n",
       "<td>90.0</td>\n",
       "<td>67.0</td>\n",
       "<td>0.5852535</td>\n",
       "<td>127 / 217</td></tr>\n",
       "<tr><td>10.0</td>\n",
       "<td>3.0</td>\n",
       "<td>8.0</td>\n",
       "<td>178.0</td>\n",
       "<td>0.1055276</td>\n",
       "<td>21 / 199</td></tr>\n",
       "<tr><td>52.0</td>\n",
       "<td>189.0</td>\n",
       "<td>164.0</td>\n",
       "<td>441.0</td>\n",
       "<td>0.5271868</td>\n",
       "<td>446 / 846</td></tr></table></div>"
      ],
      "text/plain": [
       "1    2    3    4    Error     Rate\n",
       "---  ---  ---  ---  --------  ---------\n",
       "39   35   11   133  0.821101  179 / 218\n",
       "1    93   55   63   0.561321  119 / 212\n",
       "2    58   90   67   0.585253  127 / 217\n",
       "10   3    8    178  0.105528  21 / 199\n",
       "52   189  164  441  0.527187  446 / 846"
      ]
     },
     "metadata": {},
     "output_type": "display_data"
    },
    {
     "name": "stdout",
     "output_type": "stream",
     "text": [
      "Top-4 Hit Ratios: \n"
     ]
    },
    {
     "data": {
      "text/html": [
       "<div style=\"overflow:auto\"><table style=\"width:50%\"><tr><td><b>k</b></td>\n",
       "<td><b>hit_ratio</b></td></tr>\n",
       "<tr><td>1</td>\n",
       "<td>0.4728133</td></tr>\n",
       "<tr><td>2</td>\n",
       "<td>0.8120568</td></tr>\n",
       "<tr><td>3</td>\n",
       "<td>0.9503546</td></tr>\n",
       "<tr><td>4</td>\n",
       "<td>1.0</td></tr></table></div>"
      ],
      "text/plain": [
       "k    hit_ratio\n",
       "---  -----------\n",
       "1    0.472813\n",
       "2    0.812057\n",
       "3    0.950355\n",
       "4    1"
      ]
     },
     "metadata": {},
     "output_type": "display_data"
    },
    {
     "data": {
      "text/plain": []
     },
     "execution_count": 190,
     "metadata": {},
     "output_type": "execute_result"
    }
   ],
   "source": [
    "#Aplicando Naive Baye  a vehicle\n",
    "vehicle = h2o.import_file(\"https://academic.uprm.edu/eacuna/vehicle.csv\")\n",
    "myx=['V1','V2','V3','V4','V5','V6','V7','V8','V9','V10','V11','V12','V13','V14','V15','V16','V17','V18']\n",
    "vehicle['class']=vehicle['class'].asfactor()\n",
    "myy=\"class\"\n",
    "# Create test/train split\n",
    "#train, test = vehicle.split_frame(ratios=[0.75], seed=1)\n",
    "model=H2ONaiveBayesEstimator()\n",
    "model.train(myx, myy, training_frame = vehicle)\n",
    "y_pred=model.predict(vehicle)\n",
    "print (y_pred['predict']==vehicle['class']).sum()/float(len(vehicle))\n",
    "model.model_performance(vehicle)"
   ]
  },
  {
   "cell_type": "markdown",
   "metadata": {},
   "source": [
    "### IV. Aplicando Regresion Logistica al dataset loan usando h20"
   ]
  },
  {
   "cell_type": "code",
   "execution_count": 191,
   "metadata": {},
   "outputs": [],
   "source": [
    "loan['Sexo'] = loan['Sexo'].asfactor()\n",
    "loan[\"CasPropia\"]=loan['CasPropia'].asfactor()\n",
    "loan['StatustMarital']=loan['StatustMarital'].asfactor()\n",
    "loan['Prestamo']=loan['Prestamo'].asfactor()\n",
    "\n",
    "predictors = [\"Sexo\",\"Familia\", \"CasPropia\",\"AnosEmpleo\", \"Sueldo\",\"StatustMarital\"]\n",
    "response_col = \"Prestamo\""
   ]
  },
  {
   "cell_type": "code",
   "execution_count": 192,
   "metadata": {},
   "outputs": [
    {
     "data": {
      "text/html": [
       "<table>\n",
       "<thead>\n",
       "<tr><th>Sexo  </th><th style=\"text-align: right;\">  Familia</th><th>CasPropia  </th><th style=\"text-align: right;\">  AnosEmpleo</th><th style=\"text-align: right;\">  Sueldo</th><th>StatustMarital  </th><th>Prestamo  </th></tr>\n",
       "</thead>\n",
       "<tbody>\n",
       "<tr><td>Hombre</td><td style=\"text-align: right;\">        3</td><td>No         </td><td style=\"text-align: right;\">          17</td><td style=\"text-align: right;\">    2500</td><td>Soltero         </td><td>No        </td></tr>\n",
       "<tr><td>Mujer </td><td style=\"text-align: right;\">        5</td><td>Si         </td><td style=\"text-align: right;\">          10</td><td style=\"text-align: right;\">    3000</td><td>Casado          </td><td>Si        </td></tr>\n",
       "<tr><td>Mujer </td><td style=\"text-align: right;\">        4</td><td>No         </td><td style=\"text-align: right;\">          15</td><td style=\"text-align: right;\">    2000</td><td>Viudo           </td><td>No        </td></tr>\n",
       "<tr><td>Hombre</td><td style=\"text-align: right;\">        3</td><td>Si         </td><td style=\"text-align: right;\">          16</td><td style=\"text-align: right;\">    2800</td><td>Soltero         </td><td>Si        </td></tr>\n",
       "<tr><td>Hombre</td><td style=\"text-align: right;\">        6</td><td>Si         </td><td style=\"text-align: right;\">          11</td><td style=\"text-align: right;\">    4000</td><td>Viudo           </td><td>Si        </td></tr>\n",
       "<tr><td>Mujer </td><td style=\"text-align: right;\">        4</td><td>Si         </td><td style=\"text-align: right;\">          26</td><td style=\"text-align: right;\">    3200</td><td>Soltero         </td><td>Si        </td></tr>\n",
       "<tr><td>Mujer </td><td style=\"text-align: right;\">        2</td><td>Si         </td><td style=\"text-align: right;\">          14</td><td style=\"text-align: right;\">    1800</td><td>Soltero         </td><td>No        </td></tr>\n",
       "<tr><td>Hombre</td><td style=\"text-align: right;\">        5</td><td>Si         </td><td style=\"text-align: right;\">          10</td><td style=\"text-align: right;\">    3750</td><td>Casado          </td><td>Si        </td></tr>\n",
       "<tr><td>Hombre</td><td style=\"text-align: right;\">        6</td><td>No         </td><td style=\"text-align: right;\">          18</td><td style=\"text-align: right;\">    2970</td><td>Divorciado      </td><td>No        </td></tr>\n",
       "<tr><td>Hombre</td><td style=\"text-align: right;\">        4</td><td>Si         </td><td style=\"text-align: right;\">          12</td><td style=\"text-align: right;\">    3350</td><td>Divorciado      </td><td>No        </td></tr>\n",
       "</tbody>\n",
       "</table>"
      ]
     },
     "metadata": {},
     "output_type": "display_data"
    },
    {
     "data": {
      "text/plain": []
     },
     "execution_count": 192,
     "metadata": {},
     "output_type": "execute_result"
    }
   ],
   "source": [
    "loan.head()"
   ]
  },
  {
   "cell_type": "code",
   "execution_count": 193,
   "metadata": {},
   "outputs": [
    {
     "name": "stdout",
     "output_type": "stream",
     "text": [
      "{u'Familia': -7.283161660798802, u'CasPropia.Si': -1.4732452885828509, u'AnosEmpleo': 2.9574452082674885, u'Sueldo': 0.09868220640412526, u'Intercept': -269.16800091477114, u'Sexo.Mujer': -4.160890209638011, u'StatustMarital.Soltero': -18.717097643950506, u'StatustMarital.Divorciado': -102.24457434194633, u'StatustMarital.Viudo': -10.697821309701698}\n"
     ]
    }
   ],
   "source": [
    "glm_model = H2OGeneralizedLinearEstimator(family= \"binomial\", lambda_ = 0, compute_p_values = True)\n",
    "glm_model.train(predictors, response_col, training_frame= loan)\n",
    "\n",
    "# Coefficients that can be applied to the non-standardized data.\n",
    "print(glm_model.coef())"
   ]
  },
  {
   "cell_type": "code",
   "execution_count": 194,
   "metadata": {},
   "outputs": [
    {
     "name": "stdout",
     "output_type": "stream",
     "text": [
      "Model Details\n",
      "=============\n",
      "H2OGeneralizedLinearEstimator :  Generalized Linear Modeling\n",
      "Model Key:  GLM_model_python_1524120852419_150\n",
      "\n",
      "\n",
      "ModelMetricsBinomialGLM: glm\n",
      "** Reported on train data. **\n",
      "\n",
      "MSE: 1.98476633847e-12\n",
      "RMSE: 1.40881735455e-06\n",
      "LogLoss: 5.98743562425e-07\n",
      "Null degrees of freedom: 24\n",
      "Residual degrees of freedom: 16\n",
      "Null deviance: 33.6505833505\n",
      "Residual deviance: 2.99371781214e-05\n",
      "AIC: 18.0000299372\n",
      "AUC: 1.0\n",
      "Gini: 1.0\n",
      "Confusion Matrix (Act/Pred) for max f1 @ threshold = 0.999995968921: \n"
     ]
    },
    {
     "data": {
      "text/html": [
       "<div style=\"overflow:auto\"><table style=\"width:50%\"><tr><td><b></b></td>\n",
       "<td><b>No</b></td>\n",
       "<td><b>Si</b></td>\n",
       "<td><b>Error</b></td>\n",
       "<td><b>Rate</b></td></tr>\n",
       "<tr><td>No</td>\n",
       "<td>10.0</td>\n",
       "<td>0.0</td>\n",
       "<td>0.0</td>\n",
       "<td> (0.0/10.0)</td></tr>\n",
       "<tr><td>Si</td>\n",
       "<td>0.0</td>\n",
       "<td>15.0</td>\n",
       "<td>0.0</td>\n",
       "<td> (0.0/15.0)</td></tr>\n",
       "<tr><td>Total</td>\n",
       "<td>10.0</td>\n",
       "<td>15.0</td>\n",
       "<td>0.0</td>\n",
       "<td> (0.0/25.0)</td></tr></table></div>"
      ],
      "text/plain": [
       "       No    Si    Error    Rate\n",
       "-----  ----  ----  -------  ----------\n",
       "No     10    0     0        (0.0/10.0)\n",
       "Si     0     15    0        (0.0/15.0)\n",
       "Total  10    15    0        (0.0/25.0)"
      ]
     },
     "metadata": {},
     "output_type": "display_data"
    },
    {
     "name": "stdout",
     "output_type": "stream",
     "text": [
      "Maximum Metrics: Maximum metrics at their respective thresholds\n",
      "\n"
     ]
    },
    {
     "data": {
      "text/html": [
       "<div style=\"overflow:auto\"><table style=\"width:50%\"><tr><td><b>metric</b></td>\n",
       "<td><b>threshold</b></td>\n",
       "<td><b>value</b></td>\n",
       "<td><b>idx</b></td></tr>\n",
       "<tr><td>max f1</td>\n",
       "<td>0.9999960</td>\n",
       "<td>1.0</td>\n",
       "<td>7.0</td></tr>\n",
       "<tr><td>max f2</td>\n",
       "<td>0.9999960</td>\n",
       "<td>1.0</td>\n",
       "<td>7.0</td></tr>\n",
       "<tr><td>max f0point5</td>\n",
       "<td>0.9999960</td>\n",
       "<td>1.0</td>\n",
       "<td>7.0</td></tr>\n",
       "<tr><td>max accuracy</td>\n",
       "<td>0.9999960</td>\n",
       "<td>1.0</td>\n",
       "<td>7.0</td></tr>\n",
       "<tr><td>max precision</td>\n",
       "<td>1.0</td>\n",
       "<td>1.0</td>\n",
       "<td>0.0</td></tr>\n",
       "<tr><td>max recall</td>\n",
       "<td>0.9999960</td>\n",
       "<td>1.0</td>\n",
       "<td>7.0</td></tr>\n",
       "<tr><td>max specificity</td>\n",
       "<td>1.0</td>\n",
       "<td>1.0</td>\n",
       "<td>0.0</td></tr>\n",
       "<tr><td>max absolute_mcc</td>\n",
       "<td>0.9999960</td>\n",
       "<td>1.0</td>\n",
       "<td>7.0</td></tr>\n",
       "<tr><td>max min_per_class_accuracy</td>\n",
       "<td>0.9999960</td>\n",
       "<td>1.0</td>\n",
       "<td>7.0</td></tr>\n",
       "<tr><td>max mean_per_class_accuracy</td>\n",
       "<td>0.9999960</td>\n",
       "<td>1.0</td>\n",
       "<td>7.0</td></tr></table></div>"
      ],
      "text/plain": [
       "metric                       threshold    value    idx\n",
       "---------------------------  -----------  -------  -----\n",
       "max f1                       0.999996     1        7\n",
       "max f2                       0.999996     1        7\n",
       "max f0point5                 0.999996     1        7\n",
       "max accuracy                 0.999996     1        7\n",
       "max precision                1            1        0\n",
       "max recall                   0.999996     1        7\n",
       "max specificity              1            1        0\n",
       "max absolute_mcc             0.999996     1        7\n",
       "max min_per_class_accuracy   0.999996     1        7\n",
       "max mean_per_class_accuracy  0.999996     1        7"
      ]
     },
     "metadata": {},
     "output_type": "display_data"
    },
    {
     "name": "stdout",
     "output_type": "stream",
     "text": [
      "Gains/Lift Table: Avg response rate: 60.00 %\n",
      "\n"
     ]
    },
    {
     "data": {
      "text/html": [
       "<div style=\"overflow:auto\"><table style=\"width:50%\"><tr><td><b></b></td>\n",
       "<td><b>group</b></td>\n",
       "<td><b>cumulative_data_fraction</b></td>\n",
       "<td><b>lower_threshold</b></td>\n",
       "<td><b>lift</b></td>\n",
       "<td><b>cumulative_lift</b></td>\n",
       "<td><b>response_rate</b></td>\n",
       "<td><b>cumulative_response_rate</b></td>\n",
       "<td><b>capture_rate</b></td>\n",
       "<td><b>cumulative_capture_rate</b></td>\n",
       "<td><b>gain</b></td>\n",
       "<td><b>cumulative_gain</b></td></tr>\n",
       "<tr><td></td>\n",
       "<td>1</td>\n",
       "<td>0.32</td>\n",
       "<td>1.0</td>\n",
       "<td>1.6666667</td>\n",
       "<td>1.6666667</td>\n",
       "<td>1.0</td>\n",
       "<td>1.0</td>\n",
       "<td>0.5333333</td>\n",
       "<td>0.5333333</td>\n",
       "<td>66.6666667</td>\n",
       "<td>66.6666667</td></tr>\n",
       "<tr><td></td>\n",
       "<td>2</td>\n",
       "<td>0.4</td>\n",
       "<td>1.0</td>\n",
       "<td>1.6666667</td>\n",
       "<td>1.6666667</td>\n",
       "<td>1.0</td>\n",
       "<td>1.0</td>\n",
       "<td>0.1333333</td>\n",
       "<td>0.6666667</td>\n",
       "<td>66.6666667</td>\n",
       "<td>66.6666667</td></tr>\n",
       "<tr><td></td>\n",
       "<td>3</td>\n",
       "<td>0.52</td>\n",
       "<td>0.9999994</td>\n",
       "<td>1.6666667</td>\n",
       "<td>1.6666667</td>\n",
       "<td>1.0</td>\n",
       "<td>1.0</td>\n",
       "<td>0.2</td>\n",
       "<td>0.8666667</td>\n",
       "<td>66.6666667</td>\n",
       "<td>66.6666667</td></tr>\n",
       "<tr><td></td>\n",
       "<td>4</td>\n",
       "<td>0.6</td>\n",
       "<td>0.5999992</td>\n",
       "<td>1.6666667</td>\n",
       "<td>1.6666667</td>\n",
       "<td>1.0</td>\n",
       "<td>1.0</td>\n",
       "<td>0.1333333</td>\n",
       "<td>1.0</td>\n",
       "<td>66.6666667</td>\n",
       "<td>66.6666667</td></tr>\n",
       "<tr><td></td>\n",
       "<td>5</td>\n",
       "<td>0.68</td>\n",
       "<td>0.0000008</td>\n",
       "<td>0.0</td>\n",
       "<td>1.4705882</td>\n",
       "<td>0.0</td>\n",
       "<td>0.8823529</td>\n",
       "<td>0.0</td>\n",
       "<td>1.0</td>\n",
       "<td>-100.0</td>\n",
       "<td>47.0588235</td></tr>\n",
       "<tr><td></td>\n",
       "<td>6</td>\n",
       "<td>0.8</td>\n",
       "<td>0.0000000</td>\n",
       "<td>0.0</td>\n",
       "<td>1.25</td>\n",
       "<td>0.0</td>\n",
       "<td>0.75</td>\n",
       "<td>0.0</td>\n",
       "<td>1.0</td>\n",
       "<td>-100.0</td>\n",
       "<td>25.0</td></tr>\n",
       "<tr><td></td>\n",
       "<td>7</td>\n",
       "<td>0.88</td>\n",
       "<td>0.0000000</td>\n",
       "<td>0.0</td>\n",
       "<td>1.1363636</td>\n",
       "<td>0.0</td>\n",
       "<td>0.6818182</td>\n",
       "<td>0.0</td>\n",
       "<td>1.0</td>\n",
       "<td>-100.0</td>\n",
       "<td>13.6363636</td></tr>\n",
       "<tr><td></td>\n",
       "<td>8</td>\n",
       "<td>1.0</td>\n",
       "<td>0.0000000</td>\n",
       "<td>0.0</td>\n",
       "<td>1.0</td>\n",
       "<td>0.0</td>\n",
       "<td>0.6</td>\n",
       "<td>0.0</td>\n",
       "<td>1.0</td>\n",
       "<td>-100.0</td>\n",
       "<td>0.0</td></tr></table></div>"
      ],
      "text/plain": [
       "    group    cumulative_data_fraction    lower_threshold    lift     cumulative_lift    response_rate    cumulative_response_rate    capture_rate    cumulative_capture_rate    gain     cumulative_gain\n",
       "--  -------  --------------------------  -----------------  -------  -----------------  ---------------  --------------------------  --------------  -------------------------  -------  -----------------\n",
       "    1        0.32                        1                  1.66667  1.66667            1                1                           0.533333        0.533333                   66.6667  66.6667\n",
       "    2        0.4                         1                  1.66667  1.66667            1                1                           0.133333        0.666667                   66.6667  66.6667\n",
       "    3        0.52                        0.999999           1.66667  1.66667            1                1                           0.2             0.866667                   66.6667  66.6667\n",
       "    4        0.6                         0.599999           1.66667  1.66667            1                1                           0.133333        1                          66.6667  66.6667\n",
       "    5        0.68                        8.04623e-07        0        1.47059            0                0.882353                    0               1                          -100     47.0588\n",
       "    6        0.8                         1.96302e-16        0        1.25               0                0.75                        0               1                          -100     25\n",
       "    7        0.88                        2.42073e-29        0        1.13636            0                0.681818                    0               1                          -100     13.6364\n",
       "    8        1                           2.11164e-39        0        1                  0                0.6                         0               1                          -100     0"
      ]
     },
     "metadata": {},
     "output_type": "display_data"
    },
    {
     "name": "stdout",
     "output_type": "stream",
     "text": [
      "\n",
      "Scoring History: \n"
     ]
    },
    {
     "data": {
      "text/html": [
       "<div style=\"overflow:auto\"><table style=\"width:50%\"><tr><td><b></b></td>\n",
       "<td><b>timestamp</b></td>\n",
       "<td><b>duration</b></td>\n",
       "<td><b>iterations</b></td>\n",
       "<td><b>negative_log_likelihood</b></td>\n",
       "<td><b>objective</b></td></tr>\n",
       "<tr><td></td>\n",
       "<td>2018-04-19 13:44:22</td>\n",
       "<td> 0.000 sec</td>\n",
       "<td>0</td>\n",
       "<td>16.8252917</td>\n",
       "<td>0.6730117</td></tr>\n",
       "<tr><td></td>\n",
       "<td>2018-04-19 13:44:22</td>\n",
       "<td> 0.000 sec</td>\n",
       "<td>1</td>\n",
       "<td>5.7156605</td>\n",
       "<td>0.2286264</td></tr>\n",
       "<tr><td></td>\n",
       "<td>2018-04-19 13:44:22</td>\n",
       "<td> 0.001 sec</td>\n",
       "<td>2</td>\n",
       "<td>3.2640929</td>\n",
       "<td>0.1305637</td></tr>\n",
       "<tr><td></td>\n",
       "<td>2018-04-19 13:44:22</td>\n",
       "<td> 0.001 sec</td>\n",
       "<td>3</td>\n",
       "<td>1.9230352</td>\n",
       "<td>0.0769214</td></tr>\n",
       "<tr><td></td>\n",
       "<td>2018-04-19 13:44:22</td>\n",
       "<td> 0.001 sec</td>\n",
       "<td>4</td>\n",
       "<td>1.0374345</td>\n",
       "<td>0.0414974</td></tr>\n",
       "<tr><td>---</td>\n",
       "<td>---</td>\n",
       "<td>---</td>\n",
       "<td>---</td>\n",
       "<td>---</td>\n",
       "<td>---</td></tr>\n",
       "<tr><td></td>\n",
       "<td>2018-04-19 13:44:22</td>\n",
       "<td> 0.005 sec</td>\n",
       "<td>46</td>\n",
       "<td>0.0000168</td>\n",
       "<td>0.0000007</td></tr>\n",
       "<tr><td></td>\n",
       "<td>2018-04-19 13:44:22</td>\n",
       "<td> 0.005 sec</td>\n",
       "<td>47</td>\n",
       "<td>0.0000163</td>\n",
       "<td>0.0000007</td></tr>\n",
       "<tr><td></td>\n",
       "<td>2018-04-19 13:44:22</td>\n",
       "<td> 0.006 sec</td>\n",
       "<td>48</td>\n",
       "<td>0.0000158</td>\n",
       "<td>0.0000006</td></tr>\n",
       "<tr><td></td>\n",
       "<td>2018-04-19 13:44:22</td>\n",
       "<td> 0.006 sec</td>\n",
       "<td>49</td>\n",
       "<td>0.0000154</td>\n",
       "<td>0.0000006</td></tr>\n",
       "<tr><td></td>\n",
       "<td>2018-04-19 13:44:22</td>\n",
       "<td> 0.006 sec</td>\n",
       "<td>50</td>\n",
       "<td>0.0000150</td>\n",
       "<td>0.0000006</td></tr></table></div>"
      ],
      "text/plain": [
       "     timestamp            duration    iterations    negative_log_likelihood    objective\n",
       "---  -------------------  ----------  ------------  -------------------------  -----------------\n",
       "     2018-04-19 13:44:22  0.000 sec   0             16.8252916752              0.673011667009\n",
       "     2018-04-19 13:44:22  0.000 sec   1             5.71566054313              0.228626421725\n",
       "     2018-04-19 13:44:22  0.001 sec   2             3.26409293962              0.130563717585\n",
       "     2018-04-19 13:44:22  0.001 sec   3             1.92303517043              0.0769214068173\n",
       "     2018-04-19 13:44:22  0.001 sec   4             1.03743453048              0.0414973812192\n",
       "---  ---                  ---         ---           ---                        ---\n",
       "     2018-04-19 13:44:22  0.005 sec   46            1.67751615003e-05          6.71006460011e-07\n",
       "     2018-04-19 13:44:22  0.005 sec   47            1.62840970082e-05          6.51363880329e-07\n",
       "     2018-04-19 13:44:22  0.006 sec   48            1.58207930839e-05          6.32831723356e-07\n",
       "     2018-04-19 13:44:22  0.006 sec   49            1.53829696809e-05          6.15318787237e-07\n",
       "     2018-04-19 13:44:22  0.006 sec   50            1.49685890607e-05          5.98743562428e-07"
      ]
     },
     "metadata": {},
     "output_type": "display_data"
    },
    {
     "name": "stdout",
     "output_type": "stream",
     "text": [
      "\n",
      "See the whole table with table.as_data_frame()\n"
     ]
    },
    {
     "data": {
      "text/plain": []
     },
     "execution_count": 194,
     "metadata": {},
     "output_type": "execute_result"
    }
   ],
   "source": [
    "glm_model"
   ]
  },
  {
   "cell_type": "code",
   "execution_count": 195,
   "metadata": {},
   "outputs": [
    {
     "name": "stdout",
     "output_type": "stream",
     "text": [
      "1.0\n"
     ]
    }
   ],
   "source": [
    "y_pred=glm_model.predict(loan)\n",
    "print (y_pred['predict']==loan['Prestamo']).sum()/float(len(loan))"
   ]
  },
  {
   "cell_type": "markdown",
   "metadata": {},
   "source": [
    "### IV- Regresion Logistica para Diabetes usando H20"
   ]
  },
  {
   "cell_type": "code",
   "execution_count": 196,
   "metadata": {},
   "outputs": [
    {
     "name": "stdout",
     "output_type": "stream",
     "text": [
      "Model Details\n",
      "=============\n",
      "H2OGeneralizedLinearEstimator :  Generalized Linear Modeling\n",
      "Model Key:  GLM_model_python_1524120852419_153\n",
      "\n",
      "\n",
      "ModelMetricsBinomialGLM: glm\n",
      "** Reported on train data. **\n",
      "\n",
      "MSE: 0.152725755701\n",
      "RMSE: 0.390801427455\n",
      "LogLoss: 0.470993084488\n",
      "Null degrees of freedom: 767\n",
      "Residual degrees of freedom: 759\n",
      "Null deviance: 993.483910139\n",
      "Residual deviance: 723.445377774\n",
      "AIC: 741.445377774\n",
      "AUC: 0.839358208955\n",
      "Gini: 0.67871641791\n",
      "Confusion Matrix (Act/Pred) for max f1 @ threshold = 0.354383535808: \n"
     ]
    },
    {
     "data": {
      "text/html": [
       "<div style=\"overflow:auto\"><table style=\"width:50%\"><tr><td><b></b></td>\n",
       "<td><b>1</b></td>\n",
       "<td><b>2</b></td>\n",
       "<td><b>Error</b></td>\n",
       "<td><b>Rate</b></td></tr>\n",
       "<tr><td>1</td>\n",
       "<td>392.0</td>\n",
       "<td>108.0</td>\n",
       "<td>0.216</td>\n",
       "<td> (108.0/500.0)</td></tr>\n",
       "<tr><td>2</td>\n",
       "<td>70.0</td>\n",
       "<td>198.0</td>\n",
       "<td>0.2612</td>\n",
       "<td> (70.0/268.0)</td></tr>\n",
       "<tr><td>Total</td>\n",
       "<td>462.0</td>\n",
       "<td>306.0</td>\n",
       "<td>0.2318</td>\n",
       "<td> (178.0/768.0)</td></tr></table></div>"
      ],
      "text/plain": [
       "       1    2    Error    Rate\n",
       "-----  ---  ---  -------  -------------\n",
       "1      392  108  0.216    (108.0/500.0)\n",
       "2      70   198  0.2612   (70.0/268.0)\n",
       "Total  462  306  0.2318   (178.0/768.0)"
      ]
     },
     "metadata": {},
     "output_type": "display_data"
    },
    {
     "name": "stdout",
     "output_type": "stream",
     "text": [
      "Maximum Metrics: Maximum metrics at their respective thresholds\n",
      "\n"
     ]
    },
    {
     "data": {
      "text/html": [
       "<div style=\"overflow:auto\"><table style=\"width:50%\"><tr><td><b>metric</b></td>\n",
       "<td><b>threshold</b></td>\n",
       "<td><b>value</b></td>\n",
       "<td><b>idx</b></td></tr>\n",
       "<tr><td>max f1</td>\n",
       "<td>0.3543835</td>\n",
       "<td>0.6898955</td>\n",
       "<td>199.0</td></tr>\n",
       "<tr><td>max f2</td>\n",
       "<td>0.1507638</td>\n",
       "<td>0.8010013</td>\n",
       "<td>297.0</td></tr>\n",
       "<tr><td>max f0point5</td>\n",
       "<td>0.6475871</td>\n",
       "<td>0.7102273</td>\n",
       "<td>102.0</td></tr>\n",
       "<tr><td>max accuracy</td>\n",
       "<td>0.4867680</td>\n",
       "<td>0.7851562</td>\n",
       "<td>148.0</td></tr>\n",
       "<tr><td>max precision</td>\n",
       "<td>0.9925888</td>\n",
       "<td>1.0</td>\n",
       "<td>0.0</td></tr>\n",
       "<tr><td>max recall</td>\n",
       "<td>0.0136847</td>\n",
       "<td>1.0</td>\n",
       "<td>392.0</td></tr>\n",
       "<tr><td>max specificity</td>\n",
       "<td>0.9925888</td>\n",
       "<td>1.0</td>\n",
       "<td>0.0</td></tr>\n",
       "<tr><td>max absolute_mcc</td>\n",
       "<td>0.4867680</td>\n",
       "<td>0.5109421</td>\n",
       "<td>148.0</td></tr>\n",
       "<tr><td>max min_per_class_accuracy</td>\n",
       "<td>0.3310636</td>\n",
       "<td>0.7537313</td>\n",
       "<td>207.0</td></tr>\n",
       "<tr><td>max mean_per_class_accuracy</td>\n",
       "<td>0.3543835</td>\n",
       "<td>0.7614030</td>\n",
       "<td>199.0</td></tr></table></div>"
      ],
      "text/plain": [
       "metric                       threshold    value     idx\n",
       "---------------------------  -----------  --------  -----\n",
       "max f1                       0.354384     0.689895  199\n",
       "max f2                       0.150764     0.801001  297\n",
       "max f0point5                 0.647587     0.710227  102\n",
       "max accuracy                 0.486768     0.785156  148\n",
       "max precision                0.992589     1         0\n",
       "max recall                   0.0136847    1         392\n",
       "max specificity              0.992589     1         0\n",
       "max absolute_mcc             0.486768     0.510942  148\n",
       "max min_per_class_accuracy   0.331064     0.753731  207\n",
       "max mean_per_class_accuracy  0.354384     0.761403  199"
      ]
     },
     "metadata": {},
     "output_type": "display_data"
    },
    {
     "name": "stdout",
     "output_type": "stream",
     "text": [
      "Gains/Lift Table: Avg response rate: 34.90 %\n",
      "\n"
     ]
    },
    {
     "data": {
      "text/html": [
       "<div style=\"overflow:auto\"><table style=\"width:50%\"><tr><td><b></b></td>\n",
       "<td><b>group</b></td>\n",
       "<td><b>cumulative_data_fraction</b></td>\n",
       "<td><b>lower_threshold</b></td>\n",
       "<td><b>lift</b></td>\n",
       "<td><b>cumulative_lift</b></td>\n",
       "<td><b>response_rate</b></td>\n",
       "<td><b>cumulative_response_rate</b></td>\n",
       "<td><b>capture_rate</b></td>\n",
       "<td><b>cumulative_capture_rate</b></td>\n",
       "<td><b>gain</b></td>\n",
       "<td><b>cumulative_gain</b></td></tr>\n",
       "<tr><td></td>\n",
       "<td>1</td>\n",
       "<td>0.0104167</td>\n",
       "<td>0.9549975</td>\n",
       "<td>2.1492537</td>\n",
       "<td>2.1492537</td>\n",
       "<td>0.75</td>\n",
       "<td>0.75</td>\n",
       "<td>0.0223881</td>\n",
       "<td>0.0223881</td>\n",
       "<td>114.9253731</td>\n",
       "<td>114.9253731</td></tr>\n",
       "<tr><td></td>\n",
       "<td>2</td>\n",
       "<td>0.0208333</td>\n",
       "<td>0.9295637</td>\n",
       "<td>2.5074627</td>\n",
       "<td>2.3283582</td>\n",
       "<td>0.875</td>\n",
       "<td>0.8125</td>\n",
       "<td>0.0261194</td>\n",
       "<td>0.0485075</td>\n",
       "<td>150.7462687</td>\n",
       "<td>132.8358209</td></tr>\n",
       "<tr><td></td>\n",
       "<td>3</td>\n",
       "<td>0.03125</td>\n",
       "<td>0.9049045</td>\n",
       "<td>2.5074627</td>\n",
       "<td>2.3880597</td>\n",
       "<td>0.875</td>\n",
       "<td>0.8333333</td>\n",
       "<td>0.0261194</td>\n",
       "<td>0.0746269</td>\n",
       "<td>150.7462687</td>\n",
       "<td>138.8059701</td></tr>\n",
       "<tr><td></td>\n",
       "<td>4</td>\n",
       "<td>0.0403646</td>\n",
       "<td>0.8895109</td>\n",
       "<td>2.4562900</td>\n",
       "<td>2.4034665</td>\n",
       "<td>0.8571429</td>\n",
       "<td>0.8387097</td>\n",
       "<td>0.0223881</td>\n",
       "<td>0.0970149</td>\n",
       "<td>145.6289979</td>\n",
       "<td>140.3466538</td></tr>\n",
       "<tr><td></td>\n",
       "<td>5</td>\n",
       "<td>0.0507812</td>\n",
       "<td>0.8736843</td>\n",
       "<td>2.5074627</td>\n",
       "<td>2.4247991</td>\n",
       "<td>0.875</td>\n",
       "<td>0.8461538</td>\n",
       "<td>0.0261194</td>\n",
       "<td>0.1231343</td>\n",
       "<td>150.7462687</td>\n",
       "<td>142.4799082</td></tr>\n",
       "<tr><td></td>\n",
       "<td>6</td>\n",
       "<td>0.1002604</td>\n",
       "<td>0.7793791</td>\n",
       "<td>2.4886096</td>\n",
       "<td>2.4562900</td>\n",
       "<td>0.8684211</td>\n",
       "<td>0.8571429</td>\n",
       "<td>0.1231343</td>\n",
       "<td>0.2462687</td>\n",
       "<td>148.8609584</td>\n",
       "<td>145.6289979</td></tr>\n",
       "<tr><td></td>\n",
       "<td>7</td>\n",
       "<td>0.1510417</td>\n",
       "<td>0.7093225</td>\n",
       "<td>2.2778416</td>\n",
       "<td>2.3962944</td>\n",
       "<td>0.7948718</td>\n",
       "<td>0.8362069</td>\n",
       "<td>0.1156716</td>\n",
       "<td>0.3619403</td>\n",
       "<td>127.7841561</td>\n",
       "<td>139.6294390</td></tr>\n",
       "<tr><td></td>\n",
       "<td>8</td>\n",
       "<td>0.2005208</td>\n",
       "<td>0.6444353</td>\n",
       "<td>2.1115475</td>\n",
       "<td>2.3260322</td>\n",
       "<td>0.7368421</td>\n",
       "<td>0.8116883</td>\n",
       "<td>0.1044776</td>\n",
       "<td>0.4664179</td>\n",
       "<td>111.1547526</td>\n",
       "<td>132.6032177</td></tr>\n",
       "<tr><td></td>\n",
       "<td>9</td>\n",
       "<td>0.3007812</td>\n",
       "<td>0.4581469</td>\n",
       "<td>1.3397945</td>\n",
       "<td>1.9972863</td>\n",
       "<td>0.4675325</td>\n",
       "<td>0.6969697</td>\n",
       "<td>0.1343284</td>\n",
       "<td>0.6007463</td>\n",
       "<td>33.9794534</td>\n",
       "<td>99.7286296</td></tr>\n",
       "<tr><td></td>\n",
       "<td>10</td>\n",
       "<td>0.3997396</td>\n",
       "<td>0.3529273</td>\n",
       "<td>1.3951296</td>\n",
       "<td>1.8482182</td>\n",
       "<td>0.4868421</td>\n",
       "<td>0.6449511</td>\n",
       "<td>0.1380597</td>\n",
       "<td>0.7388060</td>\n",
       "<td>39.5129615</td>\n",
       "<td>84.8218192</td></tr>\n",
       "<tr><td></td>\n",
       "<td>11</td>\n",
       "<td>0.5</td>\n",
       "<td>0.2724104</td>\n",
       "<td>0.8931964</td>\n",
       "<td>1.6567164</td>\n",
       "<td>0.3116883</td>\n",
       "<td>0.578125</td>\n",
       "<td>0.0895522</td>\n",
       "<td>0.8283582</td>\n",
       "<td>-10.6803644</td>\n",
       "<td>65.6716418</td></tr>\n",
       "<tr><td></td>\n",
       "<td>12</td>\n",
       "<td>0.6002604</td>\n",
       "<td>0.2003823</td>\n",
       "<td>0.6698973</td>\n",
       "<td>1.4918898</td>\n",
       "<td>0.2337662</td>\n",
       "<td>0.5206074</td>\n",
       "<td>0.0671642</td>\n",
       "<td>0.8955224</td>\n",
       "<td>-33.0102733</td>\n",
       "<td>49.1889792</td></tr>\n",
       "<tr><td></td>\n",
       "<td>13</td>\n",
       "<td>0.6992188</td>\n",
       "<td>0.1424225</td>\n",
       "<td>0.6032993</td>\n",
       "<td>1.3661302</td>\n",
       "<td>0.2105263</td>\n",
       "<td>0.4767225</td>\n",
       "<td>0.0597015</td>\n",
       "<td>0.9552239</td>\n",
       "<td>-39.6700707</td>\n",
       "<td>36.6130243</td></tr>\n",
       "<tr><td></td>\n",
       "<td>14</td>\n",
       "<td>0.7994792</td>\n",
       "<td>0.0995712</td>\n",
       "<td>0.1860826</td>\n",
       "<td>1.2181438</td>\n",
       "<td>0.0649351</td>\n",
       "<td>0.4250814</td>\n",
       "<td>0.0186567</td>\n",
       "<td>0.9738806</td>\n",
       "<td>-81.3917426</td>\n",
       "<td>21.8143809</td></tr>\n",
       "<tr><td></td>\n",
       "<td>15</td>\n",
       "<td>0.8997396</td>\n",
       "<td>0.0576504</td>\n",
       "<td>0.1488661</td>\n",
       "<td>1.0989913</td>\n",
       "<td>0.0519481</td>\n",
       "<td>0.3835022</td>\n",
       "<td>0.0149254</td>\n",
       "<td>0.9888060</td>\n",
       "<td>-85.1133941</td>\n",
       "<td>9.8991295</td></tr>\n",
       "<tr><td></td>\n",
       "<td>16</td>\n",
       "<td>1.0</td>\n",
       "<td>0.0019611</td>\n",
       "<td>0.1116495</td>\n",
       "<td>1.0</td>\n",
       "<td>0.0389610</td>\n",
       "<td>0.3489583</td>\n",
       "<td>0.0111940</td>\n",
       "<td>1.0</td>\n",
       "<td>-88.8350456</td>\n",
       "<td>0.0</td></tr></table></div>"
      ],
      "text/plain": [
       "    group    cumulative_data_fraction    lower_threshold    lift      cumulative_lift    response_rate    cumulative_response_rate    capture_rate    cumulative_capture_rate    gain      cumulative_gain\n",
       "--  -------  --------------------------  -----------------  --------  -----------------  ---------------  --------------------------  --------------  -------------------------  --------  -----------------\n",
       "    1        0.0104167                   0.954998           2.14925   2.14925            0.75             0.75                        0.0223881       0.0223881                  114.925   114.925\n",
       "    2        0.0208333                   0.929564           2.50746   2.32836            0.875            0.8125                      0.0261194       0.0485075                  150.746   132.836\n",
       "    3        0.03125                     0.904904           2.50746   2.38806            0.875            0.833333                    0.0261194       0.0746269                  150.746   138.806\n",
       "    4        0.0403646                   0.889511           2.45629   2.40347            0.857143         0.83871                     0.0223881       0.0970149                  145.629   140.347\n",
       "    5        0.0507812                   0.873684           2.50746   2.4248             0.875            0.846154                    0.0261194       0.123134                   150.746   142.48\n",
       "    6        0.10026                     0.779379           2.48861   2.45629            0.868421         0.857143                    0.123134        0.246269                   148.861   145.629\n",
       "    7        0.151042                    0.709322           2.27784   2.39629            0.794872         0.836207                    0.115672        0.36194                    127.784   139.629\n",
       "    8        0.200521                    0.644435           2.11155   2.32603            0.736842         0.811688                    0.104478        0.466418                   111.155   132.603\n",
       "    9        0.300781                    0.458147           1.33979   1.99729            0.467532         0.69697                     0.134328        0.600746                   33.9795   99.7286\n",
       "    10       0.39974                     0.352927           1.39513   1.84822            0.486842         0.644951                    0.13806         0.738806                   39.513    84.8218\n",
       "    11       0.5                         0.27241            0.893196  1.65672            0.311688         0.578125                    0.0895522       0.828358                   -10.6804  65.6716\n",
       "    12       0.60026                     0.200382           0.669897  1.49189            0.233766         0.520607                    0.0671642       0.895522                   -33.0103  49.189\n",
       "    13       0.699219                    0.142422           0.603299  1.36613            0.210526         0.476723                    0.0597015       0.955224                   -39.6701  36.613\n",
       "    14       0.799479                    0.0995712          0.186083  1.21814            0.0649351        0.425081                    0.0186567       0.973881                   -81.3917  21.8144\n",
       "    15       0.89974                     0.0576504          0.148866  1.09899            0.0519481        0.383502                    0.0149254       0.988806                   -85.1134  9.89913\n",
       "    16       1                           0.00196114         0.11165   1                  0.038961         0.348958                    0.011194        1                          -88.835   0"
      ]
     },
     "metadata": {},
     "output_type": "display_data"
    },
    {
     "name": "stdout",
     "output_type": "stream",
     "text": [
      "\n",
      "Scoring History: \n"
     ]
    },
    {
     "data": {
      "text/html": [
       "<div style=\"overflow:auto\"><table style=\"width:50%\"><tr><td><b></b></td>\n",
       "<td><b>timestamp</b></td>\n",
       "<td><b>duration</b></td>\n",
       "<td><b>iterations</b></td>\n",
       "<td><b>negative_log_likelihood</b></td>\n",
       "<td><b>objective</b></td></tr>\n",
       "<tr><td></td>\n",
       "<td>2018-04-19 13:44:22</td>\n",
       "<td> 0.000 sec</td>\n",
       "<td>0</td>\n",
       "<td>496.7419551</td>\n",
       "<td>0.6467994</td></tr>\n",
       "<tr><td></td>\n",
       "<td>2018-04-19 13:44:22</td>\n",
       "<td> 0.001 sec</td>\n",
       "<td>1</td>\n",
       "<td>370.8909597</td>\n",
       "<td>0.4829309</td></tr>\n",
       "<tr><td></td>\n",
       "<td>2018-04-19 13:44:22</td>\n",
       "<td> 0.002 sec</td>\n",
       "<td>2</td>\n",
       "<td>362.0294357</td>\n",
       "<td>0.4713925</td></tr>\n",
       "<tr><td></td>\n",
       "<td>2018-04-19 13:44:22</td>\n",
       "<td> 0.002 sec</td>\n",
       "<td>3</td>\n",
       "<td>361.7232470</td>\n",
       "<td>0.4709938</td></tr>\n",
       "<tr><td></td>\n",
       "<td>2018-04-19 13:44:22</td>\n",
       "<td> 0.003 sec</td>\n",
       "<td>4</td>\n",
       "<td>361.7226889</td>\n",
       "<td>0.4709931</td></tr>\n",
       "<tr><td></td>\n",
       "<td>2018-04-19 13:44:22</td>\n",
       "<td> 0.004 sec</td>\n",
       "<td>5</td>\n",
       "<td>361.7226889</td>\n",
       "<td>0.4709931</td></tr></table></div>"
      ],
      "text/plain": [
       "    timestamp            duration    iterations    negative_log_likelihood    objective\n",
       "--  -------------------  ----------  ------------  -------------------------  -----------\n",
       "    2018-04-19 13:44:22  0.000 sec   0             496.742                    0.646799\n",
       "    2018-04-19 13:44:22  0.001 sec   1             370.891                    0.482931\n",
       "    2018-04-19 13:44:22  0.002 sec   2             362.029                    0.471392\n",
       "    2018-04-19 13:44:22  0.002 sec   3             361.723                    0.470994\n",
       "    2018-04-19 13:44:22  0.003 sec   4             361.723                    0.470993\n",
       "    2018-04-19 13:44:22  0.004 sec   5             361.723                    0.470993"
      ]
     },
     "metadata": {},
     "output_type": "display_data"
    },
    {
     "data": {
      "text/plain": []
     },
     "execution_count": 196,
     "metadata": {},
     "output_type": "execute_result"
    }
   ],
   "source": [
    "diabetes = h2o.import_file(\"https://academic.uprm.edu/eacuna/diabetes.dat\")\n",
    "myx=['C1','C2','C3','C4','C5','C6','C7','C8']\n",
    "diabetes['C9']=diabetes['C9'].asfactor()\n",
    "myy='C9'\n",
    "glm_model = H2OGeneralizedLinearEstimator(family= \"binomial\", lambda_ = 0, compute_p_values = True)\n",
    "glm_model.train(myx, myy, training_frame= diabetes)\n",
    "glm_model"
   ]
  },
  {
   "cell_type": "code",
   "execution_count": 197,
   "metadata": {},
   "outputs": [
    {
     "name": "stdout",
     "output_type": "stream",
     "text": [
      "Coefficients: glm coefficients\n",
      "\n"
     ]
    },
    {
     "data": {
      "text/html": [
       "<div style=\"overflow:auto\"><table style=\"width:50%\"><tr><td><b>names</b></td>\n",
       "<td><b>coefficients</b></td>\n",
       "<td><b>std_error</b></td>\n",
       "<td><b>z_value</b></td>\n",
       "<td><b>p_value</b></td>\n",
       "<td><b>standardized_coefficients</b></td></tr>\n",
       "<tr><td>Intercept</td>\n",
       "<td>-8.4046964</td>\n",
       "<td>0.7166361</td>\n",
       "<td>-11.7279840</td>\n",
       "<td>0.0</td>\n",
       "<td>-0.8711017</td></tr>\n",
       "<tr><td>C1</td>\n",
       "<td>0.1231823</td>\n",
       "<td>0.0320776</td>\n",
       "<td>3.8401399</td>\n",
       "<td>0.0001230</td>\n",
       "<td>0.4150724</td></tr>\n",
       "<tr><td>C2</td>\n",
       "<td>0.0351637</td>\n",
       "<td>0.0037087</td>\n",
       "<td>9.4813920</td>\n",
       "<td>0.0</td>\n",
       "<td>1.1242760</td></tr>\n",
       "<tr><td>C3</td>\n",
       "<td>-0.0132955</td>\n",
       "<td>0.0052336</td>\n",
       "<td>-2.5404157</td>\n",
       "<td>0.0110721</td>\n",
       "<td>-0.2573460</td></tr>\n",
       "<tr><td>C4</td>\n",
       "<td>0.0006190</td>\n",
       "<td>0.0068994</td>\n",
       "<td>0.0897131</td>\n",
       "<td>0.9285152</td>\n",
       "<td>0.0098739</td></tr>\n",
       "<tr><td>C5</td>\n",
       "<td>-0.0011917</td>\n",
       "<td>0.0009012</td>\n",
       "<td>-1.3223092</td>\n",
       "<td>0.1860652</td>\n",
       "<td>-0.1373362</td></tr>\n",
       "<tr><td>C6</td>\n",
       "<td>0.0897010</td>\n",
       "<td>0.0150876</td>\n",
       "<td>5.9453328</td>\n",
       "<td>0.0000000</td>\n",
       "<td>0.7072168</td></tr>\n",
       "<tr><td>C7</td>\n",
       "<td>0.9451797</td>\n",
       "<td>0.2991475</td>\n",
       "<td>3.1595776</td>\n",
       "<td>0.0015800</td>\n",
       "<td>0.3131651</td></tr>\n",
       "<tr><td>C8</td>\n",
       "<td>0.0148690</td>\n",
       "<td>0.0093348</td>\n",
       "<td>1.5928583</td>\n",
       "<td>0.1111920</td>\n",
       "<td>0.1748629</td></tr></table></div>"
      ],
      "text/plain": [
       "names      coefficients    std_error    z_value    p_value      standardized_coefficients\n",
       "---------  --------------  -----------  ---------  -----------  ---------------------------\n",
       "Intercept  -8.4047         0.716636     -11.728    0            -0.871102\n",
       "C1         0.123182        0.0320776    3.84014    0.000122964  0.415072\n",
       "C2         0.0351637       0.00370871   9.48139    0            1.12428\n",
       "C3         -0.0132955      0.00523361   -2.54042   0.0110721    -0.257346\n",
       "C4         0.000618964     0.00689938   0.0897131  0.928515     0.00987385\n",
       "C5         -0.0011917      0.000901226  -1.32231   0.186065     -0.137336\n",
       "C6         0.089701        0.0150876    5.94533    2.75896e-09  0.707217\n",
       "C7         0.94518         0.299148     3.15958    0.00157998   0.313165\n",
       "C8         0.014869        0.00933479   1.59286    0.111192     0.174863"
      ]
     },
     "metadata": {},
     "output_type": "display_data"
    },
    {
     "data": {
      "text/plain": []
     },
     "execution_count": 197,
     "metadata": {},
     "output_type": "execute_result"
    }
   ],
   "source": [
    "glm_model._model_json['output']['coefficients_table']"
   ]
  },
  {
   "cell_type": "markdown",
   "metadata": {},
   "source": [
    "### VII Regresion Logistica para Diabetes usando scikit learn"
   ]
  },
  {
   "cell_type": "code",
   "execution_count": 198,
   "metadata": {},
   "outputs": [
    {
     "name": "stdout",
     "output_type": "stream",
     "text": [
      "[[  1.17057358e-01   2.83881555e-02  -1.68873034e-02   7.55876596e-04\n",
      "   -6.42924257e-04   5.97710296e-02   6.77534932e-01   7.24147639e-03]]\n"
     ]
    }
   ],
   "source": [
    "url= \"http://academic.uprm.edu/eacuna/diabetes.dat\"\n",
    "names = ['preg', 'plas', 'pres', 'skin', 'test', 'mass', 'pedi', 'age', 'class']\n",
    "data = pd.read_table(url, names=names,header=None)\n",
    "y=data['class']\n",
    "X=data.iloc[:,0:8]\n",
    "#Haciendo la regresion logistica ya calculando su precision\n",
    "model = LogisticRegression()\n",
    "model = model.fit(X, y)\n",
    "print model.coef_"
   ]
  },
  {
   "cell_type": "code",
   "execution_count": 199,
   "metadata": {},
   "outputs": [
    {
     "name": "stdout",
     "output_type": "stream",
     "text": [
      "             precision    recall  f1-score   support\n",
      "\n",
      "          1       0.79      0.90      0.84       500\n",
      "          2       0.74      0.55      0.63       268\n",
      "\n",
      "avg / total       0.77      0.77      0.77       768\n",
      "\n"
     ]
    }
   ],
   "source": [
    "# Tasa de precision\n",
    "model.score(X, y)\n",
    "predictions = model.predict(X)\n",
    "print(classification_report(y, predictions))"
   ]
  },
  {
   "cell_type": "markdown",
   "metadata": {},
   "source": [
    "### VIII Regresion Logistica para Loan usando scikit-learn "
   ]
  },
  {
   "cell_type": "code",
   "execution_count": 200,
   "metadata": {},
   "outputs": [],
   "source": [
    "data = pd.read_csv(\"https://academic.uprm.edu/eacuna/datosarbol.csv\")\n",
    "y=data['Prestamo']\n",
    "lb_make = LabelEncoder()\n",
    "data[\"Sexo\"] = lb_make.fit_transform(data[\"Sexo\"])\n",
    "data['CasPropia']=lb_make.fit_transform(data[\"CasPropia\"])\n",
    "data['StatustMarital']=lb_make.fit_transform(data[\"StatustMarital\"])\n",
    "data['Prestamo']=lb_make.fit_transform(data[\"Prestamo\"])\n",
    "y2=data['Prestamo']\n",
    "X=data.iloc[:,0:6]\n",
    "#Haciendo la regresion logistica ya calculando su precision\n",
    "model = LogisticRegression()\n",
    "model = model.fit(X, y2)"
   ]
  },
  {
   "cell_type": "code",
   "execution_count": 201,
   "metadata": {},
   "outputs": [
    {
     "name": "stdout",
     "output_type": "stream",
     "text": [
      "             precision    recall  f1-score   support\n",
      "\n",
      "          0       1.00      0.30      0.46        10\n",
      "          1       0.68      1.00      0.81        15\n",
      "\n",
      "avg / total       0.81      0.72      0.67        25\n",
      "\n"
     ]
    }
   ],
   "source": [
    "# Tasa de precision\n",
    "model.score(X, y2)\n",
    "predictions = model.predict(X)\n",
    "print(classification_report(y2, predictions))"
   ]
  },
  {
   "cell_type": "code",
   "execution_count": null,
   "metadata": {
    "collapsed": true
   },
   "outputs": [],
   "source": []
  }
 ],
 "metadata": {
  "kernelspec": {
   "display_name": "Python 2",
   "language": "python",
   "name": "python2"
  },
  "language_info": {
   "codemirror_mode": {
    "name": "ipython",
    "version": 2
   },
   "file_extension": ".py",
   "mimetype": "text/x-python",
   "name": "python",
   "nbconvert_exporter": "python",
   "pygments_lexer": "ipython2",
   "version": "2.7.13"
  }
 },
 "nbformat": 4,
 "nbformat_minor": 2
}
