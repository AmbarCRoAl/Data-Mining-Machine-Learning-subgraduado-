{
 "cells": [
  {
   "cell_type": "markdown",
   "metadata": {},
   "source": [
    "### ESMA 4016\n",
    "### Regresion Logistica y uso de la libreria H20\n",
    "#### Edgar Acuna"
   ]
  },
  {
   "cell_type": "code",
   "execution_count": 33,
   "metadata": {
    "scrolled": true
   },
   "outputs": [
    {
     "name": "stdout",
     "output_type": "stream",
     "text": [
      "Checking whether there is an H2O instance running at http://localhost:54321. connected.\n"
     ]
    },
    {
     "data": {
      "text/html": [
       "<div style=\"overflow:auto\"><table style=\"width:50%\"><tr><td>H2O cluster uptime:</td>\n",
       "<td>28 mins 41 secs</td></tr>\n",
       "<tr><td>H2O cluster timezone:</td>\n",
       "<td>America/La_Paz</td></tr>\n",
       "<tr><td>H2O data parsing timezone:</td>\n",
       "<td>UTC</td></tr>\n",
       "<tr><td>H2O cluster version:</td>\n",
       "<td>3.18.0.6</td></tr>\n",
       "<tr><td>H2O cluster version age:</td>\n",
       "<td>2 days </td></tr>\n",
       "<tr><td>H2O cluster name:</td>\n",
       "<td>H2O_from_python_edgar2017_mafsc6</td></tr>\n",
       "<tr><td>H2O cluster total nodes:</td>\n",
       "<td>1</td></tr>\n",
       "<tr><td>H2O cluster free memory:</td>\n",
       "<td>1.553 Gb</td></tr>\n",
       "<tr><td>H2O cluster total cores:</td>\n",
       "<td>4</td></tr>\n",
       "<tr><td>H2O cluster allowed cores:</td>\n",
       "<td>4</td></tr>\n",
       "<tr><td>H2O cluster status:</td>\n",
       "<td>locked, healthy</td></tr>\n",
       "<tr><td>H2O connection url:</td>\n",
       "<td>http://localhost:54321</td></tr>\n",
       "<tr><td>H2O connection proxy:</td>\n",
       "<td>None</td></tr>\n",
       "<tr><td>H2O internal security:</td>\n",
       "<td>False</td></tr>\n",
       "<tr><td>H2O API Extensions:</td>\n",
       "<td>Algos, AutoML, Core V3, Core V4</td></tr>\n",
       "<tr><td>Python version:</td>\n",
       "<td>2.7.13 final</td></tr></table></div>"
      ],
      "text/plain": [
       "--------------------------  --------------------------------\n",
       "H2O cluster uptime:         28 mins 41 secs\n",
       "H2O cluster timezone:       America/La_Paz\n",
       "H2O data parsing timezone:  UTC\n",
       "H2O cluster version:        3.18.0.6\n",
       "H2O cluster version age:    2 days\n",
       "H2O cluster name:           H2O_from_python_edgar2017_mafsc6\n",
       "H2O cluster total nodes:    1\n",
       "H2O cluster free memory:    1.553 Gb\n",
       "H2O cluster total cores:    4\n",
       "H2O cluster allowed cores:  4\n",
       "H2O cluster status:         locked, healthy\n",
       "H2O connection url:         http://localhost:54321\n",
       "H2O connection proxy:\n",
       "H2O internal security:      False\n",
       "H2O API Extensions:         Algos, AutoML, Core V3, Core V4\n",
       "Python version:             2.7.13 final\n",
       "--------------------------  --------------------------------"
      ]
     },
     "metadata": {},
     "output_type": "display_data"
    }
   ],
   "source": [
    "import h2o\n",
    "import numpy as np\n",
    "import pandas as pd\n",
    "from sklearn.linear_model import LogisticRegressionCV\n",
    "from sklearn.ensemble import RandomForestClassifier\n",
    "from sklearn.model_selection import train_test_split\n",
    "from sklearn.preprocessing import StandardScaler\n",
    "from sklearn.metrics import roc_auc_score\n",
    "from sklearn.tree import DecisionTreeClassifier\n",
    "\n",
    "from h2o.estimators.random_forest import H2ORandomForestEstimator\n",
    "from h2o.estimators.naive_bayes import H2ONaiveBayesEstimator\n",
    "\n",
    "\n",
    "h2o.init()\n",
    "h2o.no_progress()\n"
   ]
  },
  {
   "cell_type": "code",
   "execution_count": 35,
   "metadata": {},
   "outputs": [
    {
     "name": "stdout",
     "output_type": "stream",
     "text": [
      "0.72265625\n"
     ]
    }
   ],
   "source": [
    "#Aplicando Naive Bayes a  Diabetes\n",
    "diabetes = h2o.import_file(\"https://academic.uprm.edu/eacuna/diabetes.dat\")\n",
    "myx=['C1','C2','C3','C4','C5','C6','C7','C8']\n",
    "diabetes['C9']=diabetes['C9'].asfactor()\n",
    "myy=\"C9\"\n",
    "# Create test/train split\n",
    "#train, test = vehicle.split_frame(ratios=[0.75], seed=1)\n",
    "model=H2ONaiveBayesEstimator()\n",
    "model.train(myx, myy, training_frame = diabetes)\n",
    "y_pred=model.predict(diabetes)\n",
    "print (y_pred['predict']==diabetes['C9']).sum()/float(768)"
   ]
  },
  {
   "cell_type": "code",
   "execution_count": 36,
   "metadata": {},
   "outputs": [
    {
     "data": {
      "text/html": [
       "<table>\n",
       "<thead>\n",
       "<tr><th>Sexo  </th><th style=\"text-align: right;\">  Familia</th><th>CasPropia  </th><th style=\"text-align: right;\">  AnosEmpleo</th><th style=\"text-align: right;\">  Sueldo</th><th>StatustMarital  </th><th>Prestamo  </th></tr>\n",
       "</thead>\n",
       "<tbody>\n",
       "<tr><td>Hombre</td><td style=\"text-align: right;\">        3</td><td>No         </td><td style=\"text-align: right;\">          17</td><td style=\"text-align: right;\">    2500</td><td>Soltero         </td><td>No        </td></tr>\n",
       "<tr><td>Mujer </td><td style=\"text-align: right;\">        5</td><td>Si         </td><td style=\"text-align: right;\">          10</td><td style=\"text-align: right;\">    3000</td><td>Casado          </td><td>Si        </td></tr>\n",
       "<tr><td>Mujer </td><td style=\"text-align: right;\">        4</td><td>No         </td><td style=\"text-align: right;\">          15</td><td style=\"text-align: right;\">    2000</td><td>Viudo           </td><td>No        </td></tr>\n",
       "<tr><td>Hombre</td><td style=\"text-align: right;\">        3</td><td>Si         </td><td style=\"text-align: right;\">          16</td><td style=\"text-align: right;\">    2800</td><td>Soltero         </td><td>Si        </td></tr>\n",
       "<tr><td>Hombre</td><td style=\"text-align: right;\">        6</td><td>Si         </td><td style=\"text-align: right;\">          11</td><td style=\"text-align: right;\">    4000</td><td>Viudo           </td><td>Si        </td></tr>\n",
       "<tr><td>Mujer </td><td style=\"text-align: right;\">        4</td><td>Si         </td><td style=\"text-align: right;\">          26</td><td style=\"text-align: right;\">    3200</td><td>Soltero         </td><td>Si        </td></tr>\n",
       "<tr><td>Mujer </td><td style=\"text-align: right;\">        2</td><td>Si         </td><td style=\"text-align: right;\">          14</td><td style=\"text-align: right;\">    1800</td><td>Soltero         </td><td>No        </td></tr>\n",
       "<tr><td>Hombre</td><td style=\"text-align: right;\">        5</td><td>Si         </td><td style=\"text-align: right;\">          10</td><td style=\"text-align: right;\">    3750</td><td>Casado          </td><td>Si        </td></tr>\n",
       "<tr><td>Hombre</td><td style=\"text-align: right;\">        6</td><td>No         </td><td style=\"text-align: right;\">          18</td><td style=\"text-align: right;\">    2970</td><td>Divorciado      </td><td>No        </td></tr>\n",
       "<tr><td>Hombre</td><td style=\"text-align: right;\">        4</td><td>Si         </td><td style=\"text-align: right;\">          12</td><td style=\"text-align: right;\">    3350</td><td>Divorciado      </td><td>No        </td></tr>\n",
       "</tbody>\n",
       "</table>"
      ]
     },
     "metadata": {},
     "output_type": "display_data"
    },
    {
     "data": {
      "text/plain": []
     },
     "execution_count": 36,
     "metadata": {},
     "output_type": "execute_result"
    }
   ],
   "source": [
    "#Aplicando Naive bayes a un dataset que tiene datos continuos y categoricos\n",
    "loan = h2o.import_file(\"https://academic.uprm.edu/eacuna/datosarbol.csv\")\n",
    "loan"
   ]
  },
  {
   "cell_type": "code",
   "execution_count": 38,
   "metadata": {},
   "outputs": [
    {
     "name": "stdout",
     "output_type": "stream",
     "text": [
      "0.88\n",
      "\n",
      "ModelMetricsBinomial: naivebayes\n",
      "** Reported on test data. **\n",
      "\n",
      "MSE: 0.0854946728279\n",
      "RMSE: 0.29239472093\n",
      "LogLoss: 0.277825390866\n",
      "Mean Per-Class Error: 0.1\n",
      "AUC: 0.96\n",
      "Gini: 0.92\n",
      "Confusion Matrix (Act/Pred) for max f1 @ threshold = 0.458241448484: \n"
     ]
    },
    {
     "data": {
      "text/html": [
       "<div style=\"overflow:auto\"><table style=\"width:50%\"><tr><td><b></b></td>\n",
       "<td><b>No</b></td>\n",
       "<td><b>Si</b></td>\n",
       "<td><b>Error</b></td>\n",
       "<td><b>Rate</b></td></tr>\n",
       "<tr><td>No</td>\n",
       "<td>7.0</td>\n",
       "<td>3.0</td>\n",
       "<td>0.3</td>\n",
       "<td> (3.0/10.0)</td></tr>\n",
       "<tr><td>Si</td>\n",
       "<td>0.0</td>\n",
       "<td>15.0</td>\n",
       "<td>0.0</td>\n",
       "<td> (0.0/15.0)</td></tr>\n",
       "<tr><td>Total</td>\n",
       "<td>7.0</td>\n",
       "<td>18.0</td>\n",
       "<td>0.12</td>\n",
       "<td> (3.0/25.0)</td></tr></table></div>"
      ],
      "text/plain": [
       "       No    Si    Error    Rate\n",
       "-----  ----  ----  -------  ----------\n",
       "No     7     3     0.3      (3.0/10.0)\n",
       "Si     0     15    0        (0.0/15.0)\n",
       "Total  7     18    0.12     (3.0/25.0)"
      ]
     },
     "metadata": {},
     "output_type": "display_data"
    },
    {
     "name": "stdout",
     "output_type": "stream",
     "text": [
      "Maximum Metrics: Maximum metrics at their respective thresholds\n",
      "\n"
     ]
    },
    {
     "data": {
      "text/html": [
       "<div style=\"overflow:auto\"><table style=\"width:50%\"><tr><td><b>metric</b></td>\n",
       "<td><b>threshold</b></td>\n",
       "<td><b>value</b></td>\n",
       "<td><b>idx</b></td></tr>\n",
       "<tr><td>max f1</td>\n",
       "<td>0.4582414</td>\n",
       "<td>0.9090909</td>\n",
       "<td>17.0</td></tr>\n",
       "<tr><td>max f2</td>\n",
       "<td>0.4582414</td>\n",
       "<td>0.9615385</td>\n",
       "<td>17.0</td></tr>\n",
       "<tr><td>max f0point5</td>\n",
       "<td>0.6756497</td>\n",
       "<td>0.9523810</td>\n",
       "<td>11.0</td></tr>\n",
       "<tr><td>max accuracy</td>\n",
       "<td>0.6756497</td>\n",
       "<td>0.88</td>\n",
       "<td>11.0</td></tr>\n",
       "<tr><td>max precision</td>\n",
       "<td>0.9996507</td>\n",
       "<td>1.0</td>\n",
       "<td>0.0</td></tr>\n",
       "<tr><td>max recall</td>\n",
       "<td>0.4582414</td>\n",
       "<td>1.0</td>\n",
       "<td>17.0</td></tr>\n",
       "<tr><td>max specificity</td>\n",
       "<td>0.9996507</td>\n",
       "<td>1.0</td>\n",
       "<td>0.0</td></tr>\n",
       "<tr><td>max absolute_mcc</td>\n",
       "<td>0.6756497</td>\n",
       "<td>0.7844645</td>\n",
       "<td>11.0</td></tr>\n",
       "<tr><td>max min_per_class_accuracy</td>\n",
       "<td>0.5195887</td>\n",
       "<td>0.8666667</td>\n",
       "<td>13.0</td></tr>\n",
       "<tr><td>max mean_per_class_accuracy</td>\n",
       "<td>0.6756497</td>\n",
       "<td>0.9</td>\n",
       "<td>11.0</td></tr></table></div>"
      ],
      "text/plain": [
       "metric                       threshold    value     idx\n",
       "---------------------------  -----------  --------  -----\n",
       "max f1                       0.458241     0.909091  17\n",
       "max f2                       0.458241     0.961538  17\n",
       "max f0point5                 0.67565      0.952381  11\n",
       "max accuracy                 0.67565      0.88      11\n",
       "max precision                0.999651     1         0\n",
       "max recall                   0.458241     1         17\n",
       "max specificity              0.999651     1         0\n",
       "max absolute_mcc             0.67565      0.784465  11\n",
       "max min_per_class_accuracy   0.519589     0.866667  13\n",
       "max mean_per_class_accuracy  0.67565      0.9       11"
      ]
     },
     "metadata": {},
     "output_type": "display_data"
    },
    {
     "name": "stdout",
     "output_type": "stream",
     "text": [
      "Gains/Lift Table: Avg response rate: 60.00 %\n",
      "\n"
     ]
    },
    {
     "data": {
      "text/html": [
       "<div style=\"overflow:auto\"><table style=\"width:50%\"><tr><td><b></b></td>\n",
       "<td><b>group</b></td>\n",
       "<td><b>cumulative_data_fraction</b></td>\n",
       "<td><b>lower_threshold</b></td>\n",
       "<td><b>lift</b></td>\n",
       "<td><b>cumulative_lift</b></td>\n",
       "<td><b>response_rate</b></td>\n",
       "<td><b>cumulative_response_rate</b></td>\n",
       "<td><b>capture_rate</b></td>\n",
       "<td><b>cumulative_capture_rate</b></td>\n",
       "<td><b>gain</b></td>\n",
       "<td><b>cumulative_gain</b></td></tr>\n",
       "<tr><td></td>\n",
       "<td>1</td>\n",
       "<td>0.04</td>\n",
       "<td>0.9995576</td>\n",
       "<td>1.6666667</td>\n",
       "<td>1.6666667</td>\n",
       "<td>1.0</td>\n",
       "<td>1.0</td>\n",
       "<td>0.0666667</td>\n",
       "<td>0.0666667</td>\n",
       "<td>66.6666667</td>\n",
       "<td>66.6666667</td></tr>\n",
       "<tr><td></td>\n",
       "<td>2</td>\n",
       "<td>0.04</td>\n",
       "<td>0.9994645</td>\n",
       "<td>0.0</td>\n",
       "<td>1.6666667</td>\n",
       "<td>0.0</td>\n",
       "<td>1.0</td>\n",
       "<td>0.0</td>\n",
       "<td>0.0666667</td>\n",
       "<td>-100.0</td>\n",
       "<td>66.6666667</td></tr>\n",
       "<tr><td></td>\n",
       "<td>3</td>\n",
       "<td>0.04</td>\n",
       "<td>0.9993714</td>\n",
       "<td>0.0</td>\n",
       "<td>1.6666667</td>\n",
       "<td>0.0</td>\n",
       "<td>1.0</td>\n",
       "<td>0.0</td>\n",
       "<td>0.0666667</td>\n",
       "<td>-100.0</td>\n",
       "<td>66.6666667</td></tr>\n",
       "<tr><td></td>\n",
       "<td>4</td>\n",
       "<td>0.04</td>\n",
       "<td>0.9992784</td>\n",
       "<td>0.0</td>\n",
       "<td>1.6666667</td>\n",
       "<td>0.0</td>\n",
       "<td>1.0</td>\n",
       "<td>0.0</td>\n",
       "<td>0.0666667</td>\n",
       "<td>-100.0</td>\n",
       "<td>66.6666667</td></tr>\n",
       "<tr><td></td>\n",
       "<td>5</td>\n",
       "<td>0.08</td>\n",
       "<td>0.9992516</td>\n",
       "<td>1.6666667</td>\n",
       "<td>1.6666667</td>\n",
       "<td>1.0</td>\n",
       "<td>1.0</td>\n",
       "<td>0.0666667</td>\n",
       "<td>0.1333333</td>\n",
       "<td>66.6666667</td>\n",
       "<td>66.6666667</td></tr>\n",
       "<tr><td></td>\n",
       "<td>6</td>\n",
       "<td>0.12</td>\n",
       "<td>0.9990432</td>\n",
       "<td>1.6666667</td>\n",
       "<td>1.6666667</td>\n",
       "<td>1.0</td>\n",
       "<td>1.0</td>\n",
       "<td>0.0666667</td>\n",
       "<td>0.2</td>\n",
       "<td>66.6666667</td>\n",
       "<td>66.6666667</td></tr>\n",
       "<tr><td></td>\n",
       "<td>7</td>\n",
       "<td>0.16</td>\n",
       "<td>0.9980499</td>\n",
       "<td>1.6666667</td>\n",
       "<td>1.6666667</td>\n",
       "<td>1.0</td>\n",
       "<td>1.0</td>\n",
       "<td>0.0666667</td>\n",
       "<td>0.2666667</td>\n",
       "<td>66.6666667</td>\n",
       "<td>66.6666667</td></tr>\n",
       "<tr><td></td>\n",
       "<td>8</td>\n",
       "<td>0.2</td>\n",
       "<td>0.9644366</td>\n",
       "<td>1.6666667</td>\n",
       "<td>1.6666667</td>\n",
       "<td>1.0</td>\n",
       "<td>1.0</td>\n",
       "<td>0.0666667</td>\n",
       "<td>0.3333333</td>\n",
       "<td>66.6666667</td>\n",
       "<td>66.6666667</td></tr>\n",
       "<tr><td></td>\n",
       "<td>9</td>\n",
       "<td>0.32</td>\n",
       "<td>0.8380636</td>\n",
       "<td>1.6666667</td>\n",
       "<td>1.6666667</td>\n",
       "<td>1.0</td>\n",
       "<td>1.0</td>\n",
       "<td>0.2</td>\n",
       "<td>0.5333333</td>\n",
       "<td>66.6666667</td>\n",
       "<td>66.6666667</td></tr>\n",
       "<tr><td></td>\n",
       "<td>10</td>\n",
       "<td>0.4</td>\n",
       "<td>0.7071564</td>\n",
       "<td>1.6666667</td>\n",
       "<td>1.6666667</td>\n",
       "<td>1.0</td>\n",
       "<td>1.0</td>\n",
       "<td>0.1333333</td>\n",
       "<td>0.6666667</td>\n",
       "<td>66.6666667</td>\n",
       "<td>66.6666667</td></tr>\n",
       "<tr><td></td>\n",
       "<td>11</td>\n",
       "<td>0.52</td>\n",
       "<td>0.6045712</td>\n",
       "<td>1.1111111</td>\n",
       "<td>1.5384615</td>\n",
       "<td>0.6666667</td>\n",
       "<td>0.9230769</td>\n",
       "<td>0.1333333</td>\n",
       "<td>0.8</td>\n",
       "<td>11.1111111</td>\n",
       "<td>53.8461538</td></tr>\n",
       "<tr><td></td>\n",
       "<td>12</td>\n",
       "<td>0.6</td>\n",
       "<td>0.4742733</td>\n",
       "<td>0.8333333</td>\n",
       "<td>1.4444444</td>\n",
       "<td>0.5</td>\n",
       "<td>0.8666667</td>\n",
       "<td>0.0666667</td>\n",
       "<td>0.8666667</td>\n",
       "<td>-16.6666667</td>\n",
       "<td>44.4444444</td></tr>\n",
       "<tr><td></td>\n",
       "<td>13</td>\n",
       "<td>0.68</td>\n",
       "<td>0.4597614</td>\n",
       "<td>0.8333333</td>\n",
       "<td>1.3725490</td>\n",
       "<td>0.5</td>\n",
       "<td>0.8235294</td>\n",
       "<td>0.0666667</td>\n",
       "<td>0.9333333</td>\n",
       "<td>-16.6666667</td>\n",
       "<td>37.2549020</td></tr>\n",
       "<tr><td></td>\n",
       "<td>14</td>\n",
       "<td>0.8</td>\n",
       "<td>0.1353080</td>\n",
       "<td>0.5555556</td>\n",
       "<td>1.25</td>\n",
       "<td>0.3333333</td>\n",
       "<td>0.75</td>\n",
       "<td>0.0666667</td>\n",
       "<td>1.0</td>\n",
       "<td>-44.4444444</td>\n",
       "<td>25.0</td></tr>\n",
       "<tr><td></td>\n",
       "<td>15</td>\n",
       "<td>0.88</td>\n",
       "<td>0.0693495</td>\n",
       "<td>0.0</td>\n",
       "<td>1.1363636</td>\n",
       "<td>0.0</td>\n",
       "<td>0.6818182</td>\n",
       "<td>0.0</td>\n",
       "<td>1.0</td>\n",
       "<td>-100.0</td>\n",
       "<td>13.6363636</td></tr>\n",
       "<tr><td></td>\n",
       "<td>16</td>\n",
       "<td>1.0</td>\n",
       "<td>0.0271382</td>\n",
       "<td>0.0</td>\n",
       "<td>1.0</td>\n",
       "<td>0.0</td>\n",
       "<td>0.6</td>\n",
       "<td>0.0</td>\n",
       "<td>1.0</td>\n",
       "<td>-100.0</td>\n",
       "<td>0.0</td></tr></table></div>"
      ],
      "text/plain": [
       "    group    cumulative_data_fraction    lower_threshold    lift      cumulative_lift    response_rate    cumulative_response_rate    capture_rate    cumulative_capture_rate    gain      cumulative_gain\n",
       "--  -------  --------------------------  -----------------  --------  -----------------  ---------------  --------------------------  --------------  -------------------------  --------  -----------------\n",
       "    1        0.04                        0.999558           1.66667   1.66667            1                1                           0.0666667       0.0666667                  66.6667   66.6667\n",
       "    2        0.04                        0.999465           0         1.66667            0                1                           0               0.0666667                  -100      66.6667\n",
       "    3        0.04                        0.999371           0         1.66667            0                1                           0               0.0666667                  -100      66.6667\n",
       "    4        0.04                        0.999278           0         1.66667            0                1                           0               0.0666667                  -100      66.6667\n",
       "    5        0.08                        0.999252           1.66667   1.66667            1                1                           0.0666667       0.133333                   66.6667   66.6667\n",
       "    6        0.12                        0.999043           1.66667   1.66667            1                1                           0.0666667       0.2                        66.6667   66.6667\n",
       "    7        0.16                        0.99805            1.66667   1.66667            1                1                           0.0666667       0.266667                   66.6667   66.6667\n",
       "    8        0.2                         0.964437           1.66667   1.66667            1                1                           0.0666667       0.333333                   66.6667   66.6667\n",
       "    9        0.32                        0.838064           1.66667   1.66667            1                1                           0.2             0.533333                   66.6667   66.6667\n",
       "    10       0.4                         0.707156           1.66667   1.66667            1                1                           0.133333        0.666667                   66.6667   66.6667\n",
       "    11       0.52                        0.604571           1.11111   1.53846            0.666667         0.923077                    0.133333        0.8                        11.1111   53.8462\n",
       "    12       0.6                         0.474273           0.833333  1.44444            0.5              0.866667                    0.0666667       0.866667                   -16.6667  44.4444\n",
       "    13       0.68                        0.459761           0.833333  1.37255            0.5              0.823529                    0.0666667       0.933333                   -16.6667  37.2549\n",
       "    14       0.8                         0.135308           0.555556  1.25               0.333333         0.75                        0.0666667       1                          -44.4444  25\n",
       "    15       0.88                        0.0693495          0         1.13636            0                0.681818                    0               1                          -100      13.6364\n",
       "    16       1                           0.0271382          0         1                  0                0.6                         0               1                          -100      0"
      ]
     },
     "metadata": {},
     "output_type": "display_data"
    },
    {
     "name": "stdout",
     "output_type": "stream",
     "text": [
      "\n"
     ]
    },
    {
     "data": {
      "text/plain": []
     },
     "execution_count": 38,
     "metadata": {},
     "output_type": "execute_result"
    }
   ],
   "source": [
    "loan = h2o.import_file(\"https://academic.uprm.edu/eacuna/datosarbol.csv\")\n",
    "myx=['Sexo','Familia','CasPropia', 'AnosEmpleo','Sueldo','StatustMarital']\n",
    "loan['Prestamo']=loan['Prestamo'].asfactor()\n",
    "myy=\"Prestamo\"\n",
    "# Create test/train split\n",
    "#train, test = vehicle.split_frame(ratios=[0.75], seed=1)\n",
    "model=H2ONaiveBayesEstimator()\n",
    "model.train(myx, myy, training_frame = loan)\n",
    "y_pred=model.predict(loan)\n",
    "print (y_pred['predict']==loan['Prestamo']).sum()/float(25)\n",
    "model.model_performance(loan)"
   ]
  },
  {
   "cell_type": "code",
   "execution_count": 39,
   "metadata": {
    "scrolled": false
   },
   "outputs": [
    {
     "name": "stdout",
     "output_type": "stream",
     "text": [
      "0.472813238771\n",
      "\n",
      "ModelMetricsMultinomial: naivebayes\n",
      "** Reported on test data. **\n",
      "\n",
      "MSE: 0.435659850789\n",
      "RMSE: 0.660045339949\n",
      "LogLoss: 2.39864325324\n",
      "Mean Per-Class Error: 0.51830069164\n",
      "Confusion Matrix: Row labels: Actual class; Column labels: Predicted class\n",
      "\n"
     ]
    },
    {
     "data": {
      "text/html": [
       "<div style=\"overflow:auto\"><table style=\"width:50%\"><tr><td><b>1</b></td>\n",
       "<td><b>2</b></td>\n",
       "<td><b>3</b></td>\n",
       "<td><b>4</b></td>\n",
       "<td><b>Error</b></td>\n",
       "<td><b>Rate</b></td></tr>\n",
       "<tr><td>39.0</td>\n",
       "<td>35.0</td>\n",
       "<td>11.0</td>\n",
       "<td>133.0</td>\n",
       "<td>0.8211009</td>\n",
       "<td>179 / 218</td></tr>\n",
       "<tr><td>1.0</td>\n",
       "<td>93.0</td>\n",
       "<td>55.0</td>\n",
       "<td>63.0</td>\n",
       "<td>0.5613208</td>\n",
       "<td>119 / 212</td></tr>\n",
       "<tr><td>2.0</td>\n",
       "<td>58.0</td>\n",
       "<td>90.0</td>\n",
       "<td>67.0</td>\n",
       "<td>0.5852535</td>\n",
       "<td>127 / 217</td></tr>\n",
       "<tr><td>10.0</td>\n",
       "<td>3.0</td>\n",
       "<td>8.0</td>\n",
       "<td>178.0</td>\n",
       "<td>0.1055276</td>\n",
       "<td>21 / 199</td></tr>\n",
       "<tr><td>52.0</td>\n",
       "<td>189.0</td>\n",
       "<td>164.0</td>\n",
       "<td>441.0</td>\n",
       "<td>0.5271868</td>\n",
       "<td>446 / 846</td></tr></table></div>"
      ],
      "text/plain": [
       "1    2    3    4    Error     Rate\n",
       "---  ---  ---  ---  --------  ---------\n",
       "39   35   11   133  0.821101  179 / 218\n",
       "1    93   55   63   0.561321  119 / 212\n",
       "2    58   90   67   0.585253  127 / 217\n",
       "10   3    8    178  0.105528  21 / 199\n",
       "52   189  164  441  0.527187  446 / 846"
      ]
     },
     "metadata": {},
     "output_type": "display_data"
    },
    {
     "name": "stdout",
     "output_type": "stream",
     "text": [
      "Top-4 Hit Ratios: \n"
     ]
    },
    {
     "data": {
      "text/html": [
       "<div style=\"overflow:auto\"><table style=\"width:50%\"><tr><td><b>k</b></td>\n",
       "<td><b>hit_ratio</b></td></tr>\n",
       "<tr><td>1</td>\n",
       "<td>0.4728133</td></tr>\n",
       "<tr><td>2</td>\n",
       "<td>0.8120568</td></tr>\n",
       "<tr><td>3</td>\n",
       "<td>0.9503546</td></tr>\n",
       "<tr><td>4</td>\n",
       "<td>1.0</td></tr></table></div>"
      ],
      "text/plain": [
       "k    hit_ratio\n",
       "---  -----------\n",
       "1    0.472813\n",
       "2    0.812057\n",
       "3    0.950355\n",
       "4    1"
      ]
     },
     "metadata": {},
     "output_type": "display_data"
    },
    {
     "data": {
      "text/plain": []
     },
     "execution_count": 39,
     "metadata": {},
     "output_type": "execute_result"
    }
   ],
   "source": [
    "#Aplicando Naive Baye  a vehicle\n",
    "vehicle = h2o.import_file(\"https://academic.uprm.edu/eacuna/vehicle.csv\")\n",
    "myx=['V1','V2','V3','V4','V5','V6','V7','V8','V9','V10','V11','V12','V13','V14','V15','V16','V17','V18']\n",
    "vehicle['class']=vehicle['class'].asfactor()\n",
    "myy=\"class\"\n",
    "# Create test/train split\n",
    "#train, test = vehicle.split_frame(ratios=[0.75], seed=1)\n",
    "model=H2ONaiveBayesEstimator()\n",
    "model.train(myx, myy, training_frame = vehicle)\n",
    "y_pred=model.predict(vehicle)\n",
    "print (y_pred['predict']==vehicle['class']).sum()/float(846)\n",
    "model.model_performance(vehicle)"
   ]
  }
 ],
 "metadata": {
  "kernelspec": {
   "display_name": "Python 2",
   "language": "python",
   "name": "python2"
  },
  "language_info": {
   "codemirror_mode": {
    "name": "ipython",
    "version": 2
   },
   "file_extension": ".py",
   "mimetype": "text/x-python",
   "name": "python",
   "nbconvert_exporter": "python",
   "pygments_lexer": "ipython2",
   "version": "2.7.13"
  }
 },
 "nbformat": 4,
 "nbformat_minor": 2
}
