{
 "cells": [
  {
   "cell_type": "markdown",
   "metadata": {},
   "source": [
    "### ESMA 4016\n",
    "### Regresion Logistica con las libreria H20  y scikit-learn varias clases\n",
    "#### Edgar Acuna"
   ]
  },
  {
   "cell_type": "code",
   "execution_count": 17,
   "metadata": {
    "scrolled": true
   },
   "outputs": [
    {
     "name": "stdout",
     "output_type": "stream",
     "text": [
      "Checking whether there is an H2O instance running at http://localhost:54321. connected.\n"
     ]
    },
    {
     "data": {
      "text/html": [
       "<div style=\"overflow:auto\"><table style=\"width:50%\"><tr><td>H2O cluster uptime:</td>\n",
       "<td>11 hours 21 mins</td></tr>\n",
       "<tr><td>H2O cluster timezone:</td>\n",
       "<td>America/La_Paz</td></tr>\n",
       "<tr><td>H2O data parsing timezone:</td>\n",
       "<td>UTC</td></tr>\n",
       "<tr><td>H2O cluster version:</td>\n",
       "<td>3.18.0.6</td></tr>\n",
       "<tr><td>H2O cluster version age:</td>\n",
       "<td>4 days </td></tr>\n",
       "<tr><td>H2O cluster name:</td>\n",
       "<td>H2O_from_python_edgar2017_7mwin8</td></tr>\n",
       "<tr><td>H2O cluster total nodes:</td>\n",
       "<td>1</td></tr>\n",
       "<tr><td>H2O cluster free memory:</td>\n",
       "<td>1.581 Gb</td></tr>\n",
       "<tr><td>H2O cluster total cores:</td>\n",
       "<td>4</td></tr>\n",
       "<tr><td>H2O cluster allowed cores:</td>\n",
       "<td>4</td></tr>\n",
       "<tr><td>H2O cluster status:</td>\n",
       "<td>locked, healthy</td></tr>\n",
       "<tr><td>H2O connection url:</td>\n",
       "<td>http://localhost:54321</td></tr>\n",
       "<tr><td>H2O connection proxy:</td>\n",
       "<td>None</td></tr>\n",
       "<tr><td>H2O internal security:</td>\n",
       "<td>False</td></tr>\n",
       "<tr><td>H2O API Extensions:</td>\n",
       "<td>Algos, AutoML, Core V3, Core V4</td></tr>\n",
       "<tr><td>Python version:</td>\n",
       "<td>2.7.13 final</td></tr></table></div>"
      ],
      "text/plain": [
       "--------------------------  --------------------------------\n",
       "H2O cluster uptime:         11 hours 21 mins\n",
       "H2O cluster timezone:       America/La_Paz\n",
       "H2O data parsing timezone:  UTC\n",
       "H2O cluster version:        3.18.0.6\n",
       "H2O cluster version age:    4 days\n",
       "H2O cluster name:           H2O_from_python_edgar2017_7mwin8\n",
       "H2O cluster total nodes:    1\n",
       "H2O cluster free memory:    1.581 Gb\n",
       "H2O cluster total cores:    4\n",
       "H2O cluster allowed cores:  4\n",
       "H2O cluster status:         locked, healthy\n",
       "H2O connection url:         http://localhost:54321\n",
       "H2O connection proxy:\n",
       "H2O internal security:      False\n",
       "H2O API Extensions:         Algos, AutoML, Core V3, Core V4\n",
       "Python version:             2.7.13 final\n",
       "--------------------------  --------------------------------"
      ]
     },
     "metadata": {},
     "output_type": "display_data"
    }
   ],
   "source": [
    "import h2o\n",
    "import numpy as np\n",
    "import pandas as pd\n",
    "from sklearn.linear_model import LogisticRegression\n",
    "from sklearn.model_selection import train_test_split\n",
    "from sklearn.preprocessing import StandardScaler\n",
    "from sklearn.preprocessing import LabelEncoder\n",
    "from sklearn.metrics import roc_auc_score\n",
    "from sklearn.tree import DecisionTreeClassifier\n",
    "from sklearn.metrics import classification_report\n",
    "from h2o.estimators.random_forest import H2ORandomForestEstimator\n",
    "from h2o.estimators.naive_bayes import H2ONaiveBayesEstimator\n",
    "from h2o.estimators.glm   import H2OGeneralizedLinearEstimator\n",
    "\n",
    "h2o.init()\n",
    "h2o.no_progress()\n"
   ]
  },
  {
   "cell_type": "markdown",
   "metadata": {},
   "source": [
    "### I- Aplicando Regresion Logistica a  Vehicle  usando h20"
   ]
  },
  {
   "cell_type": "code",
   "execution_count": 18,
   "metadata": {},
   "outputs": [
    {
     "name": "stdout",
     "output_type": "stream",
     "text": [
      "Model Details\n",
      "=============\n",
      "H2OGeneralizedLinearEstimator :  Generalized Linear Modeling\n",
      "Model Key:  GLM_model_python_1524120852419_159\n",
      "\n",
      "\n",
      "ModelMetricsMultinomialGLM: glm\n",
      "** Reported on train data. **\n",
      "\n",
      "MSE: 0.11191357107\n",
      "RMSE: 0.33453485778\n",
      "Scoring History: \n"
     ]
    },
    {
     "data": {
      "text/html": [
       "<div style=\"overflow:auto\"><table style=\"width:50%\"><tr><td><b></b></td>\n",
       "<td><b>timestamp</b></td>\n",
       "<td><b>duration</b></td>\n",
       "<td><b>iterations</b></td>\n",
       "<td><b>negative_log_likelihood</b></td>\n",
       "<td><b>objective</b></td></tr>\n",
       "<tr><td></td>\n",
       "<td>2018-04-19 14:15:52</td>\n",
       "<td> 0.000 sec</td>\n",
       "<td>0</td>\n",
       "<td>1172.2577785</td>\n",
       "<td>1.3856475</td></tr>\n",
       "<tr><td></td>\n",
       "<td>2018-04-19 14:15:52</td>\n",
       "<td> 0.018 sec</td>\n",
       "<td>1</td>\n",
       "<td>491.0765863</td>\n",
       "<td>0.5804688</td></tr>\n",
       "<tr><td></td>\n",
       "<td>2018-04-19 14:15:52</td>\n",
       "<td> 0.031 sec</td>\n",
       "<td>2</td>\n",
       "<td>352.4440830</td>\n",
       "<td>0.4166006</td></tr>\n",
       "<tr><td></td>\n",
       "<td>2018-04-19 14:15:52</td>\n",
       "<td> 0.045 sec</td>\n",
       "<td>3</td>\n",
       "<td>309.2958840</td>\n",
       "<td>0.3655980</td></tr>\n",
       "<tr><td></td>\n",
       "<td>2018-04-19 14:15:52</td>\n",
       "<td> 0.059 sec</td>\n",
       "<td>4</td>\n",
       "<td>295.6671101</td>\n",
       "<td>0.3494883</td></tr>\n",
       "<tr><td>---</td>\n",
       "<td>---</td>\n",
       "<td>---</td>\n",
       "<td>---</td>\n",
       "<td>---</td>\n",
       "<td>---</td></tr>\n",
       "<tr><td></td>\n",
       "<td>2018-04-19 14:15:52</td>\n",
       "<td> 0.572 sec</td>\n",
       "<td>46</td>\n",
       "<td>283.8269327</td>\n",
       "<td>0.3354928</td></tr>\n",
       "<tr><td></td>\n",
       "<td>2018-04-19 14:15:52</td>\n",
       "<td> 0.584 sec</td>\n",
       "<td>47</td>\n",
       "<td>283.8233220</td>\n",
       "<td>0.3354886</td></tr>\n",
       "<tr><td></td>\n",
       "<td>2018-04-19 14:15:52</td>\n",
       "<td> 0.596 sec</td>\n",
       "<td>48</td>\n",
       "<td>283.8201451</td>\n",
       "<td>0.3354848</td></tr>\n",
       "<tr><td></td>\n",
       "<td>2018-04-19 14:15:52</td>\n",
       "<td> 0.608 sec</td>\n",
       "<td>49</td>\n",
       "<td>283.8172428</td>\n",
       "<td>0.3354814</td></tr>\n",
       "<tr><td></td>\n",
       "<td>2018-04-19 14:15:52</td>\n",
       "<td> 0.620 sec</td>\n",
       "<td>50</td>\n",
       "<td>283.8146870</td>\n",
       "<td>0.3354784</td></tr></table></div>"
      ],
      "text/plain": [
       "     timestamp            duration    iterations    negative_log_likelihood    objective\n",
       "---  -------------------  ----------  ------------  -------------------------  --------------\n",
       "     2018-04-19 14:15:52  0.000 sec   0             1172.25777847              1.38564749228\n",
       "     2018-04-19 14:15:52  0.018 sec   1             491.076586312              0.580468778146\n",
       "     2018-04-19 14:15:52  0.031 sec   2             352.444083048              0.416600570979\n",
       "     2018-04-19 14:15:52  0.045 sec   3             309.295884024              0.365597971659\n",
       "     2018-04-19 14:15:52  0.059 sec   4             295.667110105              0.349488309817\n",
       "---  ---                  ---         ---           ---                        ---\n",
       "     2018-04-19 14:15:52  0.572 sec   46            283.82693265               0.335492828192\n",
       "     2018-04-19 14:15:52  0.584 sec   47            283.82332198               0.33548856026\n",
       "     2018-04-19 14:15:52  0.596 sec   48            283.820145105              0.335484805089\n",
       "     2018-04-19 14:15:52  0.608 sec   49            283.81724277               0.335481374433\n",
       "     2018-04-19 14:15:52  0.620 sec   50            283.814686999              0.335478353427"
      ]
     },
     "metadata": {},
     "output_type": "display_data"
    },
    {
     "name": "stdout",
     "output_type": "stream",
     "text": [
      "\n",
      "See the whole table with table.as_data_frame()\n"
     ]
    },
    {
     "data": {
      "text/plain": []
     },
     "execution_count": 18,
     "metadata": {},
     "output_type": "execute_result"
    }
   ],
   "source": [
    "vehicle = h2o.import_file(\"https://academic.uprm.edu/eacuna/vehicle.csv\")\n",
    "predictors=['V1','V2','V3','V4','V5','V6','V7','V8','V9','V10','V11','V12','V13','V14','V15','V16','V17','V18']\n",
    "vehicle['class']=vehicle['class'].asfactor()\n",
    "response_col=\"class\"\n",
    "# Create test/train split\n",
    "#train, test = vehicle.split_frame(ratios=[0.75], seed=1)\n",
    "glm_model = H2OGeneralizedLinearEstimator(family= \"multinomial\", lambda_ = 0)\n",
    "glm_model.train(predictors, response_col, training_frame= vehicle)\n",
    "glm_model"
   ]
  },
  {
   "cell_type": "code",
   "execution_count": 19,
   "metadata": {},
   "outputs": [
    {
     "name": "stdout",
     "output_type": "stream",
     "text": [
      "0.83451536643\n"
     ]
    }
   ],
   "source": [
    "#Hallando la tasa de prediccion\n",
    "y_pred=glm_model.predict(vehicle)\n",
    "print (y_pred['predict']==vehicle['class']).sum()/float(len(vehicle))"
   ]
  },
  {
   "cell_type": "markdown",
   "metadata": {},
   "source": [
    "### II Regresion Logistica para vehicle usando scikit learn"
   ]
  },
  {
   "cell_type": "code",
   "execution_count": 20,
   "metadata": {},
   "outputs": [
    {
     "name": "stdout",
     "output_type": "stream",
     "text": [
      "             precision    recall  f1-score   support\n",
      "\n",
      "          1       0.93      0.97      0.95       218\n",
      "          2       0.70      0.61      0.65       212\n",
      "          3       0.67      0.71      0.69       217\n",
      "          4       0.96      0.97      0.97       199\n",
      "\n",
      "avg / total       0.81      0.82      0.81       846\n",
      "\n"
     ]
    }
   ],
   "source": [
    "df1=pd.read_csv(\"http://academic.uprm.edu/eacuna/vehicle.csv\")\n",
    "#Convirtiendo en matriz la tabla de predictoras y la columna de clases\n",
    "y=df1['class']\n",
    "X=df1.iloc[:,0:18]\n",
    "#Haciendo la regresion logistica y calculando su precision\n",
    "model = LogisticRegression()\n",
    "model = model.fit(X, y)\n",
    "model.score(X,y)\n",
    "predictions = model.predict(X)\n",
    "print(classification_report(y, predictions))"
   ]
  },
  {
   "cell_type": "markdown",
   "metadata": {},
   "source": [
    "### III. Regresion Logistica para  Landsat usando scikit-learn"
   ]
  },
  {
   "cell_type": "code",
   "execution_count": 21,
   "metadata": {},
   "outputs": [
    {
     "name": "stdout",
     "output_type": "stream",
     "text": [
      "             precision    recall  f1-score   support\n",
      "\n",
      "          1       0.96      0.99      0.97      1072\n",
      "          2       0.88      0.96      0.92       479\n",
      "          3       0.79      0.97      0.87       961\n",
      "          4       0.64      0.13      0.21       415\n",
      "          5       0.90      0.63      0.74       470\n",
      "          6       0.77      0.90      0.83      1038\n",
      "\n",
      "avg / total       0.83      0.84      0.82      4435\n",
      "\n"
     ]
    }
   ],
   "source": [
    "url='http://academic.uprm.edu/eacuna/landsat.txt'\n",
    "data = pd.read_table(url, header=None,delim_whitespace=True)\n",
    "y=data.iloc[:,36]\n",
    "X=data.iloc[:,0:36]\n",
    "#Haciendo la regresion logistica y calculando su precision\n",
    "model = LogisticRegression()\n",
    "model = model.fit(X, y)\n",
    "model.score(X,y)\n",
    "predictions = model.predict(X)\n",
    "print(classification_report(y, predictions))"
   ]
  },
  {
   "cell_type": "markdown",
   "metadata": {},
   "source": [
    "### Regresion Logistica para Landsat usando h20"
   ]
  },
  {
   "cell_type": "code",
   "execution_count": 27,
   "metadata": {},
   "outputs": [],
   "source": [
    "landsat = h2o.import_file(\"https://academic.uprm.edu/eacuna/landsat.txt\")\n",
    "predictors=['C1','C2','C3','C4','C5','C6','C7','C8','C9','C10','C11','C12','C13',\n",
    "            'C14','C15','C16','C17','C18','C19','C20','C21','C22','C23','C24','C25','C26','C27',\n",
    "           'C28','C29', 'C30','C31','C32','C33','C34','C35',\"C36\"]\n",
    "landsat['C37']=landsat['C37'].asfactor()\n",
    "response_col=\"C37\"\n"
   ]
  },
  {
   "cell_type": "code",
   "execution_count": 28,
   "metadata": {},
   "outputs": [
    {
     "name": "stdout",
     "output_type": "stream",
     "text": [
      "Model Details\n",
      "=============\n",
      "H2OGeneralizedLinearEstimator :  Generalized Linear Modeling\n",
      "Model Key:  GLM_model_python_1524120852419_161\n",
      "\n",
      "\n",
      "ModelMetricsMultinomialGLM: glm\n",
      "** Reported on train data. **\n",
      "\n",
      "MSE: 0.0944183823545\n",
      "RMSE: 0.307275743193\n",
      "Scoring History: \n"
     ]
    },
    {
     "data": {
      "text/html": [
       "<div style=\"overflow:auto\"><table style=\"width:50%\"><tr><td><b></b></td>\n",
       "<td><b>timestamp</b></td>\n",
       "<td><b>duration</b></td>\n",
       "<td><b>iterations</b></td>\n",
       "<td><b>negative_log_likelihood</b></td>\n",
       "<td><b>objective</b></td></tr>\n",
       "<tr><td></td>\n",
       "<td>2018-04-19 14:23:04</td>\n",
       "<td> 0.000 sec</td>\n",
       "<td>0</td>\n",
       "<td>7603.4530902</td>\n",
       "<td>1.7144201</td></tr>\n",
       "<tr><td></td>\n",
       "<td>2018-04-19 14:23:04</td>\n",
       "<td> 0.061 sec</td>\n",
       "<td>1</td>\n",
       "<td>3305.5076038</td>\n",
       "<td>0.7453230</td></tr>\n",
       "<tr><td></td>\n",
       "<td>2018-04-19 14:23:04</td>\n",
       "<td> 0.131 sec</td>\n",
       "<td>2</td>\n",
       "<td>1903.4490374</td>\n",
       "<td>0.4291881</td></tr>\n",
       "<tr><td></td>\n",
       "<td>2018-04-19 14:23:04</td>\n",
       "<td> 0.189 sec</td>\n",
       "<td>3</td>\n",
       "<td>1570.8020589</td>\n",
       "<td>0.3541831</td></tr>\n",
       "<tr><td></td>\n",
       "<td>2018-04-19 14:23:04</td>\n",
       "<td> 0.241 sec</td>\n",
       "<td>4</td>\n",
       "<td>1439.6670264</td>\n",
       "<td>0.3246149</td></tr>\n",
       "<tr><td>---</td>\n",
       "<td>---</td>\n",
       "<td>---</td>\n",
       "<td>---</td>\n",
       "<td>---</td>\n",
       "<td>---</td></tr>\n",
       "<tr><td></td>\n",
       "<td>2018-04-19 14:23:05</td>\n",
       "<td> 1.408 sec</td>\n",
       "<td>27</td>\n",
       "<td>1354.4232603</td>\n",
       "<td>0.3053942</td></tr>\n",
       "<tr><td></td>\n",
       "<td>2018-04-19 14:23:05</td>\n",
       "<td> 1.459 sec</td>\n",
       "<td>28</td>\n",
       "<td>1354.4200992</td>\n",
       "<td>0.3053935</td></tr>\n",
       "<tr><td></td>\n",
       "<td>2018-04-19 14:23:05</td>\n",
       "<td> 1.508 sec</td>\n",
       "<td>29</td>\n",
       "<td>1354.4176999</td>\n",
       "<td>0.3053929</td></tr>\n",
       "<tr><td></td>\n",
       "<td>2018-04-19 14:23:05</td>\n",
       "<td> 1.558 sec</td>\n",
       "<td>30</td>\n",
       "<td>1354.4160414</td>\n",
       "<td>0.3053926</td></tr>\n",
       "<tr><td></td>\n",
       "<td>2018-04-19 14:23:05</td>\n",
       "<td> 1.618 sec</td>\n",
       "<td>31</td>\n",
       "<td>1354.4147787</td>\n",
       "<td>0.3053923</td></tr></table></div>"
      ],
      "text/plain": [
       "     timestamp            duration    iterations    negative_log_likelihood    objective\n",
       "---  -------------------  ----------  ------------  -------------------------  --------------\n",
       "     2018-04-19 14:23:04  0.000 sec   0             7603.45309023              1.71442008799\n",
       "     2018-04-19 14:23:04  0.061 sec   1             3305.50760382              0.745323022282\n",
       "     2018-04-19 14:23:04  0.131 sec   2             1903.4490374               0.429188058039\n",
       "     2018-04-19 14:23:04  0.189 sec   3             1570.80205894              0.354183102354\n",
       "     2018-04-19 14:23:04  0.241 sec   4             1439.66702644              0.324614887584\n",
       "---  ---                  ---         ---           ---                        ---\n",
       "     2018-04-19 14:23:05  1.408 sec   27            1354.42326028              0.305394196229\n",
       "     2018-04-19 14:23:05  1.459 sec   28            1354.42009918              0.305393483468\n",
       "     2018-04-19 14:23:05  1.508 sec   29            1354.4176999               0.30539294248\n",
       "     2018-04-19 14:23:05  1.558 sec   30            1354.41604137              0.305392568515\n",
       "     2018-04-19 14:23:05  1.618 sec   31            1354.41477869              0.305392283809"
      ]
     },
     "metadata": {},
     "output_type": "display_data"
    },
    {
     "name": "stdout",
     "output_type": "stream",
     "text": [
      "\n",
      "See the whole table with table.as_data_frame()\n"
     ]
    },
    {
     "data": {
      "text/plain": []
     },
     "execution_count": 28,
     "metadata": {},
     "output_type": "execute_result"
    }
   ],
   "source": [
    "glm_model = H2OGeneralizedLinearEstimator(family= \"multinomial\", lambda_ = 0)\n",
    "glm_model.train(predictors, response_col, training_frame= landsat)\n",
    "glm_model"
   ]
  },
  {
   "cell_type": "code",
   "execution_count": 29,
   "metadata": {},
   "outputs": [
    {
     "name": "stdout",
     "output_type": "stream",
     "text": [
      "0.880721533258\n"
     ]
    }
   ],
   "source": [
    "#Hallando la tasa de prediccion\n",
    "y_pred=glm_model.predict(landsat)\n",
    "print (y_pred['predict']==landsat['C37']).sum()/float(len(landsat))"
   ]
  },
  {
   "cell_type": "code",
   "execution_count": null,
   "metadata": {
    "collapsed": true
   },
   "outputs": [],
   "source": []
  }
 ],
 "metadata": {
  "kernelspec": {
   "display_name": "Python 2",
   "language": "python",
   "name": "python2"
  },
  "language_info": {
   "codemirror_mode": {
    "name": "ipython",
    "version": 2
   },
   "file_extension": ".py",
   "mimetype": "text/x-python",
   "name": "python",
   "nbconvert_exporter": "python",
   "pygments_lexer": "ipython2",
   "version": "2.7.13"
  }
 },
 "nbformat": 4,
 "nbformat_minor": 2
}
